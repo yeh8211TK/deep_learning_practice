{
 "cells": [
  {
   "cell_type": "markdown",
   "metadata": {},
   "source": [
    "## 使用 TensorFlow 進行深度學習-2\n",
    "\n",
    "### 一、TensorFlow 下載 MNIST 辨識資料集\n",
    "- 資料集由 Yann LeCun (Convolutional Neural Networks 創始人) 所收集"
   ]
  },
  {
   "cell_type": "code",
   "execution_count": 1,
   "metadata": {},
   "outputs": [
    {
     "name": "stdout",
     "output_type": "stream",
     "text": [
      "WARNING:tensorflow:From <ipython-input-1-879d0e9176e8>:6: read_data_sets (from tensorflow.contrib.learn.python.learn.datasets.mnist) is deprecated and will be removed in a future version.\n",
      "Instructions for updating:\n",
      "Please use alternatives such as official/mnist/dataset.py from tensorflow/models.\n",
      "WARNING:tensorflow:From C:\\Users\\user\\Anaconda3\\envs\\tensorflow_ev\\lib\\site-packages\\tensorflow\\contrib\\learn\\python\\learn\\datasets\\mnist.py:260: maybe_download (from tensorflow.contrib.learn.python.learn.datasets.base) is deprecated and will be removed in a future version.\n",
      "Instructions for updating:\n",
      "Please write your own downloading logic.\n",
      "WARNING:tensorflow:From C:\\Users\\user\\Anaconda3\\envs\\tensorflow_ev\\lib\\site-packages\\tensorflow\\contrib\\learn\\python\\learn\\datasets\\mnist.py:262: extract_images (from tensorflow.contrib.learn.python.learn.datasets.mnist) is deprecated and will be removed in a future version.\n",
      "Instructions for updating:\n",
      "Please use tf.data to implement this functionality.\n",
      "Extracting MNIST_data/train-images-idx3-ubyte.gz\n",
      "WARNING:tensorflow:From C:\\Users\\user\\Anaconda3\\envs\\tensorflow_ev\\lib\\site-packages\\tensorflow\\contrib\\learn\\python\\learn\\datasets\\mnist.py:267: extract_labels (from tensorflow.contrib.learn.python.learn.datasets.mnist) is deprecated and will be removed in a future version.\n",
      "Instructions for updating:\n",
      "Please use tf.data to implement this functionality.\n",
      "Extracting MNIST_data/train-labels-idx1-ubyte.gz\n",
      "WARNING:tensorflow:From C:\\Users\\user\\Anaconda3\\envs\\tensorflow_ev\\lib\\site-packages\\tensorflow\\contrib\\learn\\python\\learn\\datasets\\mnist.py:110: dense_to_one_hot (from tensorflow.contrib.learn.python.learn.datasets.mnist) is deprecated and will be removed in a future version.\n",
      "Instructions for updating:\n",
      "Please use tf.one_hot on tensors.\n",
      "Extracting MNIST_data/t10k-images-idx3-ubyte.gz\n",
      "Extracting MNIST_data/t10k-labels-idx1-ubyte.gz\n",
      "WARNING:tensorflow:From C:\\Users\\user\\Anaconda3\\envs\\tensorflow_ev\\lib\\site-packages\\tensorflow\\contrib\\learn\\python\\learn\\datasets\\mnist.py:290: DataSet.__init__ (from tensorflow.contrib.learn.python.learn.datasets.mnist) is deprecated and will be removed in a future version.\n",
      "Instructions for updating:\n",
      "Please use alternatives such as official/mnist/dataset.py from tensorflow/models.\n",
      "-----------------------------------\n",
      "train data =  55000\n",
      "validation data =  5000\n",
      "test data =  10000\n",
      "-----------------------------------\n",
      "batch_images_xs =  100\n",
      "batch_labels_ts =  100\n",
      "-----------------------------------\n",
      "x_train_image: (55000, 784)\n",
      "t_train_label: (55000, 10)\n",
      "-----------------------------------\n",
      "x_validation_image: (5000, 784)\n",
      "t_validation_label: (5000, 10)\n",
      "-----------------------------------\n",
      "x_test_image: (10000, 784)\n",
      "t_test_label: (10000, 10)\n",
      "-----------------------------------\n"
     ]
    }
   ],
   "source": [
    "import tensorflow as tf\n",
    "# 讀取 MNIST 資料集模組\n",
    "import tensorflow.examples.tutorials.mnist.input_data as input_data\n",
    "\n",
    "# 下載並讀取 MNIST 資料\n",
    "mnist = input_data.read_data_sets(\"MNIST_data/\", one_hot = True)\n",
    "\n",
    "# 批次讀取 MNIST 資料\n",
    "batch_images_xs, batch_labels_ts = mnist.train.next_batch(batch_size = 100)\n",
    "print('-----------------------------------')\n",
    "\n",
    "# 查看 mnist 資料筆數\n",
    "print('train data = ', mnist.train.num_examples)\n",
    "print('validation data = ', mnist.validation.num_examples)\n",
    "print('test data = ', mnist.test.num_examples)\n",
    "print('-----------------------------------')\n",
    "\n",
    "# 查看批次 mnist 資料筆數\n",
    "print('batch_images_xs = ', len(batch_images_xs))\n",
    "print('batch_labels_ts = ', len(batch_labels_ts))\n",
    "print('-----------------------------------')\n",
    "\n",
    "# 查看訓練資料\n",
    "print('x_train_image:', mnist.train.images.shape)\n",
    "print('t_train_label:', mnist.train.labels.shape)\n",
    "print('-----------------------------------')\n",
    "\n",
    "# 查看驗證資料\n",
    "print('x_validation_image:', mnist.validation.images.shape)\n",
    "print('t_validation_label:', mnist.validation.labels.shape)\n",
    "print('-----------------------------------')\n",
    "\n",
    "# 查看測試資料\n",
    "print('x_test_image:',  mnist.test.images.shape)\n",
    "print('t_test_label:',  mnist.test.labels.shape)\n",
    "print('-----------------------------------')"
   ]
  },
  {
   "cell_type": "code",
   "execution_count": 2,
   "metadata": {},
   "outputs": [
    {
     "name": "stdout",
     "output_type": "stream",
     "text": [
      "顯示訓練資料前五個影像:\n"
     ]
    },
    {
     "data": {
      "text/plain": [
       "<Figure size 1200x1500 with 5 Axes>"
      ]
     },
     "metadata": {},
     "output_type": "display_data"
    },
    {
     "name": "stdout",
     "output_type": "stream",
     "text": [
      "---------------------------------------------------------------------------------------------\n",
      "顯示驗證資料前五個影像:\n"
     ]
    },
    {
     "data": {
      "text/plain": [
       "<Figure size 1200x1500 with 5 Axes>"
      ]
     },
     "metadata": {},
     "output_type": "display_data"
    },
    {
     "name": "stdout",
     "output_type": "stream",
     "text": [
      "---------------------------------------------------------------------------------------------\n",
      "顯示測試資料前五個影像:\n"
     ]
    },
    {
     "data": {
      "text/plain": [
       "<Figure size 1200x1500 with 5 Axes>"
      ]
     },
     "metadata": {},
     "output_type": "display_data"
    },
    {
     "name": "stdout",
     "output_type": "stream",
     "text": [
      "---------------------------------------------------------------------------------------------\n",
      "顯示批次資料前五個影像:\n"
     ]
    },
    {
     "data": {
      "text/plain": [
       "<Figure size 1200x1500 with 5 Axes>"
      ]
     },
     "metadata": {},
     "output_type": "display_data"
    },
    {
     "name": "stdout",
     "output_type": "stream",
     "text": [
      "---------------------------------------------------------------------------------------------\n"
     ]
    }
   ],
   "source": [
    "import matplotlib.pyplot as plt\n",
    "import numpy as np\n",
    "\n",
    "# 定義顯示資料的函數\n",
    "def plot_image_label_prediction(images, labels, prediction, idx, num = 5):\n",
    "    # 設定圖形的大小\n",
    "    fig = plt.gcf()\n",
    "    fig.set_size_inches(12, 15)\n",
    "    \n",
    "    if num > 10: num = 10\n",
    "    \n",
    "    for i in range(0, num):\n",
    "        # 建立子圖為 2 行 5 列\n",
    "        ax = plt.subplot(2, 5, 1+i)\n",
    "        \n",
    "        # 畫出子圖形; 使用 np.reshape 將 784 個數字轉換為二維 28*28 的影像\n",
    "        ax.imshow(np.reshape(images[idx], (28, 28)), cmap = 'binary')\n",
    "        \n",
    "        # 子圖 title 名稱; 因為 TensorFlow 的 MNIST 資料集，label 已經是 one-hot-encoding，必須轉換回數字\n",
    "        title = 'label =' + str(np.argmax(labels[idx]))\n",
    "        \n",
    "        # 若有預測資料，則顯示預測結果\n",
    "        if len(prediction) > 0:\n",
    "            title += ',predict =' + str(prediction[idx])\n",
    "        \n",
    "        ax.set_title(title, fontsize = 10)\n",
    "        ax.set_xticks([])\n",
    "        ax.set_yticks([])\n",
    "        \n",
    "        idx += 1\n",
    "        \n",
    "    plt.show()\n",
    "    \n",
    "# 顯示訓練資料前五個影像\n",
    "print('顯示訓練資料前五個影像:')\n",
    "plot_image_label_prediction(mnist.train.images,  mnist.train.labels, [], 0, 5)\n",
    "print('---------------------------------------------------------------------------------------------')\n",
    "\n",
    "# 顯示驗證資料前五個影像\n",
    "print('顯示驗證資料前五個影像:')\n",
    "plot_image_label_prediction(mnist.validation.images,  mnist.validation.labels, [], 0, 5)\n",
    "print('---------------------------------------------------------------------------------------------')\n",
    "\n",
    "# 顯示測試資料前五個影像\n",
    "print('顯示測試資料前五個影像:')\n",
    "plot_image_label_prediction(mnist.test.images, mnist.test.labels, [], 0, 5)\n",
    "print('---------------------------------------------------------------------------------------------')\n",
    "\n",
    "# 顯示批次資料前五個影像\n",
    "print('顯示批次資料前五個影像:')\n",
    "plot_image_label_prediction(batch_images_xs, batch_labels_ts, [], 0, 5)\n",
    "print('---------------------------------------------------------------------------------------------')"
   ]
  },
  {
   "cell_type": "markdown",
   "metadata": {},
   "source": [
    "### 二、TensorFlow 執行多層感知器 (MLP)"
   ]
  },
  {
   "cell_type": "markdown",
   "metadata": {},
   "source": [
    "#### 1. 建立多層感知器 (MLP) 的神經網路模型"
   ]
  },
  {
   "cell_type": "code",
   "execution_count": 3,
   "metadata": {},
   "outputs": [
    {
     "name": "stdout",
     "output_type": "stream",
     "text": [
      "WARNING:tensorflow:From C:\\Users\\user\\Anaconda3\\envs\\tensorflow_ev\\lib\\site-packages\\tensorflow\\python\\framework\\op_def_library.py:263: colocate_with (from tensorflow.python.framework.ops) is deprecated and will be removed in a future version.\n",
      "Instructions for updating:\n",
      "Colocations handled automatically by placer.\n"
     ]
    }
   ],
   "source": [
    "# 定義 layer 函數\n",
    "# inputs: 輸入二維陣列的 placeholder, input_dim: 輸入神經元的數量\n",
    "# output_dim: 輸出神經元的數量, activation: 活化函數 (預設為 None)\n",
    "def layer(inputs, input_dim, output_dim, activation = None):\n",
    "    W = tf.Variable(tf.random_normal([input_dim, output_dim]))\n",
    "    b = tf.Variable(tf.random_normal([1, output_dim]))\n",
    "    \n",
    "    XW = tf.matmul(inputs, W)\n",
    "    Sum = XW + b\n",
    "\n",
    "    if activation is None:\n",
    "        outputs = Sum\n",
    "    \n",
    "    else:\n",
    "        outputs = activation(Sum)\n",
    "        \n",
    "    return outputs\n",
    "\n",
    "# 建立輸入層\n",
    "X = tf.placeholder('float', [None, 784])\n",
    "\n",
    "# 建立隱藏層\n",
    "h = layer(inputs = X, input_dim = 784, output_dim = 256, activation = tf.nn.relu)\n",
    "\n",
    "# 建立輸出層\n",
    "y = layer(inputs = h, input_dim = 256, output_dim = 10, activation = None)"
   ]
  },
  {
   "cell_type": "markdown",
   "metadata": {},
   "source": [
    "#### 2. 定義神經網路的訓練方式"
   ]
  },
  {
   "cell_type": "code",
   "execution_count": 4,
   "metadata": {},
   "outputs": [
    {
     "name": "stdout",
     "output_type": "stream",
     "text": [
      "WARNING:tensorflow:From <ipython-input-4-8ea07ba87c87>:5: softmax_cross_entropy_with_logits (from tensorflow.python.ops.nn_ops) is deprecated and will be removed in a future version.\n",
      "Instructions for updating:\n",
      "\n",
      "Future major versions of TensorFlow will allow gradients to flow\n",
      "into the labels input on backprop by default.\n",
      "\n",
      "See `tf.nn.softmax_cross_entropy_with_logits_v2`.\n",
      "\n"
     ]
    }
   ],
   "source": [
    "# 建立訓練資料 label 真實值的 placeholder\n",
    "t_label = tf.placeholder(\"float\", [None, 10])\n",
    "\n",
    "# 定義 loss function (計算平均的 cross entropy error)\n",
    "loss_function = tf.reduce_mean(tf.nn.softmax_cross_entropy_with_logits(logits = y, labels = t_label))\n",
    "\n",
    "# 定義最佳化的方法 (呼叫 tf.train 模組來定義 optimizer)\n",
    "optimizer = tf.train.AdamOptimizer(learning_rate = 0.001).minimize(loss_function)\n",
    "\n",
    "# 定義評估模型準確率的方式\n",
    "# (1) 計算每一筆資料是否預測正確 (tf.equal 用來判斷真實值與預測值是否相等)\n",
    "correct_prediction = tf.equal(tf.argmax(t_label, 1), tf.argmax(y, 1))\n",
    "\n",
    "# (2) 計算準確率 (使用 tf.cast 將數值轉化成浮點數，再使用 tf.reduce_mean 將所有數值平均)\n",
    "accuracy = tf.reduce_mean(tf.cast(correct_prediction, \"float\"))"
   ]
  },
  {
   "cell_type": "markdown",
   "metadata": {},
   "source": [
    "#### 3. 進行神經網路的訓練"
   ]
  },
  {
   "cell_type": "code",
   "execution_count": 28,
   "metadata": {},
   "outputs": [
    {
     "name": "stdout",
     "output_type": "stream",
     "text": [
      "Train_epoch: 01 , Loss =  6.22 , Accuracy =  0.8432\n",
      "Train_epoch: 02 , Loss =  3.95 , Accuracy =  0.8914\n",
      "Train_epoch: 03 , Loss =  3.08 , Accuracy =  0.9084\n",
      "Train_epoch: 04 , Loss =  2.56 , Accuracy =  0.9172\n",
      "Train_epoch: 05 , Loss =  2.23 , Accuracy =  0.9228\n",
      "Train_epoch: 06 , Loss =  2.03 , Accuracy =  0.928\n",
      "Train_epoch: 07 , Loss =  1.79 , Accuracy =  0.9338\n",
      "Train_epoch: 08 , Loss =  1.71 , Accuracy =  0.9372\n",
      "Train_epoch: 09 , Loss =  1.61 , Accuracy =  0.94\n",
      "Train_epoch: 10 , Loss =  1.59 , Accuracy =  0.9358\n",
      "Train_epoch: 11 , Loss =  1.46 , Accuracy =  0.9424\n",
      "Train_epoch: 12 , Loss =  1.39 , Accuracy =  0.9452\n",
      "Train_epoch: 13 , Loss =  1.41 , Accuracy =  0.9446\n",
      "Train_epoch: 14 , Loss =  1.33 , Accuracy =  0.9488\n",
      "Train_epoch: 15 , Loss =  1.30 , Accuracy =  0.9484\n",
      "Total time for training: 29.660696506500244\n"
     ]
    }
   ],
   "source": [
    "# 匯入時間模組\n",
    "from time import time \n",
    "\n",
    "# 定義訓練的超參數\n",
    "# 訓練週期\n",
    "train_epochs = 15\n",
    "# 批次大小\n",
    "batch_size = 100\n",
    "# 一個訓練週期批次的數目\n",
    "total_batch_per_epoch = int(mnist.train.num_examples/batch_size)\n",
    "\n",
    "# 初始化誤差 list\n",
    "loss_list = []\n",
    "# 初始化訓練週期 list\n",
    "epoch_list = []\n",
    "# 初始化準確率 list\n",
    "accuracy_list = []\n",
    "\n",
    "# 開始計算時間\n",
    "startTime = time()\n",
    "\n",
    "# 開始訓練\n",
    "with tf.Session() as sess:\n",
    "    # 初始化所有 tensorflow global 變數\n",
    "    init = tf.global_variables_initializer()\n",
    "    sess.run(init)\n",
    "    \n",
    "    # 執行 15 次的訓練週期\n",
    "    for epoch in range(train_epochs):\n",
    "        # 使用批次的訓練資料進行訓練\n",
    "        for i in range(total_batch_per_epoch):\n",
    "            batch_x, batch_t = mnist.train.next_batch(batch_size)\n",
    "            sess.run(optimizer, feed_dict = {X: batch_x, t_label: batch_t})\n",
    "        \n",
    "        # 使用驗證資料計算 loss 和 accuracy\n",
    "        loss, acc = sess.run([loss_function, accuracy], feed_dict = {X: mnist.validation.images, t_label: mnist.validation.labels})\n",
    "        \n",
    "        # 使用測試資料計算 accuracy\n",
    "        test_acc = sess.run(accuracy, feed_dict = {X: mnist.test.images, t_label: mnist.test.labels})\n",
    "\n",
    "        # 使用測試資料執行預測\n",
    "        prediction_result = sess.run(tf.argmax(y, 1), feed_dict = {X: mnist.test.images})\n",
    "        \n",
    "        # 將結果存入 list 並顯示\n",
    "        epoch_list.append(epoch)\n",
    "        loss_list.append(loss)\n",
    "        accuracy_list.append(acc)\n",
    "        # \"%02d\" % 數值: 是將數字按寬度為 2，採用右邊對齊方式輸出，若數字位數不到兩位，則左邊補零\n",
    "        # 格式化數字: \"{:.2f}\".format(數字) -> 保留小數點後兩位\n",
    "        print(\"Train_epoch:\", \"%02d\" % (epoch + 1), \", Loss = \", \"{:.2f}\".format(loss), \", Accuracy = \", acc)\n",
    "\n",
    "    # 計算並顯示全部訓練所花的時間\n",
    "    duration = time() - startTime\n",
    "    print(\"Total time for training:\", duration)"
   ]
  },
  {
   "cell_type": "markdown",
   "metadata": {},
   "source": [
    "#### 4. 圖形顯示驗證過程"
   ]
  },
  {
   "cell_type": "code",
   "execution_count": 29,
   "metadata": {},
   "outputs": [
    {
     "data": {
      "image/png": "[encoded data removed]",
      "text/plain": [
       "<Figure size 720x288 with 1 Axes>"
      ]
     },
     "metadata": {},
     "output_type": "display_data"
    },
    {
     "name": "stdout",
     "output_type": "stream",
     "text": [
      "---------------------------------------------------------------------------------------------\n"
     ]
    },
    {
     "data": {
      "image/png": "[encoded data removed]",
      "text/plain": [
       "<Figure size 720x288 with 1 Axes>"
      ]
     },
     "metadata": {},
     "output_type": "display_data"
    }
   ],
   "source": [
    "import matplotlib.pyplot as plt\n",
    "\n",
    "def show_validation_history(x_values, y_values, x_label, y_label):\n",
    "    fig = plt.gcf()\n",
    "    fig.set_size_inches(10, 4)\n",
    "    plt.plot(x_values, y_values, label = y_label)\n",
    "    plt.title('validation history ' + '(' + y_label + ')', fontsize = 15)\n",
    "    plt.xlabel(x_label, fontsize = 15)\n",
    "    plt.ylabel(y_label, fontsize = 15)\n",
    "    plt.legend(loc = 'center right', fontsize = 15)\n",
    "    plt.show()\n",
    "    \n",
    "# loss function 的變化    \n",
    "show_validation_history(epoch_list, loss_list, 'epoch', 'loss')\n",
    "print('---------------------------------------------------------------------------------------------')\n",
    "\n",
    "# accuracy 的變化\n",
    "show_validation_history(epoch_list, accuracy_list, 'epoch', 'accuracy')"
   ]
  },
  {
   "cell_type": "markdown",
   "metadata": {},
   "source": [
    "#### 5. 用測試資料評估模型準確率"
   ]
  },
  {
   "cell_type": "code",
   "execution_count": 30,
   "metadata": {},
   "outputs": [
    {
     "name": "stdout",
     "output_type": "stream",
     "text": [
      "Accuracy: 0.9461\n"
     ]
    }
   ],
   "source": [
    "print(\"Accuracy:\", test_acc)"
   ]
  },
  {
   "cell_type": "markdown",
   "metadata": {},
   "source": [
    "#### 6. 顯示預測結果"
   ]
  },
  {
   "cell_type": "code",
   "execution_count": 31,
   "metadata": {},
   "outputs": [
    {
     "name": "stdout",
     "output_type": "stream",
     "text": [
      "顯示預測結果的前五個影像:\n"
     ]
    },
    {
     "data": {
      "image/png": "[encoded data removed]",
      "text/plain": [
       "<Figure size 864x1080 with 5 Axes>"
      ]
     },
     "metadata": {},
     "output_type": "display_data"
    },
    {
     "name": "stdout",
     "output_type": "stream",
     "text": [
      "---------------------------------------------------------------------------------------------\n"
     ]
    }
   ],
   "source": [
    "# 顯示預測結果的前五個影像\n",
    "print('顯示預測結果的前五個影像:')\n",
    "plot_image_label_prediction(mnist.test.images, mnist.test.labels, prediction_result, 0, 5)\n",
    "print('---------------------------------------------------------------------------------------------')"
   ]
  },
  {
   "cell_type": "markdown",
   "metadata": {},
   "source": [
    "### 三、TensorFlow 執行執行卷積神經網路 (CNN)"
   ]
  },
  {
   "cell_type": "markdown",
   "metadata": {},
   "source": [
    "#### 1. 建立卷積神經網路(CNN)模型"
   ]
  },
  {
   "cell_type": "code",
   "execution_count": null,
   "metadata": {},
   "outputs": [],
   "source": []
  },
  {
   "cell_type": "markdown",
   "metadata": {},
   "source": [
    "#### 2. 定義神經網路的訓練方式"
   ]
  },
  {
   "cell_type": "code",
   "execution_count": null,
   "metadata": {},
   "outputs": [],
   "source": []
  },
  {
   "cell_type": "markdown",
   "metadata": {},
   "source": [
    "#### 3. 進行神經網路的訓練"
   ]
  },
  {
   "cell_type": "code",
   "execution_count": null,
   "metadata": {},
   "outputs": [],
   "source": []
  },
  {
   "cell_type": "markdown",
   "metadata": {},
   "source": [
    "#### 4. 圖形顯示訓練過程"
   ]
  },
  {
   "cell_type": "code",
   "execution_count": null,
   "metadata": {},
   "outputs": [],
   "source": []
  },
  {
   "cell_type": "markdown",
   "metadata": {},
   "source": [
    "#### 5. 用測試資料評估模型準確率"
   ]
  },
  {
   "cell_type": "code",
   "execution_count": null,
   "metadata": {},
   "outputs": [],
   "source": []
  }
 ],
 "metadata": {
  "kernelspec": {
   "display_name": "Python 3",
   "language": "python",
   "name": "python3"
  },
  "language_info": {
   "codemirror_mode": {
    "name": "ipython",
    "version": 3
   },
   "file_extension": ".py",
   "mimetype": "text/x-python",
   "name": "python",
   "nbconvert_exporter": "python",
   "pygments_lexer": "ipython3",
   "version": "3.5.5"
  }
 },
 "nbformat": 4,
 "nbformat_minor": 2
}
