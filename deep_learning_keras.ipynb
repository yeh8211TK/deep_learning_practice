{
 "cells": [
  {
   "cell_type": "markdown",
   "metadata": {},
   "source": [
    "## 使用 keras 進行深度學習\n",
    "### 前言:\n",
    "\n",
    "1. Keras 的簡介與運作方法:\n",
    "\n",
    "       Keras 為開放原始碼、高階模型(model-level)級的深度學習程式庫。它只處理模型的建立、訓練與預測等功能，深度學習底層的運作(Ex: 張量/矩陣運算)交由後端引擎(backend engine)計算。\n",
    "       \n",
    "2. Keras 配合的兩種後端引擎(backend engine):\n",
    "\n",
    "   - TensorFlow\n",
    "   - Theano\n",
    "\n",
    "\n",
    "\n",
    "3. Keras 的特色:\n",
    "\n",
    "   - 簡單快速的建立 prototyping\n",
    "   - 已內建各種種神經網路的層級\n",
    "   - 透過後端引擎，可以在 CPU 或 GPU 運行\n",
    "   - keras 開發的程式碼具有簡潔、可讀性、容易維護與高生產力等優點\n",
    "   - keras 有非常齊全的線上說明文件\n",
    "\n",
    "### 一、安裝並執行 TensorFlow 與 Keras 模組 (Windows 系統)\n",
    "\n",
    "(前置動作: 已安裝 Anaconda 並建立工作目錄)\n",
    "\n",
    "1. 建立 Anaconda 虛擬環境: conda create --name tensorflow_ev python=3.5 anaconda\n",
    "                \n",
    "       conda create: 建立虛擬環境\n",
    "       --name tensorflow_ev: 虛擬環境名稱為 tensorflow_ev\n",
    "       python=3.5: python 版本為 3.5\n",
    "       anaconda: 在建立虛擬環境時，同時安裝其他 python 套件\n",
    "       \n",
    "       [註]: 在 jupyter notebook 匯入 tensorflow 和 Keras 模組時，若發生錯誤訊息， 則用 pip install [模組名稱] --upgrade 更新相關錯誤的模組 (Ex: numpy、h5py...)\n",
    "       \n",
    "2. 啟動/關閉 Anaconda 虛擬環境: activate/deactivate tensorflow_ev\n",
    "\n",
    "\n",
    "\n",
    "3. 安裝 TensorFlow CPU 版本 (在虛擬環境中執行): pip install tensorflow\n",
    "\n",
    "\n",
    "\n",
    "4. 安裝 Keras CPU 版本 (在虛擬環境中執行): pip install keras\n",
    "\n",
    "\n",
    "\n",
    "5. 開啟 jupyter notebook 並匯入 tensorflow 和 keras 模組後，進行後續計算工作 (在虛擬環境中執行)"
   ]
  },
  {
   "cell_type": "code",
   "execution_count": 1,
   "metadata": {},
   "outputs": [
    {
     "name": "stdout",
     "output_type": "stream",
     "text": [
      "1.13.1\n",
      "2.2.4\n"
     ]
    },
    {
     "name": "stderr",
     "output_type": "stream",
     "text": [
      "Using TensorFlow backend.\n"
     ]
    }
   ],
   "source": [
    "import tensorflow as tf\n",
    "import keras\n",
    "\n",
    "print(tf.__version__)\n",
    "print(keras.__version__)"
   ]
  },
  {
   "cell_type": "markdown",
   "metadata": {},
   "source": [
    "### 二、Keras 下載 MNIST 辨識資料集"
   ]
  },
  {
   "cell_type": "code",
   "execution_count": 2,
   "metadata": {},
   "outputs": [
    {
     "name": "stdout",
     "output_type": "stream",
     "text": [
      "x train data =  60000\n",
      "t train data =  60000\n",
      "x test data =  10000\n",
      "t test data =  10000\n",
      "-----------------------------------\n",
      "x_train_image: (60000, 28, 28)\n",
      "t_train_label: (60000,)\n",
      "-----------------------------------\n",
      "x_test_image: (10000, 28, 28)\n",
      "t_test_label: (10000,)\n",
      "-----------------------------------\n"
     ]
    }
   ],
   "source": [
    "import numpy as np\n",
    "import pandas as pd\n",
    "# 此模組要將 label 轉換成 one-hot-coding\n",
    "from keras.utils import np_utils\n",
    "# 匯入用來下載 mnist 資料的模組\n",
    "from keras.datasets import mnist\n",
    "\n",
    "# 下載 mnist 資料 (資料儲存在 C:\\Users\\user\\.keras 資料夾)\n",
    "(x_train_image, t_train_label), (x_test_image, t_test_label) = mnist.load_data()\n",
    "\n",
    "# 查看 mnist 資料筆數\n",
    "print('x train data = ', len(x_train_image))\n",
    "print('t train data = ', len(t_train_label))\n",
    "print('x test data = ', len(x_test_image))\n",
    "print('t test data = ', len(t_test_label))\n",
    "print('-----------------------------------')\n",
    "\n",
    "# 查看訓練資料\n",
    "print('x_train_image:', x_train_image.shape)\n",
    "print('t_train_label:', t_train_label.shape)\n",
    "print('-----------------------------------')\n",
    "\n",
    "# 查看測試資料\n",
    "print('x_test_image:', x_test_image.shape)\n",
    "print('t_test_label:', t_test_label.shape)\n",
    "print('-----------------------------------')"
   ]
  },
  {
   "cell_type": "code",
   "execution_count": 4,
   "metadata": {},
   "outputs": [
    {
     "name": "stdout",
     "output_type": "stream",
     "text": [
      "顯示訓練資料前五個影像:\n"
     ]
    },
    {
     "data": {
      "image/png": "[encoded data removed]",
      "text/plain": [
       "<Figure size 864x1080 with 5 Axes>"
      ]
     },
     "metadata": {},
     "output_type": "display_data"
    },
    {
     "name": "stdout",
     "output_type": "stream",
     "text": [
      "---------------------------------------------------------------------------------------------\n",
      "顯示測試資料前五個影像:\n"
     ]
    },
    {
     "data": {
      "image/png": "[encoded data removed]",
      "text/plain": [
       "<Figure size 864x1080 with 5 Axes>"
      ]
     },
     "metadata": {},
     "output_type": "display_data"
    },
    {
     "name": "stdout",
     "output_type": "stream",
     "text": [
      "---------------------------------------------------------------------------------------------\n"
     ]
    }
   ],
   "source": [
    "import matplotlib.pyplot as plt\n",
    "\n",
    "# 定義顯示資料的函數\n",
    "def plot_image_label_prediction(images, labels, prediction, idx, num = 5):\n",
    "    # 設定圖形的大小\n",
    "    fig = plt.gcf()\n",
    "    fig.set_size_inches(12, 15)\n",
    "    \n",
    "    if num > 10: num = 10\n",
    "    \n",
    "    for i in range(0, num):\n",
    "        # 建立子圖為 2 行 5 列\n",
    "        ax = plt.subplot(2, 5, 1+i)\n",
    "        # 畫出子圖形\n",
    "        ax.imshow(images[idx], cmap = 'binary')\n",
    "        # 子圖 title 名稱\n",
    "        title = 'label =' + str(labels[idx])\n",
    "        # 若有預測資料，則顯示預測結果\n",
    "        if len(prediction) > 0:\n",
    "            title += ',predict =' + str(prediction[idx])\n",
    "        \n",
    "        ax.set_title(title, fontsize = 10)\n",
    "        ax.set_xticks([])\n",
    "        ax.set_yticks([])\n",
    "        \n",
    "        idx += 1\n",
    "        \n",
    "    plt.show()\n",
    "    \n",
    "# 顯示訓練資料前五個影像\n",
    "print('顯示訓練資料前五個影像:')\n",
    "plot_image_label_prediction(x_train_image, t_train_label, [], 0, 5)\n",
    "print('---------------------------------------------------------------------------------------------')\n",
    "\n",
    "# 顯示測試資料前五個影像\n",
    "print('顯示測試資料前五個影像:')\n",
    "plot_image_label_prediction(x_test_image, t_test_label, [], 0, 5)\n",
    "print('---------------------------------------------------------------------------------------------')"
   ]
  },
  {
   "cell_type": "markdown",
   "metadata": {},
   "source": [
    "### 三、Keras 執行多層感知器 (MLP)"
   ]
  },
  {
   "cell_type": "markdown",
   "metadata": {},
   "source": [
    "#### 1. 資料預處理 (Preprocess)"
   ]
  },
  {
   "cell_type": "code",
   "execution_count": 5,
   "metadata": {},
   "outputs": [],
   "source": [
    "# 將 28*28 數字影像轉換成 1*784 個浮點數\n",
    "x_train = x_train_image.reshape(60000, 784).astype('float32')\n",
    "x_test = x_test_image.reshape(10000, 784).astype('float32')\n",
    "\n",
    "# 將 feature 歸一化\n",
    "x_train_normalize = x_train / 255\n",
    "x_test_normalize = x_test / 255\n",
    "\n",
    "# 將 label 進行 one-hot-encoding 轉換\n",
    "t_train_onehot = np_utils.to_categorical(t_train_label)\n",
    "t_test_onehot = np_utils.to_categorical(t_test_label)"
   ]
  },
  {
   "cell_type": "markdown",
   "metadata": {},
   "source": [
    "#### 2. 建立多層感知器 (MLP) 的神經網路模型"
   ]
  },
  {
   "cell_type": "code",
   "execution_count": 7,
   "metadata": {},
   "outputs": [
    {
     "name": "stdout",
     "output_type": "stream",
     "text": [
      "_________________________________________________________________\n",
      "Layer (type)                 Output Shape              Param #   \n",
      "=================================================================\n",
      "dense_3 (Dense)              (None, 50)                39250     \n",
      "_________________________________________________________________\n",
      "dense_4 (Dense)              (None, 10)                510       \n",
      "=================================================================\n",
      "Total params: 39,760\n",
      "Trainable params: 39,760\n",
      "Non-trainable params: 0\n",
      "_________________________________________________________________\n",
      "None\n"
     ]
    }
   ],
   "source": [
    "# 匯入所需的模組\n",
    "from keras.models import Sequential\n",
    "from keras.layers import Dense\n",
    "\n",
    "# 建立線性堆疊模型(骨架)\n",
    "model = Sequential()\n",
    "\n",
    "# 建立輸入層與隱藏層(用 model.add 將 Dense 神經網路層加入以建立的骨架中)\n",
    "# 參數說明: input_dim (輸入層神經元數目)，units (隱藏層神經元數目)，\n",
    "# kernel_initializer (初始化權重)，activation (活化函數)          \n",
    "model.add(Dense(units = 50, input_dim = 784, kernel_initializer = 'normal', activation = 'relu'))\n",
    "\n",
    "# 建立輸出層\n",
    "model.add(Dense(units = 10, kernel_initializer = 'normal', activation = 'softmax'))\n",
    "\n",
    "# 查看模型摘要\n",
    "print(model.summary())"
   ]
  },
  {
   "cell_type": "markdown",
   "metadata": {},
   "source": [
    "#### 3. 進行神經網路的訓練"
   ]
  },
  {
   "cell_type": "code",
   "execution_count": 9,
   "metadata": {},
   "outputs": [
    {
     "name": "stdout",
     "output_type": "stream",
     "text": [
      "Train on 48000 samples, validate on 12000 samples\n",
      "Epoch 1/10\n",
      " - 1s - loss: 0.0797 - acc: 0.9772 - val_loss: 0.1166 - val_acc: 0.9660\n",
      "Epoch 2/10\n",
      " - 1s - loss: 0.0721 - acc: 0.9794 - val_loss: 0.1139 - val_acc: 0.9666\n",
      "Epoch 3/10\n",
      " - 1s - loss: 0.0668 - acc: 0.9805 - val_loss: 0.1115 - val_acc: 0.9688\n",
      "Epoch 4/10\n",
      " - 1s - loss: 0.0603 - acc: 0.9829 - val_loss: 0.1076 - val_acc: 0.9690\n",
      "Epoch 5/10\n",
      " - 1s - loss: 0.0566 - acc: 0.9836 - val_loss: 0.1093 - val_acc: 0.9678\n",
      "Epoch 6/10\n",
      " - 1s - loss: 0.0519 - acc: 0.9853 - val_loss: 0.1089 - val_acc: 0.9691\n",
      "Epoch 7/10\n",
      " - 1s - loss: 0.0475 - acc: 0.9867 - val_loss: 0.1091 - val_acc: 0.9693\n",
      "Epoch 8/10\n",
      " - 1s - loss: 0.0436 - acc: 0.9876 - val_loss: 0.1056 - val_acc: 0.9698\n",
      "Epoch 9/10\n",
      " - 1s - loss: 0.0399 - acc: 0.9889 - val_loss: 0.1043 - val_acc: 0.9709\n",
      "Epoch 10/10\n",
      " - 1s - loss: 0.0367 - acc: 0.9894 - val_loss: 0.1092 - val_acc: 0.9694\n"
     ]
    }
   ],
   "source": [
    "# 定義訓練方式\n",
    "# 參數說明: loss (損失函數)，optimizer (最佳化的方法)，metrics (評估模型的方式)\n",
    "model.compile(loss = 'categorical_crossentropy', optimizer = 'adam', metrics = ['accuracy'])\n",
    "\n",
    "# 開始訓練\n",
    "# 參數說明: x, y (輸入的資料)，validation_split (驗證資料的比例)\n",
    "# epochs (訓練週期)， batch_size (批次數量)，verbose (顯示訓練的過程)\n",
    "train_history = model.fit(x = x_train_normalize, y = t_train_onehot, validation_split = 0.2, \n",
    "                         epochs = 10, batch_size = 100, verbose = 2)"
   ]
  },
  {
   "cell_type": "markdown",
   "metadata": {},
   "source": [
    "#### 4. 圖形顯示訓練過程"
   ]
  },
  {
   "cell_type": "code",
   "execution_count": 14,
   "metadata": {},
   "outputs": [
    {
     "data": {
      "image/png": "[encoded data removed]",
      "text/plain": [
       "<Figure size 432x288 with 1 Axes>"
      ]
     },
     "metadata": {},
     "output_type": "display_data"
    },
    {
     "data": {
      "image/png": "[encoded data removed]",
      "text/plain": [
       "<Figure size 432x288 with 1 Axes>"
      ]
     },
     "metadata": {},
     "output_type": "display_data"
    }
   ],
   "source": [
    "import matplotlib.pyplot as plt\n",
    "\n",
    "def show_train_history(train_history, train, validation):\n",
    "    plt.plot(train_history.history[train])\n",
    "    plt.plot(train_history.history[validation])\n",
    "    plt.title('train history')\n",
    "    plt.xlabel('epoch')\n",
    "    plt.ylabel(train)\n",
    "    plt.legend(['train', 'validation'], loc = 'center right')\n",
    "    plt.show()\n",
    "    \n",
    "# loss function 的變化    \n",
    "show_train_history(train_history, 'acc', 'val_acc')\n",
    "\n",
    "# accuracy 的變化\n",
    "show_train_history(train_history, 'loss', 'val_loss')"
   ]
  },
  {
   "cell_type": "markdown",
   "metadata": {},
   "source": [
    "#### 5. 測試資料評估模型準確率"
   ]
  },
  {
   "cell_type": "code",
   "execution_count": 15,
   "metadata": {},
   "outputs": [
    {
     "name": "stdout",
     "output_type": "stream",
     "text": [
      "10000/10000 [==============================] - 0s 23us/step\n",
      "\n",
      "accuracy =  0.9715\n"
     ]
    }
   ],
   "source": [
    "scores = model.evaluate(x_test_normalize, t_test_onehot)\n",
    "print()\n",
    "print('accuracy = ', scores[1])"
   ]
  },
  {
   "cell_type": "markdown",
   "metadata": {},
   "source": [
    "### 四、Keras 執行卷積神經網路 (CNN)"
   ]
  },
  {
   "cell_type": "markdown",
   "metadata": {
    "collapsed": true
   },
   "source": [
    "#### 1. 資料預處理 (Preprocess)"
   ]
  },
  {
   "cell_type": "code",
   "execution_count": 16,
   "metadata": {},
   "outputs": [],
   "source": [
    "# 將 (60000, 28, 28) 的影像大小轉換成 60000*28*28*1 的四維矩陣\n",
    "x_train4D = x_train_image.reshape(x_train_image.shape[0], 28, 28, 1).astype('float32')\n",
    "x_test4D = x_test_image.reshape(x_test_image.shape[0], 28, 28, 1).astype('float32')\n",
    "\n",
    "# 將 feature 歸一化\n",
    "x_train4D_normalize = x_train4D / 255\n",
    "x_test4D_normalize = x_test4D / 255\n",
    "\n",
    "# 將 label 進行 one-hot-encoding 轉換\n",
    "t_train_onehot = np_utils.to_categorical(t_train_label)\n",
    "t_test_onehot = np_utils.to_categorical(t_test_label)"
   ]
  },
  {
   "cell_type": "markdown",
   "metadata": {},
   "source": [
    "#### 2. 建立卷積神經網路(CNN)模型"
   ]
  },
  {
   "cell_type": "code",
   "execution_count": 18,
   "metadata": {},
   "outputs": [
    {
     "name": "stdout",
     "output_type": "stream",
     "text": [
      "_________________________________________________________________\n",
      "Layer (type)                 Output Shape              Param #   \n",
      "=================================================================\n",
      "conv2d_2 (Conv2D)            (None, 28, 28, 16)        416       \n",
      "_________________________________________________________________\n",
      "max_pooling2d_2 (MaxPooling2 (None, 14, 14, 16)        0         \n",
      "_________________________________________________________________\n",
      "flatten_2 (Flatten)          (None, 3136)              0         \n",
      "_________________________________________________________________\n",
      "dropout_2 (Dropout)          (None, 3136)              0         \n",
      "_________________________________________________________________\n",
      "dense_7 (Dense)              (None, 100)               313700    \n",
      "_________________________________________________________________\n",
      "dense_8 (Dense)              (None, 10)                1010      \n",
      "=================================================================\n",
      "Total params: 315,126\n",
      "Trainable params: 315,126\n",
      "Non-trainable params: 0\n",
      "_________________________________________________________________\n",
      "None\n"
     ]
    }
   ],
   "source": [
    "# 匯入所需的模組\n",
    "from keras.models import Sequential\n",
    "from keras.layers import Dense, Conv2D, MaxPooling2D, Flatten, Dropout\n",
    "\n",
    "# 建立線性堆疊模型(骨架)\n",
    "model = Sequential()\n",
    "\n",
    "# 建立輸入層與卷積層\n",
    "# 參數說明: filters (濾鏡數目)，kernel_size (濾鏡大小)，\n",
    "# padding (填充的大小)，input_shape (輸入影像的形狀), activation (活化函數)          \n",
    "model.add(Conv2D(filters = 16, kernel_size = (5, 5), padding = 'same',\n",
    "                 input_shape = (28, 28, 1), activation = 'relu'))\n",
    "\n",
    "# 建立池化層\n",
    "# 參數說明: pool_size (池化層的形狀大小)\n",
    "model.add(MaxPooling2D(pool_size = (2, 2)))\n",
    "\n",
    "# 建立平坦層\n",
    "model.add(Flatten())\n",
    "\n",
    "# 建立 Dropout 層 (避免 overfitting)\n",
    "model.add(Dropout(0.5))\n",
    "\n",
    "# 建立隱藏層\n",
    "model.add(Dense(units = 100, activation = 'relu'))\n",
    "\n",
    "# 建立輸出層\n",
    "model.add(Dense(units = 10, activation = 'softmax'))\n",
    "\n",
    "# 查看模型摘要\n",
    "print(model.summary())"
   ]
  },
  {
   "cell_type": "markdown",
   "metadata": {},
   "source": [
    "#### 3. 進行神經網路的訓練"
   ]
  },
  {
   "cell_type": "code",
   "execution_count": 19,
   "metadata": {},
   "outputs": [
    {
     "name": "stdout",
     "output_type": "stream",
     "text": [
      "Train on 48000 samples, validate on 12000 samples\n",
      "Epoch 1/10\n",
      " - 29s - loss: 0.3948 - acc: 0.8810 - val_loss: 0.1365 - val_acc: 0.9615\n",
      "Epoch 2/10\n",
      " - 28s - loss: 0.1460 - acc: 0.9570 - val_loss: 0.0864 - val_acc: 0.9758\n",
      "Epoch 3/10\n",
      " - 29s - loss: 0.1069 - acc: 0.9673 - val_loss: 0.0722 - val_acc: 0.9783\n",
      "Epoch 4/10\n",
      " - 27s - loss: 0.0883 - acc: 0.9728 - val_loss: 0.0614 - val_acc: 0.9827\n",
      "Epoch 5/10\n",
      " - 27s - loss: 0.0760 - acc: 0.9772 - val_loss: 0.0568 - val_acc: 0.9833\n",
      "Epoch 6/10\n",
      " - 29s - loss: 0.0657 - acc: 0.9791 - val_loss: 0.0511 - val_acc: 0.9846\n",
      "Epoch 7/10\n",
      " - 28s - loss: 0.0597 - acc: 0.9808 - val_loss: 0.0509 - val_acc: 0.9847\n",
      "Epoch 8/10\n",
      " - 28s - loss: 0.0537 - acc: 0.9824 - val_loss: 0.0458 - val_acc: 0.9864\n",
      "Epoch 9/10\n",
      " - 27s - loss: 0.0483 - acc: 0.9844 - val_loss: 0.0448 - val_acc: 0.9863\n",
      "Epoch 10/10\n",
      " - 29s - loss: 0.0449 - acc: 0.9859 - val_loss: 0.0428 - val_acc: 0.9869\n"
     ]
    }
   ],
   "source": [
    "# 定義訓練方式\n",
    "# 參數說明: loss (損失函數)，optimizer (最佳化的方法)，metrics (評估模型的方式)\n",
    "model.compile(loss = 'categorical_crossentropy', optimizer = 'adam', metrics = ['accuracy'])\n",
    "\n",
    "# 開始訓練\n",
    "# 參數說明: x, y (輸入的資料)，validation_split (驗證資料的比例)\n",
    "# epochs (訓練週期)， batch_size (批次數量)，verbose (顯示訓練的過程)\n",
    "train_history = model.fit(x = x_train4D_normalize, y = t_train_onehot, validation_split = 0.2, \n",
    "                         epochs = 10, batch_size = 200, verbose = 2)"
   ]
  },
  {
   "cell_type": "markdown",
   "metadata": {},
   "source": [
    "#### 4. 圖形顯示訓練過程"
   ]
  },
  {
   "cell_type": "code",
   "execution_count": 20,
   "metadata": {},
   "outputs": [
    {
     "data": {
      "image/png": "[encoded data removed]",
      "text/plain": [
       "<Figure size 432x288 with 1 Axes>"
      ]
     },
     "metadata": {},
     "output_type": "display_data"
    },
    {
     "data": {
      "image/png": "[encoded data removed]",
      "text/plain": [
       "<Figure size 432x288 with 1 Axes>"
      ]
     },
     "metadata": {},
     "output_type": "display_data"
    }
   ],
   "source": [
    "import matplotlib.pyplot as plt\n",
    "\n",
    "def show_train_history(train_history, train, validation):\n",
    "    plt.plot(train_history.history[train])\n",
    "    plt.plot(train_history.history[validation])\n",
    "    plt.title('train history')\n",
    "    plt.xlabel('epoch')\n",
    "    plt.ylabel(train)\n",
    "    plt.legend(['train', 'validation'], loc = 'center right')\n",
    "    plt.show()\n",
    "    \n",
    "# loss function 的變化    \n",
    "show_train_history(train_history, 'acc', 'val_acc')\n",
    "\n",
    "# accuracy 的變化\n",
    "show_train_history(train_history, 'loss', 'val_loss')"
   ]
  },
  {
   "cell_type": "markdown",
   "metadata": {},
   "source": [
    "#### 5. 測試資料評估模型準確率"
   ]
  },
  {
   "cell_type": "code",
   "execution_count": 21,
   "metadata": {},
   "outputs": [
    {
     "name": "stdout",
     "output_type": "stream",
     "text": [
      "10000/10000 [==============================] - 3s 286us/step\n",
      "\n",
      "accuracy =  0.9876\n"
     ]
    }
   ],
   "source": [
    "scores = model.evaluate(x_test4D_normalize, t_test_onehot)\n",
    "print()\n",
    "print('accuracy = ', scores[1])"
   ]
  }
 ],
 "metadata": {
  "kernelspec": {
   "display_name": "Python 3",
   "language": "python",
   "name": "python3"
  },
  "language_info": {
   "codemirror_mode": {
    "name": "ipython",
    "version": 3
   },
   "file_extension": ".py",
   "mimetype": "text/x-python",
   "name": "python",
   "nbconvert_exporter": "python",
   "pygments_lexer": "ipython3",
   "version": "3.5.5"
  }
 },
 "nbformat": 4,
 "nbformat_minor": 2
}
