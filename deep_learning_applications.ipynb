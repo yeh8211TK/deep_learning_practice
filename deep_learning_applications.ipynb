{
 "cells": [
  {
   "cell_type": "markdown",
   "metadata": {},
   "source": [
    "### 深度學習的應用\n",
    "#### 1. 物體偵測\n",
    "\n",
    "- R-CNN 的處理流程:\n",
    "\n",
    "      (1) 輸入影像 (Input image)\n",
    "      (2) 擷取候選區域 (Extract region proposals)\n",
    "      (3) 運算 CNN 特徵 (Compute CNN features)\n",
    "      (4) 分類區域 (Classify regions)\n",
    "\n",
    "#### 2. 影像分割\n",
    "\n",
    "- FCN (Fully Convolutional Network): 全部由卷積層構成的網路\n",
    "\n",
    "#### 3. 產生圖說\n",
    "\n",
    "- NIC (Neural Image Caption): 由多層 CNN 與自然語言處理的 RNN 所構成 \n",
    "\n",
    "#### 4. 轉換影像風格\n",
    "\n",
    "- 論文: < A Neural Algorithm of Artistic Style >\n",
    "\n",
    "#### 5. 產生影像\n",
    "\n",
    "- DCGAN (Deep Convolutional Generative Adversarial Network)\n",
    "\n",
    "      (1) 使用了 Generator (生成者) 與 Discriminator (鑑別者) 兩個神經網路\n",
    "      (2) 屬於 非監督式學習 (Unsupervised Learning)\n",
    "\n",
    "#### 6. 自動駕駛\n",
    "\n",
    "- 以 CCN 為基礎的 SegNet 網路\n",
    "\n",
    "#### 7. Deep Q-Network (DQN)\n",
    "\n",
    "- 屬於 強化學習 (Reinforcement Learning)\n",
    "\n",
    " 強化學習 (Reinforcement Learning) 的基本結構:\n",
    "\n",
    "                行動 \n",
    "        代理人---------->環境\n",
    "                            \n",
    "                            \n",
    "         \n",
    "          代理人<----------環境   \n",
    "                報酬(觀察) \n",
    " "
   ]
  }
 ],
 "metadata": {
  "kernelspec": {
   "display_name": "Python 3",
   "language": "python",
   "name": "python3"
  },
  "language_info": {
   "codemirror_mode": {
    "name": "ipython",
    "version": 3
   },
   "file_extension": ".py",
   "mimetype": "text/x-python",
   "name": "python",
   "nbconvert_exporter": "python",
   "pygments_lexer": "ipython3",
   "version": "3.5.4"
  }
 },
 "nbformat": 4,
 "nbformat_minor": 2
}
