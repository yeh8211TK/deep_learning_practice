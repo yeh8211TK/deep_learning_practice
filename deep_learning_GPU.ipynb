{
 "cells": [
  {
   "cell_type": "markdown",
   "metadata": {},
   "source": [
    "### 一、GPU 執行 Keras 與 TensorFlow 的基本架構\n",
    "\n",
    "    Keras -> TensorFlow-gpu -> CUNA and cuDNN -> GPU\n",
    "\n",
    "- **Keras**: TensorFlow 的高階 API，透過 TensorFlow 存取 GPU。\n",
    "\n",
    "\n",
    "\n",
    "- **TensorFlow-gpu**: TensorFlow 的 GPU 版本。\n",
    "\n",
    "\n",
    "\n",
    "- **CUDA(Compute Unified Device Architecture)**: NVIDIA 的平行運算架構。可以運用繪圖處理單元(GPU)的強大處理能力，增加運算效能。\n",
    "\n",
    "\n",
    "\n",
    "- **cuDNN(CUDA Deep Neural Network library)**: 為 NVIDIA 深度學習軟體發展工具(SDK)的一部份，也是 GPU 的深度學習程式庫。"
   ]
  },
  {
   "cell_type": "markdown",
   "metadata": {},
   "source": [
    "### 二、Windows 系統安裝 Keras、TensorFlow-GPU 的流程\n",
    "#### 1. 確認顯示卡\n",
    "\n",
    "- 查看已安裝的顯示卡資訊:\n",
    "\n",
    "      開始 -> 系統資訊 -> 元件 -> 顯示\n",
    "\n",
    "- 檢查顯示卡是否支援 CUDA\n",
    "\n",
    "      顯示卡規格說明: \n",
    "      (https://www.geforce.com/hardware/technology/cuda/supported-gpus?field_gpu_type_value=All&page=4)\n",
    "\n",
    "\n",
    "- 檢查支援 CUDA 的顯示卡它的計算能力是否滿足 tensorflow-gpu 的要求\n",
    "\n",
    "      - 顯示卡的計算能力表: (https://developer.nvidia.com/cuda-gpus) \n",
    "\n",
    "      - tensorflow-gpu 硬體需求: NVIDIA® GPU card with CUDA® Compute Capability 3.5 or higher.\n",
    "        (https://www.tensorflow.org/install/gpu)\n",
    "\n",
    "[註] 顯示卡的驅動更新: (https://www.nvidia.com/Download/index.aspx?lang=en-us)\n",
    "\n",
    "#### 2. 安裝 CUDA (官方安裝指南: https://docs.nvidia.com/cuda/cuda-installation-guide-microsoft-windows/)\n",
    "\n",
    "     (1) 找出對應的版本並下載 CUDA: (https://developer.nvidia.com/cuda-downloads)\n",
    "     \n",
    "     (2) 檢查 CUDA 的環境變數是否設定\n",
    "\n",
    "#### 3. 安裝 CuDNN\n",
    "\n",
    "     (1) 找出對應的版本並下載 CuDNN: (https://developer.nvidia.com/rdp/cudnn-download)\n",
    "\n",
    "     (2) 下載後壓縮檔(zip 檔)裡的 cuda 目錄複製到已建立的 C:\\tools 目錄底下\n",
    "     \n",
    "     (3) 在 C:\\tools\\cuda\\bin 目錄裡有 cudnn64_7.dll 動態連結程式庫，將這個路徑加到環境變數中\n",
    "\n",
    "#### 4. 建立和啟動虛擬環境\n",
    "\n",
    "     建立虛擬環境: conda create --name [虛擬環境名稱] python=3.5 anaconda\n",
    "\n",
    "     啟動虛擬環境: activate [虛擬環境名稱]\n",
    "\n",
    "#### 5. 安裝 tensorflow-gpu\n",
    "\n",
    "     pip install tensorflow-gpu\n",
    "     \n",
    "     [註] 測試 tensorflow-gpu:\n",
    "           \n",
    "          from tensorflow.python.client import device_lib\n",
    "          print(device_lib.list_local_devices())\n",
    "     \n",
    "#### 6. 安裝 keras\n",
    "\n",
    "     pip install keras"
   ]
  },
  {
   "cell_type": "markdown",
   "metadata": {},
   "source": [
    "### 三、以 TensorFlow-GPU 執行矩陣運算"
   ]
  },
  {
   "cell_type": "code",
   "execution_count": null,
   "metadata": {
    "collapsed": true
   },
   "outputs": [],
   "source": [
    "import tensorflow as tf\n",
    "from time import time\n",
    "\n",
    "size = 100\n",
    "\n",
    "# 使用 tf.device 指定 CPU 或 GPU\n",
    "# with tf.device(\"/cpu:0\"):\n",
    "with tf.device(\"/gpu:0\"):\n",
    "    X = tf.random_normal([size, size], name = 'X')\n",
    "    W = tf.random_normal([size, size], name = 'W')\n",
    "    mul = tf.matmul(X, W, name = 'mul')\n",
    "    sum_result = tf.reduce_sum(mul, name = 'sum')\n",
    "\n",
    "# 設定 Session 的 config 參數來顯示 GPU 裝置的相關資訊\n",
    "''' \n",
    "tfconfig = tf.ConfigProto(log_device_placement = True)\n",
    "with tf.Session(config = tfconfig) as sess:\n",
    "'''\n",
    "with tf.Session() as sess:\n",
    "    result = sess.run(sum_result)\n",
    "    \n",
    "print('result =', result)"
   ]
  },
  {
   "cell_type": "markdown",
   "metadata": {},
   "source": [
    "### 四、測試 GPU 與 CPU 執行的效能"
   ]
  },
  {
   "cell_type": "markdown",
   "metadata": {},
   "source": [
    "#### 1. 建立 performance_test 函數"
   ]
  },
  {
   "cell_type": "code",
   "execution_count": null,
   "metadata": {
    "collapsed": true
   },
   "outputs": [],
   "source": [
    "def performance_test(device_name, size):\n",
    "    with tf.device(device_name):\n",
    "        X = tf.random_normal([size, size], name = 'X')\n",
    "        W = tf.random_normal([size, size], name = 'W')\n",
    "        mul = tf.matmul(X, W, name = 'mul')\n",
    "        sum_result = tf.reduce_sum(mul, name = 'sum')\n",
    "        \n",
    "    startTime = time()\n",
    "    \n",
    "    tfconfig = tf.ConfigProto(log_device_placement = True)\n",
    "    with tf.Session(config = tfconfig) as sess:\n",
    "        result = sess.run(sum_result)\n",
    "        \n",
    "    duration = time() - startTime\n",
    "    \n",
    "    print(device_name, \" size = \", size, \" Time: \", takeTimes)\n",
    "    \n",
    "    return takeTimes"
   ]
  },
  {
   "cell_type": "markdown",
   "metadata": {},
   "source": [
    "#### 2. 執行 performance_test 函數"
   ]
  },
  {
   "cell_type": "code",
   "execution_count": null,
   "metadata": {
    "collapsed": true
   },
   "outputs": [],
   "source": [
    "# 初始化 i_set, cpu_set, gpu_set\n",
    "i_set = []\n",
    "cpu_set = []\n",
    "gpu_set = []\n",
    "\n",
    "for i range(0, 5000, 500):\n",
    "    c = performance_test(\"/cpu:0\", i)\n",
    "    g = performance_test(\"/gpu:0\", i)\n",
    "    \n",
    "    i_set.append(i)\n",
    "    cpu_set.append(c)\n",
    "    gpu_set.append(g)"
   ]
  },
  {
   "cell_type": "markdown",
   "metadata": {},
   "source": [
    "#### 3. 以圖形檢視 CPU  和 GPU 的執行時間"
   ]
  },
  {
   "cell_type": "code",
   "execution_count": null,
   "metadata": {
    "collapsed": true
   },
   "outputs": [],
   "source": [
    "%matplotlib inline\n",
    "import matplotlib.pyplot as plt\n",
    "\n",
    "fig = plt.gcf()\n",
    "fig.set_size_inches(6, 4)\n",
    "plt.plot(i_set, cpu_set, label = 'cpu')\n",
    "plt.plot(i_set, gpu_set, label = 'gpu')\n",
    "plt.legend()"
   ]
  }
 ],
 "metadata": {
  "kernelspec": {
   "display_name": "Python 3",
   "language": "python",
   "name": "python3"
  },
  "language_info": {
   "codemirror_mode": {
    "name": "ipython",
    "version": 3
   },
   "file_extension": ".py",
   "mimetype": "text/x-python",
   "name": "python",
   "nbconvert_exporter": "python",
   "pygments_lexer": "ipython3",
   "version": "3.5.4"
  }
 },
 "nbformat": 4,
 "nbformat_minor": 2
}
