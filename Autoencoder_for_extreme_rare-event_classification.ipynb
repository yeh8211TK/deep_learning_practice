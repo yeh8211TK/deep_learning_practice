{
 "cells": [
  {
   "cell_type": "markdown",
   "metadata": {},
   "source": [
    "## Autoencoder for extreme rare-event classification"
   ]
  },
  {
   "cell_type": "markdown",
   "metadata": {},
   "source": [
    "- **資料集:** https://arxiv.org/abs/1809.10717\n",
    "\n",
    "### 前言:\n",
    "#### **1. 混淆矩陣(Confusion matrix): 用來評估模型的表現(performance)**\n",
    "\n",
    "二元分類(the binary classification)的混淆矩陣(Confusion matrix):\n",
    "\n",
    "| |  **預測為正(Scored Positive)**  |  **預測為負(Scored Negative)**  |  \n",
    "|------|:------:|:------:| \n",
    "|**實際為正(Actual Positive)**|True Positive (TP)|False Negative (FN)<br>Type II Error|\n",
    "|**實際為負(Actual Negative)**|False Positive (FP)<br>Type I Error|True Negative (TN)|   \n",
    "\n",
    "- True Positive(TP): 正標籤且被正確的歸類為正標籤\n",
    "\n",
    "- True Negative(TN): 負標籤且被正確的歸類為負標籤\n",
    "\n",
    "- False Positive(FP): 負標籤但被不正確的歸類為正標籤\n",
    "\n",
    "- False Negative(FN): 正標籤但被不正確的歸類為負標籤\n",
    "\n",
    "[註] 標籤(labels)標示的慣例: 1 代表正標籤，0 代表負標籤。\n",
    "\n",
    "#### **2. 由混淆矩陣(Confusion matrix)衍生出的評估指標**\n",
    "\n",
    "常用的指標:\n",
    "\n",
    "- **正確率(Accuracy):** (正 + 負)標籤正確被歸類的比率\n",
    "\n",
    "$$ Accuracy = \\frac{TP+TN}{TP+FP+TN+FN} $$\n",
    "\n",
    "- **精確率(Precision)、Positive Predictive Value (PPV):** 預測是正標籤的情形下，實際為正標籤的比率\n",
    "\n",
    "$$ Precision、PPV = \\frac{TP}{TP + FP} $$\n",
    "\n",
    "- **召回率(Recall)、True Positive Rate (TPR)、靈敏度(Sensitivity):** 實際是正標籤的情形下，預測為正標籤的比率 \n",
    "\n",
    "$$ Recall、TPR、Sensitivity = \\frac{TP}{TP + FN} $$\n",
    "\n",
    "- **F1 score/measure:** 精確率(Precision)和召回率(Recall)在模型中占相同重要性的評估指標\n",
    "\n",
    "$$ F1 = 2 \\cdot  \\frac{Precision \\cdot  Recall}{Precision + Recall} $$\n",
    "\n",
    "[註] F measure:\n",
    "\n",
    "$$ F_{\\beta} = (1 + \\beta^{2}) \\cdot \\frac{Precision \\cdot  Recall}{(\\beta^{2}\\cdot Precision) + Recall} $$\n",
    "\n",
    "(1)當 $\\beta = 0$, F measure = Precision\n",
    "    \n",
    "(2)當 $\\beta = 1$, F measure = F1 score/measure\n",
    "    \n",
    "(3)當 $\\beta \\rightarrow \\infty$, F measure = Recall\n",
    "    \n",
    "其他指標:\n",
    "\n",
    "- False Negative Rate (FNR): $ FNR = \\frac{FN}{TP + FN} $\n",
    " \n",
    " \n",
    "- False Positive Rate (FPR): $ FPR = \\frac{FP}{FP + TN} $\n",
    "\n",
    "\n",
    "- True Negative Rate (TNR)、特異度(Specificity): $ TNR、Specificity = \\frac{TN}{FP + TN} $\n",
    "\n",
    "\n",
    "- False Discovery Rate (FDR): $ FDR = \\frac{FP}{TP + FP} $\n",
    "\n",
    "\n",
    "- False Omission Rate (FOR): $ FOR = \\frac{FN}{FN + TN} $\n",
    "\n",
    "\n",
    "- Negative Predictive Value (NPV): $ NPV = \\frac{TN}{FN + TN}$\n",
    "\n",
    "\n",
    "- 盛行率(Prevalence): $ Prevalence = \\frac{TP + FN}{TP+FP+TN+FN}$\n",
    "\n",
    "\n",
    "#### **3. ROC curve (Receiver Operating Characteristic curve) and AUC (Area Under the Curve of ROC):**\n",
    "\n",
    "<img src=\"img/ROC_AUC.JPG\" alt=\"drawing\" width=\"360px\"/>"
   ]
  },
  {
   "cell_type": "markdown",
   "metadata": {},
   "source": [
    "### 實際操作"
   ]
  },
  {
   "cell_type": "markdown",
   "metadata": {},
   "source": [
    "#### 一、匯入模組"
   ]
  },
  {
   "cell_type": "code",
   "execution_count": 1,
   "metadata": {},
   "outputs": [
    {
     "name": "stderr",
     "output_type": "stream",
     "text": [
      "Using TensorFlow backend.\n"
     ]
    }
   ],
   "source": [
    "%matplotlib inline\n",
    "import matplotlib.pyplot as plt\n",
    "import seaborn as sns\n",
    "\n",
    "import numpy as np\n",
    "import pandas as pd\n",
    "\n",
    "from sklearn.model_selection import train_test_split\n",
    "from sklearn.preprocessing import StandardScaler\n",
    "from sklearn.metrics import confusion_matrix, precision_recall_curve\n",
    "from sklearn.metrics import auc, roc_curve\n",
    "\n",
    "from keras.models import Sequential\n",
    "from keras.layers import Dense\n",
    "from keras import regularizers"
   ]
  },
  {
   "cell_type": "markdown",
   "metadata": {},
   "source": [
    "#### 二、資料預處理(Data preprocessing)"
   ]
  },
  {
   "cell_type": "markdown",
   "metadata": {},
   "source": [
    "1.匯入資料"
   ]
  },
  {
   "cell_type": "code",
   "execution_count": 2,
   "metadata": {},
   "outputs": [],
   "source": [
    "df = pd.read_excel(\"processminer-rare-event-mts.xlsx\")"
   ]
  },
  {
   "cell_type": "markdown",
   "metadata": {},
   "source": [
    "2.移動資料\n",
    "\n",
    "- 將資料含有 y=1 的欄位向前移動兩列(row n -> n-2)作為事前預測，並將列 n-2、n-1 的 y 值設為 1 \n",
    "- 去除原始資料裡 y=1 的資料， y=0 的資料當作訓練資料"
   ]
  },
  {
   "cell_type": "code",
   "execution_count": 3,
   "metadata": {},
   "outputs": [],
   "source": [
    "sign = lambda x: (1, -1)[x < 0]    \n",
    "\n",
    "def curve_shift(df, shift):\n",
    "    \n",
    "    col_label = 'y'\n",
    "    \n",
    "    # copy y column to vector\n",
    "    vector = df[col_label].copy()\n",
    "    \n",
    "    for s in range(abs(shift)):\n",
    "        tmp = vector.shift(sign(shift))\n",
    "        tmp = tmp.fillna(0)\n",
    "        vector += tmp\n",
    "    \n",
    "    # Add vector to the df (loc: 要插入欄位的 index)\n",
    "    df.insert(loc = 2, column = 'y_tmp', value = vector)\n",
    "    \n",
    "    # Remove the rows with col_label == 1.\n",
    "    df = df.drop(df[df[col_label] == 1].index)\n",
    "    \n",
    "    # Drop col_label and rename the y_tmp col as col_label\n",
    "    df = df.drop(col_label, axis = 1)\n",
    "    df = df.rename(columns={'y_tmp': col_label})\n",
    "    \n",
    "    # Make the col_label binary\n",
    "    df.loc[df[col_label] > 0, col_label] = 1\n",
    "\n",
    "    return df"
   ]
  },
  {
   "cell_type": "markdown",
   "metadata": {},
   "source": [
    "3.顯示 y 欄位資料移動前後的差異"
   ]
  },
  {
   "cell_type": "code",
   "execution_count": 4,
   "metadata": {},
   "outputs": [
    {
     "name": "stdout",
     "output_type": "stream",
     "text": [
      "顯示 y 欄位移動前的資料:\n"
     ]
    },
    {
     "data": {
      "text/html": [
       "<div>\n",
       "<style scoped>\n",
       "    .dataframe tbody tr th:only-of-type {\n",
       "        vertical-align: middle;\n",
       "    }\n",
       "\n",
       "    .dataframe tbody tr th {\n",
       "        vertical-align: top;\n",
       "    }\n",
       "\n",
       "    .dataframe thead th {\n",
       "        text-align: right;\n",
       "    }\n",
       "</style>\n",
       "<table border=\"1\" class=\"dataframe\">\n",
       "  <thead>\n",
       "    <tr style=\"text-align: right;\">\n",
       "      <th></th>\n",
       "      <th>time</th>\n",
       "      <th>y</th>\n",
       "      <th>x1</th>\n",
       "      <th>x2</th>\n",
       "      <th>x3</th>\n",
       "    </tr>\n",
       "  </thead>\n",
       "  <tbody>\n",
       "    <tr>\n",
       "      <th>256</th>\n",
       "      <td>1999-05-01 08:32:00</td>\n",
       "      <td>0</td>\n",
       "      <td>1.016235</td>\n",
       "      <td>-4.058394</td>\n",
       "      <td>-1.097158</td>\n",
       "    </tr>\n",
       "    <tr>\n",
       "      <th>257</th>\n",
       "      <td>1999-05-01 08:34:00</td>\n",
       "      <td>0</td>\n",
       "      <td>1.005602</td>\n",
       "      <td>-3.876199</td>\n",
       "      <td>-1.074373</td>\n",
       "    </tr>\n",
       "    <tr>\n",
       "      <th>258</th>\n",
       "      <td>1999-05-01 08:36:00</td>\n",
       "      <td>0</td>\n",
       "      <td>0.933933</td>\n",
       "      <td>-3.868467</td>\n",
       "      <td>-1.249954</td>\n",
       "    </tr>\n",
       "    <tr>\n",
       "      <th>259</th>\n",
       "      <td>1999-05-01 08:38:00</td>\n",
       "      <td>1</td>\n",
       "      <td>0.892311</td>\n",
       "      <td>-13.332664</td>\n",
       "      <td>-10.006578</td>\n",
       "    </tr>\n",
       "    <tr>\n",
       "      <th>260</th>\n",
       "      <td>1999-05-01 10:50:00</td>\n",
       "      <td>0</td>\n",
       "      <td>0.020062</td>\n",
       "      <td>-3.987897</td>\n",
       "      <td>-1.248529</td>\n",
       "    </tr>\n",
       "    <tr>\n",
       "      <th>261</th>\n",
       "      <td>1999-05-01 10:52:00</td>\n",
       "      <td>0</td>\n",
       "      <td>-0.109346</td>\n",
       "      <td>-5.071100</td>\n",
       "      <td>-2.409911</td>\n",
       "    </tr>\n",
       "  </tbody>\n",
       "</table>\n",
       "</div>"
      ],
      "text/plain": [
       "                   time  y        x1         x2         x3\n",
       "256 1999-05-01 08:32:00  0  1.016235  -4.058394  -1.097158\n",
       "257 1999-05-01 08:34:00  0  1.005602  -3.876199  -1.074373\n",
       "258 1999-05-01 08:36:00  0  0.933933  -3.868467  -1.249954\n",
       "259 1999-05-01 08:38:00  1  0.892311 -13.332664 -10.006578\n",
       "260 1999-05-01 10:50:00  0  0.020062  -3.987897  -1.248529\n",
       "261 1999-05-01 10:52:00  0 -0.109346  -5.071100  -2.409911"
      ]
     },
     "metadata": {},
     "output_type": "display_data"
    },
    {
     "name": "stdout",
     "output_type": "stream",
     "text": [
      "------------------------\n",
      "顯示 y 欄位移動後的資料:\n"
     ]
    },
    {
     "data": {
      "text/html": [
       "<div>\n",
       "<style scoped>\n",
       "    .dataframe tbody tr th:only-of-type {\n",
       "        vertical-align: middle;\n",
       "    }\n",
       "\n",
       "    .dataframe tbody tr th {\n",
       "        vertical-align: top;\n",
       "    }\n",
       "\n",
       "    .dataframe thead th {\n",
       "        text-align: right;\n",
       "    }\n",
       "</style>\n",
       "<table border=\"1\" class=\"dataframe\">\n",
       "  <thead>\n",
       "    <tr style=\"text-align: right;\">\n",
       "      <th></th>\n",
       "      <th>time</th>\n",
       "      <th>y</th>\n",
       "      <th>x1</th>\n",
       "      <th>x2</th>\n",
       "      <th>x3</th>\n",
       "    </tr>\n",
       "  </thead>\n",
       "  <tbody>\n",
       "    <tr>\n",
       "      <th>256</th>\n",
       "      <td>1999-05-01 08:32:00</td>\n",
       "      <td>0.0</td>\n",
       "      <td>1.016235</td>\n",
       "      <td>-4.058394</td>\n",
       "      <td>-1.097158</td>\n",
       "    </tr>\n",
       "    <tr>\n",
       "      <th>257</th>\n",
       "      <td>1999-05-01 08:34:00</td>\n",
       "      <td>1.0</td>\n",
       "      <td>1.005602</td>\n",
       "      <td>-3.876199</td>\n",
       "      <td>-1.074373</td>\n",
       "    </tr>\n",
       "    <tr>\n",
       "      <th>258</th>\n",
       "      <td>1999-05-01 08:36:00</td>\n",
       "      <td>1.0</td>\n",
       "      <td>0.933933</td>\n",
       "      <td>-3.868467</td>\n",
       "      <td>-1.249954</td>\n",
       "    </tr>\n",
       "    <tr>\n",
       "      <th>260</th>\n",
       "      <td>1999-05-01 10:50:00</td>\n",
       "      <td>0.0</td>\n",
       "      <td>0.020062</td>\n",
       "      <td>-3.987897</td>\n",
       "      <td>-1.248529</td>\n",
       "    </tr>\n",
       "    <tr>\n",
       "      <th>261</th>\n",
       "      <td>1999-05-01 10:52:00</td>\n",
       "      <td>0.0</td>\n",
       "      <td>-0.109346</td>\n",
       "      <td>-5.071100</td>\n",
       "      <td>-2.409911</td>\n",
       "    </tr>\n",
       "    <tr>\n",
       "      <th>262</th>\n",
       "      <td>1999-05-01 10:54:00</td>\n",
       "      <td>0.0</td>\n",
       "      <td>-0.098179</td>\n",
       "      <td>-4.070966</td>\n",
       "      <td>-3.268804</td>\n",
       "    </tr>\n",
       "  </tbody>\n",
       "</table>\n",
       "</div>"
      ],
      "text/plain": [
       "                   time    y        x1        x2        x3\n",
       "256 1999-05-01 08:32:00  0.0  1.016235 -4.058394 -1.097158\n",
       "257 1999-05-01 08:34:00  1.0  1.005602 -3.876199 -1.074373\n",
       "258 1999-05-01 08:36:00  1.0  0.933933 -3.868467 -1.249954\n",
       "260 1999-05-01 10:50:00  0.0  0.020062 -3.987897 -1.248529\n",
       "261 1999-05-01 10:52:00  0.0 -0.109346 -5.071100 -2.409911\n",
       "262 1999-05-01 10:54:00  0.0 -0.098179 -4.070966 -3.268804"
      ]
     },
     "metadata": {},
     "output_type": "display_data"
    }
   ],
   "source": [
    "print('顯示 y 欄位移動前的資料:')\n",
    "display(df.iloc[256:262, :5])\n",
    "print('------------------------')\n",
    "print('顯示 y 欄位移動後的資料:')\n",
    "df = curve_shift(df, -2)\n",
    "display(df.iloc[256:262, :5])"
   ]
  },
  {
   "cell_type": "markdown",
   "metadata": {},
   "source": [
    "4.去除 time, x28, x61 等三個欄位"
   ]
  },
  {
   "cell_type": "code",
   "execution_count": 5,
   "metadata": {},
   "outputs": [
    {
     "data": {
      "text/html": [
       "<div>\n",
       "<style scoped>\n",
       "    .dataframe tbody tr th:only-of-type {\n",
       "        vertical-align: middle;\n",
       "    }\n",
       "\n",
       "    .dataframe tbody tr th {\n",
       "        vertical-align: top;\n",
       "    }\n",
       "\n",
       "    .dataframe thead th {\n",
       "        text-align: right;\n",
       "    }\n",
       "</style>\n",
       "<table border=\"1\" class=\"dataframe\">\n",
       "  <thead>\n",
       "    <tr style=\"text-align: right;\">\n",
       "      <th></th>\n",
       "      <th>y</th>\n",
       "      <th>x1</th>\n",
       "      <th>x2</th>\n",
       "      <th>x3</th>\n",
       "      <th>x4</th>\n",
       "    </tr>\n",
       "  </thead>\n",
       "  <tbody>\n",
       "    <tr>\n",
       "      <th>256</th>\n",
       "      <td>0.0</td>\n",
       "      <td>1.016235</td>\n",
       "      <td>-4.058394</td>\n",
       "      <td>-1.097158</td>\n",
       "      <td>2.327307</td>\n",
       "    </tr>\n",
       "    <tr>\n",
       "      <th>257</th>\n",
       "      <td>1.0</td>\n",
       "      <td>1.005602</td>\n",
       "      <td>-3.876199</td>\n",
       "      <td>-1.074373</td>\n",
       "      <td>0.844397</td>\n",
       "    </tr>\n",
       "    <tr>\n",
       "      <th>258</th>\n",
       "      <td>1.0</td>\n",
       "      <td>0.933933</td>\n",
       "      <td>-3.868467</td>\n",
       "      <td>-1.249954</td>\n",
       "      <td>2.875311</td>\n",
       "    </tr>\n",
       "    <tr>\n",
       "      <th>260</th>\n",
       "      <td>0.0</td>\n",
       "      <td>0.020062</td>\n",
       "      <td>-3.987897</td>\n",
       "      <td>-1.248529</td>\n",
       "      <td>-72.927591</td>\n",
       "    </tr>\n",
       "    <tr>\n",
       "      <th>261</th>\n",
       "      <td>0.0</td>\n",
       "      <td>-0.109346</td>\n",
       "      <td>-5.071100</td>\n",
       "      <td>-2.409911</td>\n",
       "      <td>-68.501153</td>\n",
       "    </tr>\n",
       "    <tr>\n",
       "      <th>262</th>\n",
       "      <td>0.0</td>\n",
       "      <td>-0.098179</td>\n",
       "      <td>-4.070966</td>\n",
       "      <td>-3.268804</td>\n",
       "      <td>-70.437784</td>\n",
       "    </tr>\n",
       "  </tbody>\n",
       "</table>\n",
       "</div>"
      ],
      "text/plain": [
       "       y        x1        x2        x3         x4\n",
       "256  0.0  1.016235 -4.058394 -1.097158   2.327307\n",
       "257  1.0  1.005602 -3.876199 -1.074373   0.844397\n",
       "258  1.0  0.933933 -3.868467 -1.249954   2.875311\n",
       "260  0.0  0.020062 -3.987897 -1.248529 -72.927591\n",
       "261  0.0 -0.109346 -5.071100 -2.409911 -68.501153\n",
       "262  0.0 -0.098179 -4.070966 -3.268804 -70.437784"
      ]
     },
     "execution_count": 5,
     "metadata": {},
     "output_type": "execute_result"
    }
   ],
   "source": [
    "# Remove time column, and the categorical columns\n",
    "df = df.drop(['time', 'x28', 'x61'], axis = 1)\n",
    "df.iloc[256:262, :5]"
   ]
  },
  {
   "cell_type": "markdown",
   "metadata": {},
   "source": [
    "5.將原始資料分成訓練、驗證和測試資料 (train, valid, and test datasets)"
   ]
  },
  {
   "cell_type": "code",
   "execution_count": 6,
   "metadata": {},
   "outputs": [],
   "source": [
    "#from sklearn.model_selection import train_test_split\n",
    "\n",
    "# Randomly select the data points\n",
    "seed = 111 \n",
    "data_split = 0.2\n",
    "\n",
    "df_train, df_test = train_test_split(df, test_size = data_split, random_state = seed)\n",
    "\n",
    "df_train, df_valid = train_test_split(df_train, test_size = data_split, random_state = seed)\n",
    "\n",
    "# 訓練資料中，y = 0 的 data (x & y)\n",
    "df_train_0 = df_train.loc[df['y'] == 0]\n",
    "\n",
    "# 訓練資料中，y = 1 的 data (x & y)\n",
    "df_train_1 = df_train.loc[df['y'] == 1]\n",
    "\n",
    "# 訓練資料中，y = 0 的 data (x)\n",
    "df_train_0_x = df_train_0.drop(['y'], axis = 1)\n",
    "\n",
    "# 訓練資料中，y = 1 的 data (x)\n",
    "df_train_1_x = df_train_1.drop(['y'], axis = 1)\n",
    "\n",
    "# 驗證資料中，y = 0 的 data (x & y)\n",
    "df_valid_0 = df_valid.loc[df['y'] == 0]\n",
    "\n",
    "# 驗證資料中，y = 1 的 data (x & y)\n",
    "df_valid_1 = df_valid.loc[df['y'] == 1]\n",
    "\n",
    "# 驗證資料中，y = 0 的 data (x)\n",
    "df_valid_0_x = df_valid_0.drop(['y'], axis = 1)\n",
    "\n",
    "# 驗證資料中，y = 1 的 data (x)\n",
    "df_valid_1_x = df_valid_1.drop(['y'], axis = 1)\n",
    "\n",
    "# 測試資料中，y = 0 的 data (x & y)\n",
    "df_test_0 = df_test.loc[df['y'] == 0]\n",
    "\n",
    "# 測試資料中，y = 1 的 data (x & y)\n",
    "df_test_1 = df_test.loc[df['y'] == 1]\n",
    "\n",
    "# 測試資料中，y = 0 的 data (x)\n",
    "df_test_0_x = df_test_0.drop(['y'], axis = 1)\n",
    "\n",
    "# 測試資料中，y = 1 的 data (x)\n",
    "df_test_1_x = df_test_1.drop(['y'], axis = 1)"
   ]
  },
  {
   "cell_type": "markdown",
   "metadata": {},
   "source": [
    "6.資料標準化 (Standardization): 資料轉換成 Gaussian 分佈 (mean = 0, variance = 1)"
   ]
  },
  {
   "cell_type": "code",
   "execution_count": 7,
   "metadata": {},
   "outputs": [],
   "source": [
    "#from sklearn.preprocessing import StandardScaler\n",
    "\n",
    "scaler = StandardScaler().fit(df_train_0_x)\n",
    "\n",
    "df_train_0_x_rescaled = scaler.transform(df_train_0_x)\n",
    "\n",
    "df_valid_x_rescaled = scaler.transform(df_valid.drop(['y'], axis = 1))\n",
    "df_valid_0_x_rescaled = scaler.transform(df_valid_0_x)\n",
    "\n",
    "df_test_x_rescaled = scaler.transform(df_test.drop(['y'], axis = 1))\n",
    "df_test_0_x_rescaled = scaler.transform(df_test_0_x)"
   ]
  },
  {
   "cell_type": "markdown",
   "metadata": {},
   "source": [
    "#### 三、建立 Autoencoder Classifier"
   ]
  },
  {
   "cell_type": "code",
   "execution_count": 8,
   "metadata": {},
   "outputs": [
    {
     "name": "stdout",
     "output_type": "stream",
     "text": [
      "WARNING:tensorflow:From C:\\Users\\user\\Anaconda3\\envs\\tensorflow_ev\\lib\\site-packages\\tensorflow\\python\\framework\\op_def_library.py:263: colocate_with (from tensorflow.python.framework.ops) is deprecated and will be removed in a future version.\n",
      "Instructions for updating:\n",
      "Colocations handled automatically by placer.\n",
      "_________________________________________________________________\n",
      "Layer (type)                 Output Shape              Param #   \n",
      "=================================================================\n",
      "encoder (Dense)              (None, 32)                1920      \n",
      "_________________________________________________________________\n",
      "hidden_layer (Dense)         (None, 16)                528       \n",
      "_________________________________________________________________\n",
      "decoder (Dense)              (None, 16)                272       \n",
      "_________________________________________________________________\n",
      "output_layer (Dense)         (None, 59)                1003      \n",
      "=================================================================\n",
      "Total params: 3,723\n",
      "Trainable params: 3,723\n",
      "Non-trainable params: 0\n",
      "_________________________________________________________________\n",
      "None\n"
     ]
    }
   ],
   "source": [
    "# 匯入所需的模組\n",
    "#from keras.models import Sequential\n",
    "#from keras.layers import Dense\n",
    "#from keras import regularizers\n",
    "\n",
    "# 建立線性堆疊模型(骨架)\n",
    "autoencoder = Sequential()\n",
    "\n",
    "# 參數設定\n",
    "input_layer_dim = df_train_0_x_rescaled.shape[1]\n",
    "encoding_dim = 32 \n",
    "hidden_dim = int(encoding_dim / 2)\n",
    "decoding_dim = 16\n",
    "learning_rate = 1e-3\n",
    "\n",
    "# 建立 encoder\n",
    "autoencoder.add(Dense(units = encoding_dim, input_dim = input_layer_dim,\n",
    "                      activity_regularizer = regularizers.l1(learning_rate), \n",
    "                      activation = 'tanh', name = 'encoder'))\n",
    "\n",
    "autoencoder.add(Dense(units = hidden_dim, activation = 'relu', name = 'hidden_layer'))\n",
    "\n",
    "# 建立 decoder\n",
    "autoencoder.add(Dense(units = decoding_dim, activation = 'tanh', name = 'decoder'))\n",
    "\n",
    "# 建立 output layer\n",
    "autoencoder.add(Dense(units = input_layer_dim, activation = 'relu', name = 'output_layer'))\n",
    "\n",
    "# 查看模型摘要\n",
    "print(autoencoder.summary())"
   ]
  },
  {
   "cell_type": "markdown",
   "metadata": {},
   "source": [
    "#### 四、執行類神經網路訓練"
   ]
  },
  {
   "cell_type": "code",
   "execution_count": 9,
   "metadata": {},
   "outputs": [
    {
     "name": "stdout",
     "output_type": "stream",
     "text": [
      "WARNING:tensorflow:From C:\\Users\\user\\Anaconda3\\envs\\tensorflow_ev\\lib\\site-packages\\tensorflow\\python\\ops\\math_ops.py:3066: to_int32 (from tensorflow.python.ops.math_ops) is deprecated and will be removed in a future version.\n",
      "Instructions for updating:\n",
      "Use tf.cast instead.\n",
      "Train on 11533 samples, validate on 2884 samples\n",
      "Epoch 1/100\n",
      " - 0s - loss: 2.8317 - acc: 0.0476 - val_loss: 2.3439 - val_acc: 0.0718\n",
      "Epoch 2/100\n",
      " - 0s - loss: 1.9772 - acc: 0.0598 - val_loss: 1.6761 - val_acc: 0.0503\n",
      "Epoch 3/100\n",
      " - 0s - loss: 1.4442 - acc: 0.0669 - val_loss: 1.2854 - val_acc: 0.0784\n",
      "Epoch 4/100\n",
      " - 0s - loss: 1.1758 - acc: 0.0908 - val_loss: 1.1140 - val_acc: 0.0843\n",
      "Epoch 5/100\n",
      " - 0s - loss: 1.0476 - acc: 0.1082 - val_loss: 1.0258 - val_acc: 0.1127\n",
      "Epoch 6/100\n",
      " - 0s - loss: 0.9752 - acc: 0.1438 - val_loss: 0.9668 - val_acc: 0.1456\n",
      "Epoch 7/100\n",
      " - 0s - loss: 0.9266 - acc: 0.1677 - val_loss: 0.9264 - val_acc: 0.1581\n",
      "Epoch 8/100\n",
      " - 0s - loss: 0.8867 - acc: 0.1924 - val_loss: 0.8951 - val_acc: 0.1938\n",
      "Epoch 9/100\n",
      " - 0s - loss: 0.8533 - acc: 0.2218 - val_loss: 0.8585 - val_acc: 0.2219\n",
      "Epoch 10/100\n",
      " - 0s - loss: 0.8266 - acc: 0.2378 - val_loss: 0.8389 - val_acc: 0.2410\n",
      "Epoch 11/100\n",
      " - 0s - loss: 0.8062 - acc: 0.2566 - val_loss: 0.8151 - val_acc: 0.2874\n",
      "Epoch 12/100\n",
      " - 0s - loss: 0.7885 - acc: 0.2835 - val_loss: 0.7999 - val_acc: 0.2791\n",
      "Epoch 13/100\n",
      " - 0s - loss: 0.7735 - acc: 0.3040 - val_loss: 0.7890 - val_acc: 0.3034\n",
      "Epoch 14/100\n",
      " - 0s - loss: 0.7637 - acc: 0.3252 - val_loss: 0.7732 - val_acc: 0.3211\n",
      "Epoch 15/100\n",
      " - 0s - loss: 0.7555 - acc: 0.3337 - val_loss: 0.7711 - val_acc: 0.3311\n",
      "Epoch 16/100\n",
      " - 0s - loss: 0.7481 - acc: 0.3455 - val_loss: 0.7620 - val_acc: 0.3551\n",
      "Epoch 17/100\n",
      " - 0s - loss: 0.7426 - acc: 0.3487 - val_loss: 0.7592 - val_acc: 0.3547\n",
      "Epoch 18/100\n",
      " - 0s - loss: 0.7375 - acc: 0.3579 - val_loss: 0.7498 - val_acc: 0.3693\n",
      "Epoch 19/100\n",
      " - 0s - loss: 0.7314 - acc: 0.3614 - val_loss: 0.7481 - val_acc: 0.3568\n",
      "Epoch 20/100\n",
      " - 0s - loss: 0.7292 - acc: 0.3651 - val_loss: 0.7506 - val_acc: 0.3838\n",
      "Epoch 21/100\n",
      " - 0s - loss: 0.7237 - acc: 0.3757 - val_loss: 0.7396 - val_acc: 0.3773\n",
      "Epoch 22/100\n",
      " - 0s - loss: 0.7199 - acc: 0.3781 - val_loss: 0.7387 - val_acc: 0.3953\n",
      "Epoch 23/100\n",
      " - 0s - loss: 0.7216 - acc: 0.3885 - val_loss: 0.7269 - val_acc: 0.3755\n",
      "Epoch 24/100\n",
      " - 0s - loss: 0.7145 - acc: 0.3930 - val_loss: 0.7281 - val_acc: 0.4064\n",
      "Epoch 25/100\n",
      " - 0s - loss: 0.7116 - acc: 0.3989 - val_loss: 0.7321 - val_acc: 0.4060\n",
      "Epoch 26/100\n",
      " - 0s - loss: 0.7103 - acc: 0.4036 - val_loss: 0.7213 - val_acc: 0.4182\n",
      "Epoch 27/100\n",
      " - 0s - loss: 0.7068 - acc: 0.4052 - val_loss: 0.7233 - val_acc: 0.3866\n",
      "Epoch 28/100\n",
      " - 0s - loss: 0.7050 - acc: 0.4093 - val_loss: 0.7320 - val_acc: 0.4085\n",
      "Epoch 29/100\n",
      " - 0s - loss: 0.7064 - acc: 0.4129 - val_loss: 0.7174 - val_acc: 0.4213\n",
      "Epoch 30/100\n",
      " - 0s - loss: 0.7015 - acc: 0.4286 - val_loss: 0.7154 - val_acc: 0.4296\n",
      "Epoch 31/100\n",
      " - 0s - loss: 0.6985 - acc: 0.4244 - val_loss: 0.7148 - val_acc: 0.4178\n",
      "Epoch 32/100\n",
      " - 0s - loss: 0.6969 - acc: 0.4233 - val_loss: 0.7115 - val_acc: 0.4417\n",
      "Epoch 33/100\n",
      " - 0s - loss: 0.6973 - acc: 0.4309 - val_loss: 0.7138 - val_acc: 0.4258\n",
      "Epoch 34/100\n",
      " - 0s - loss: 0.7007 - acc: 0.4302 - val_loss: 0.7115 - val_acc: 0.4376\n",
      "Epoch 35/100\n",
      " - 0s - loss: 0.6929 - acc: 0.4324 - val_loss: 0.7077 - val_acc: 0.4258\n",
      "Epoch 36/100\n",
      " - 0s - loss: 0.6922 - acc: 0.4335 - val_loss: 0.7052 - val_acc: 0.4372\n",
      "Epoch 37/100\n",
      " - 0s - loss: 0.6912 - acc: 0.4335 - val_loss: 0.7050 - val_acc: 0.4463\n",
      "Epoch 38/100\n",
      " - 0s - loss: 0.6911 - acc: 0.4374 - val_loss: 0.7058 - val_acc: 0.4469\n",
      "Epoch 39/100\n",
      " - 0s - loss: 0.6889 - acc: 0.4433 - val_loss: 0.7092 - val_acc: 0.4365\n",
      "Epoch 40/100\n",
      " - 0s - loss: 0.6882 - acc: 0.4425 - val_loss: 0.7003 - val_acc: 0.4476\n",
      "Epoch 41/100\n",
      " - 0s - loss: 0.6861 - acc: 0.4439 - val_loss: 0.7028 - val_acc: 0.4494\n",
      "Epoch 42/100\n",
      " - 0s - loss: 0.6894 - acc: 0.4427 - val_loss: 0.7020 - val_acc: 0.4438\n",
      "Epoch 43/100\n",
      " - 0s - loss: 0.6854 - acc: 0.4447 - val_loss: 0.7037 - val_acc: 0.4521\n",
      "Epoch 44/100\n",
      " - 0s - loss: 0.6869 - acc: 0.4468 - val_loss: 0.7022 - val_acc: 0.4334\n",
      "Epoch 45/100\n",
      " - 0s - loss: 0.6850 - acc: 0.4485 - val_loss: 0.6989 - val_acc: 0.4504\n",
      "Epoch 46/100\n",
      " - 0s - loss: 0.6850 - acc: 0.4482 - val_loss: 0.6989 - val_acc: 0.4518\n",
      "Epoch 47/100\n",
      " - 0s - loss: 0.6829 - acc: 0.4546 - val_loss: 0.6992 - val_acc: 0.4303\n",
      "Epoch 48/100\n",
      " - 0s - loss: 0.6822 - acc: 0.4550 - val_loss: 0.7101 - val_acc: 0.4466\n",
      "Epoch 49/100\n",
      " - 0s - loss: 0.6872 - acc: 0.4557 - val_loss: 0.6975 - val_acc: 0.4390\n",
      "Epoch 50/100\n",
      " - 0s - loss: 0.6817 - acc: 0.4551 - val_loss: 0.6923 - val_acc: 0.4584\n",
      "Epoch 51/100\n",
      " - 0s - loss: 0.6803 - acc: 0.4581 - val_loss: 0.6951 - val_acc: 0.4608\n",
      "Epoch 52/100\n",
      " - 0s - loss: 0.6809 - acc: 0.4550 - val_loss: 0.6936 - val_acc: 0.4587\n",
      "Epoch 53/100\n",
      " - 0s - loss: 0.6798 - acc: 0.4609 - val_loss: 0.6911 - val_acc: 0.4743\n",
      "Epoch 54/100\n",
      " - 0s - loss: 0.6806 - acc: 0.4545 - val_loss: 0.7032 - val_acc: 0.4483\n",
      "Epoch 55/100\n",
      " - 0s - loss: 0.6836 - acc: 0.4568 - val_loss: 0.7002 - val_acc: 0.4646\n",
      "Epoch 56/100\n",
      " - 0s - loss: 0.6804 - acc: 0.4548 - val_loss: 0.6917 - val_acc: 0.4795\n",
      "Epoch 57/100\n",
      " - 0s - loss: 0.6784 - acc: 0.4648 - val_loss: 0.6884 - val_acc: 0.4730\n",
      "Epoch 58/100\n",
      " - 0s - loss: 0.6758 - acc: 0.4687 - val_loss: 0.6865 - val_acc: 0.4733\n",
      "Epoch 59/100\n",
      " - 0s - loss: 0.6764 - acc: 0.4634 - val_loss: 0.6888 - val_acc: 0.4601\n",
      "Epoch 60/100\n",
      " - 0s - loss: 0.6749 - acc: 0.4713 - val_loss: 0.6910 - val_acc: 0.4508\n",
      "Epoch 61/100\n",
      " - 0s - loss: 0.6743 - acc: 0.4660 - val_loss: 0.6939 - val_acc: 0.4660\n",
      "Epoch 62/100\n",
      " - 0s - loss: 0.6747 - acc: 0.4721 - val_loss: 0.6924 - val_acc: 0.4792\n",
      "Epoch 63/100\n",
      " - 0s - loss: 0.6755 - acc: 0.4693 - val_loss: 0.6953 - val_acc: 0.4619\n",
      "Epoch 64/100\n",
      " - 0s - loss: 0.6787 - acc: 0.4713 - val_loss: 0.6939 - val_acc: 0.4445\n",
      "Epoch 65/100\n",
      " - 0s - loss: 0.6758 - acc: 0.4740 - val_loss: 0.6860 - val_acc: 0.4629\n",
      "Epoch 66/100\n",
      " - 0s - loss: 0.6732 - acc: 0.4778 - val_loss: 0.6879 - val_acc: 0.4965\n",
      "Epoch 67/100\n",
      " - 0s - loss: 0.6737 - acc: 0.4720 - val_loss: 0.6861 - val_acc: 0.4827\n",
      "Epoch 68/100\n",
      " - 0s - loss: 0.6711 - acc: 0.4841 - val_loss: 0.7267 - val_acc: 0.4289\n",
      "Epoch 69/100\n",
      " - 0s - loss: 0.6960 - acc: 0.4684 - val_loss: 0.6860 - val_acc: 0.4646\n",
      "Epoch 70/100\n",
      " - 0s - loss: 0.6724 - acc: 0.4807 - val_loss: 0.6851 - val_acc: 0.4840\n",
      "Epoch 71/100\n",
      " - 0s - loss: 0.6722 - acc: 0.4821 - val_loss: 0.6828 - val_acc: 0.4858\n",
      "Epoch 72/100\n",
      " - 0s - loss: 0.6712 - acc: 0.4837 - val_loss: 0.6824 - val_acc: 0.4740\n",
      "Epoch 73/100\n",
      " - 0s - loss: 0.6705 - acc: 0.4832 - val_loss: 0.6803 - val_acc: 0.4747\n",
      "Epoch 74/100\n",
      " - 0s - loss: 0.6684 - acc: 0.4863 - val_loss: 0.6855 - val_acc: 0.4761\n",
      "Epoch 75/100\n",
      " - 0s - loss: 0.6686 - acc: 0.4908 - val_loss: 0.6832 - val_acc: 0.4646\n",
      "Epoch 76/100\n",
      " - 0s - loss: 0.6714 - acc: 0.4887 - val_loss: 0.6796 - val_acc: 0.4854\n",
      "Epoch 77/100\n",
      " - 0s - loss: 0.6677 - acc: 0.4878 - val_loss: 0.6842 - val_acc: 0.4913\n",
      "Epoch 78/100\n",
      " - 0s - loss: 0.6694 - acc: 0.4941 - val_loss: 0.6838 - val_acc: 0.4854\n",
      "Epoch 79/100\n",
      " - 0s - loss: 0.6736 - acc: 0.4896 - val_loss: 0.6802 - val_acc: 0.4743\n",
      "Epoch 80/100\n",
      " - 0s - loss: 0.6660 - acc: 0.4934 - val_loss: 0.6815 - val_acc: 0.4997\n",
      "Epoch 81/100\n",
      " - 0s - loss: 0.6669 - acc: 0.4905 - val_loss: 0.6829 - val_acc: 0.4698\n",
      "Epoch 82/100\n",
      " - 0s - loss: 0.6696 - acc: 0.4928 - val_loss: 0.6806 - val_acc: 0.4924\n",
      "Epoch 83/100\n",
      " - 0s - loss: 0.6666 - acc: 0.4983 - val_loss: 0.6794 - val_acc: 0.4733\n",
      "Epoch 84/100\n",
      " - 0s - loss: 0.6660 - acc: 0.4975 - val_loss: 0.6847 - val_acc: 0.4747\n",
      "Epoch 85/100\n",
      " - 0s - loss: 0.6706 - acc: 0.4953 - val_loss: 0.6748 - val_acc: 0.5139\n",
      "Epoch 86/100\n",
      " - 0s - loss: 0.6659 - acc: 0.4973 - val_loss: 0.6787 - val_acc: 0.4976\n",
      "Epoch 87/100\n",
      " - 0s - loss: 0.6662 - acc: 0.5020 - val_loss: 0.6796 - val_acc: 0.5132\n",
      "Epoch 88/100\n",
      " - 0s - loss: 0.6681 - acc: 0.4967 - val_loss: 0.6837 - val_acc: 0.5111\n",
      "Epoch 89/100\n",
      " - 0s - loss: 0.6670 - acc: 0.5020 - val_loss: 0.6805 - val_acc: 0.5118\n",
      "Epoch 90/100\n",
      " - 0s - loss: 0.6657 - acc: 0.5004 - val_loss: 0.6802 - val_acc: 0.5062\n",
      "Epoch 91/100\n",
      " - 0s - loss: 0.6657 - acc: 0.5015 - val_loss: 0.6783 - val_acc: 0.4979\n",
      "Epoch 92/100\n",
      " - 0s - loss: 0.6695 - acc: 0.4990 - val_loss: 0.6758 - val_acc: 0.5191\n",
      "Epoch 93/100\n",
      " - 0s - loss: 0.6653 - acc: 0.5047 - val_loss: 0.6740 - val_acc: 0.5035\n"
     ]
    },
    {
     "name": "stdout",
     "output_type": "stream",
     "text": [
      "Epoch 94/100\n",
      " - 0s - loss: 0.6637 - acc: 0.5034 - val_loss: 0.6766 - val_acc: 0.4875\n",
      "Epoch 95/100\n",
      " - 0s - loss: 0.6633 - acc: 0.5048 - val_loss: 0.6790 - val_acc: 0.5107\n",
      "Epoch 96/100\n",
      " - 0s - loss: 0.6657 - acc: 0.5026 - val_loss: 0.6760 - val_acc: 0.5028\n",
      "Epoch 97/100\n",
      " - 0s - loss: 0.6633 - acc: 0.5057 - val_loss: 0.6719 - val_acc: 0.5246\n",
      "Epoch 98/100\n",
      " - 0s - loss: 0.6608 - acc: 0.5130 - val_loss: 0.6743 - val_acc: 0.4945\n",
      "Epoch 99/100\n",
      " - 0s - loss: 0.6640 - acc: 0.5074 - val_loss: 0.6758 - val_acc: 0.5149\n",
      "Epoch 100/100\n",
      " - 0s - loss: 0.6652 - acc: 0.5076 - val_loss: 0.6739 - val_acc: 0.5031\n"
     ]
    }
   ],
   "source": [
    "autoencoder.compile(loss = 'mean_squared_error', optimizer = 'adam', metrics = ['accuracy'])\n",
    "\n",
    "train_history = autoencoder.fit(df_train_0_x_rescaled, df_train_0_x_rescaled, \n",
    "                                validation_data = (df_valid_0_x_rescaled, df_valid_0_x_rescaled),\n",
    "                                epochs = 100, batch_size = 128, shuffle = True, verbose = 2)"
   ]
  },
  {
   "cell_type": "markdown",
   "metadata": {},
   "source": [
    "#### 五、圖形顯示訓練過程"
   ]
  },
  {
   "cell_type": "code",
   "execution_count": 10,
   "metadata": {},
   "outputs": [
    {
     "data": {
      "image/png": "[encoded data removed]",
      "text/plain": [
       "<Figure size 720x288 with 1 Axes>"
      ]
     },
     "metadata": {},
     "output_type": "display_data"
    },
    {
     "data": {
      "image/png": "[encoded data removed]",
      "text/plain": [
       "<Figure size 720x288 with 1 Axes>"
      ]
     },
     "metadata": {},
     "output_type": "display_data"
    }
   ],
   "source": [
    "def show_train_history(train_history, train, validation):\n",
    "    fig, ax = plt.subplots(figsize = (10, 4))\n",
    "    plt.plot(train_history.history[train])\n",
    "    plt.plot(train_history.history[validation])\n",
    "    plt.title('train history', fontsize = 15)\n",
    "    plt.xlabel('epoch', fontsize = 15)\n",
    "    plt.ylabel(train, fontsize = 15)\n",
    "    ax.tick_params(axis = 'both', labelsize = 12)\n",
    "    plt.legend(['train', 'validation'], fontsize = 12)\n",
    "    plt.show()\n",
    "    \n",
    "# loss function 的變化    \n",
    "show_train_history(train_history, 'acc', 'val_acc')\n",
    "\n",
    "# accuracy 的變化\n",
    "show_train_history(train_history, 'loss', 'val_loss')"
   ]
  },
  {
   "cell_type": "markdown",
   "metadata": {},
   "source": [
    "#### 六、使用驗證資料辨認 threshold"
   ]
  },
  {
   "cell_type": "code",
   "execution_count": 11,
   "metadata": {},
   "outputs": [
    {
     "data": {
      "image/png": "[encoded data removed]",
      "text/plain": [
       "<Figure size 720x360 with 1 Axes>"
      ]
     },
     "metadata": {},
     "output_type": "display_data"
    }
   ],
   "source": [
    "#from sklearn.metrics import confusion_matrix, precision_recall_curve\n",
    "\n",
    "valid_x_predictions = autoencoder.predict(df_valid_x_rescaled)\n",
    "\n",
    "mse = np.mean(np.power(df_valid_x_rescaled - valid_x_predictions, 2), axis = 1)\n",
    "\n",
    "error_df = pd.DataFrame({'Reconstruction_error': mse, 'True_class': df_valid['y']})\n",
    "\n",
    "precision_rt, recall_rt, threshold_rt = precision_recall_curve(error_df.True_class,\n",
    "                                                               error_df.Reconstruction_error)\n",
    "\n",
    "fig, ax = plt.subplots(figsize = (10, 5))\n",
    "plt.plot(threshold_rt, precision_rt[1:], label = \"Precision\", linewidth = 2)\n",
    "plt.plot(threshold_rt, recall_rt[1:], label = \"Recall\", linewidth = 2)\n",
    "plt.title('Precision/Recall for different threshold values', fontsize = 15)\n",
    "plt.xlabel('Threshold', fontsize = 15)\n",
    "plt.ylabel('Precision/Recall', fontsize = 15)\n",
    "ax.tick_params(axis = 'both', labelsize = 12)\n",
    "plt.legend(fontsize = 12)\n",
    "plt.show()"
   ]
  },
  {
   "cell_type": "markdown",
   "metadata": {},
   "source": [
    "#### 七、使用測試資料進行分類"
   ]
  },
  {
   "cell_type": "code",
   "execution_count": 12,
   "metadata": {},
   "outputs": [
    {
     "data": {
      "image/png": "[encoded data removed]",
      "text/plain": [
       "<Figure size 720x360 with 1 Axes>"
      ]
     },
     "metadata": {},
     "output_type": "display_data"
    }
   ],
   "source": [
    "test_x_predictions = autoencoder.predict(df_test_x_rescaled)\n",
    "\n",
    "mse = np.mean(np.power(df_test_x_rescaled - test_x_predictions, 2), axis = 1)\n",
    "\n",
    "error_df_test = pd.DataFrame({'Reconstruction_error': mse, 'True_class': df_test['y']})\n",
    "\n",
    "error_df_test = error_df_test.reset_index()\n",
    "\n",
    "threshold_fixed = 0.85\n",
    "\n",
    "groups = error_df_test.groupby('True_class')\n",
    "\n",
    "fig, ax = plt.subplots(figsize = (10, 5))\n",
    "\n",
    "for name, group in groups:\n",
    "    ax.plot(group.index, group.Reconstruction_error, marker = 'o', ms = 3.5, linestyle = '',\n",
    "            label = \"Break\" if name == 1 else \"Normal\")\n",
    "\n",
    "ax.hlines(threshold_fixed, ax.get_xlim()[0], ax.get_xlim()[1], colors = \"r\",\n",
    "          zorder = 100, label = 'Threshold')\n",
    "\n",
    "plt.title(\"Reconstruction error for different classes\", fontsize = 15)\n",
    "plt.ylabel(\"Reconstruction error\", fontsize = 15)\n",
    "plt.xlabel(\"Data point index\", fontsize = 15)\n",
    "ax.tick_params(axis = 'both', labelsize = 15)\n",
    "ax.legend(fontsize = 15)\n",
    "plt.show()"
   ]
  },
  {
   "cell_type": "markdown",
   "metadata": {},
   "source": [
    "#### 八、顯示混淆矩陣(confusion matrix)"
   ]
  },
  {
   "cell_type": "code",
   "execution_count": 13,
   "metadata": {},
   "outputs": [
    {
     "data": {
      "image/png": "[encoded data removed]",
      "text/plain": [
       "<Figure size 864x360 with 2 Axes>"
      ]
     },
     "metadata": {},
     "output_type": "display_data"
    }
   ],
   "source": [
    "#import seaborn as sns\n",
    "LABELS = [\"Normal\",\"Break\"]\n",
    "\n",
    "pred_y = [1 if e > threshold_fixed else 0 for e in error_df.Reconstruction_error.values]\n",
    "\n",
    "conf_matrix = confusion_matrix(error_df.True_class, pred_y)\n",
    "\n",
    "fig, ax = plt.subplots(figsize = (12, 5))\n",
    "sns.heatmap(conf_matrix, xticklabels = LABELS, yticklabels = LABELS, fmt = \"d\",\n",
    "            annot = True, annot_kws={\"size\": 15});\n",
    "\n",
    "plt.title(\"Confusion matrix\", fontsize = 18)\n",
    "plt.ylabel('True class', fontsize = 15)\n",
    "plt.xlabel('Predicted class', fontsize = 15)\n",
    "ax.tick_params(axis = 'both', labelsize = 12)\n",
    "plt.show()"
   ]
  },
  {
   "cell_type": "markdown",
   "metadata": {},
   "source": [
    "#### 九、顯示 AUC 和  ROC 曲線"
   ]
  },
  {
   "cell_type": "code",
   "execution_count": 14,
   "metadata": {},
   "outputs": [
    {
     "data": {
      "image/png": "[encoded data removed]",
      "text/plain": [
       "<Figure size 864x360 with 1 Axes>"
      ]
     },
     "metadata": {},
     "output_type": "display_data"
    }
   ],
   "source": [
    "#from sklearn.metrics import auc, roc_curve\n",
    "\n",
    "false_pos_rate, true_pos_rate, thresholds = roc_curve(error_df.True_class, \n",
    "                                                      error_df.Reconstruction_error)\n",
    "\n",
    "roc_auc = auc(false_pos_rate, true_pos_rate,)\n",
    "\n",
    "fig, ax = plt.subplots(figsize = (12, 5))\n",
    "plt.plot(false_pos_rate, true_pos_rate, linewidth = 2, label = 'AUC = %0.3f'% roc_auc)\n",
    "plt.plot([0,1],[0,1], linewidth = 2)\n",
    "\n",
    "plt.xlim([-0.01, 1])\n",
    "plt.ylim([0, 1.01])\n",
    "plt.legend(loc = 'lower right', fontsize = 15)\n",
    "plt.title('Receiver operating characteristic curve (ROC)', fontsize = 15)\n",
    "plt.ylabel('True Positive Rate', fontsize = 15)\n",
    "plt.xlabel('False Positive Rate', fontsize = 15)\n",
    "ax.tick_params(axis = 'both', labelsize = 12)\n",
    "plt.show()"
   ]
  },
  {
   "cell_type": "markdown",
   "metadata": {},
   "source": [
    "#### Reference: \n",
    "- [Dataset: Rare Event Classification in Multivariate Time Series](https://arxiv.org/abs/1809.10717)\n",
    "\n",
    "\n",
    "\n",
    "- [Extreme Rare Event Classification using Autoencoders in Keras](https://towardsdatascience.com/extreme-rare-event-classification-using-autoencoders-in-keras-a565b386f098)\n",
    "\n",
    "\n",
    "\n",
    "- Github repo: https://github.com/cran2367/autoencoder_classifier"
   ]
  }
 ],
 "metadata": {
  "kernelspec": {
   "display_name": "Python 3",
   "language": "python",
   "name": "python3"
  },
  "language_info": {
   "codemirror_mode": {
    "name": "ipython",
    "version": 3
   },
   "file_extension": ".py",
   "mimetype": "text/x-python",
   "name": "python",
   "nbconvert_exporter": "python",
   "pygments_lexer": "ipython3",
   "version": "3.5.5"
  }
 },
 "nbformat": 4,
 "nbformat_minor": 2
}
