{
 "cells": [
  {
   "cell_type": "markdown",
   "metadata": {},
   "source": [
    "### TensorFlow 簡介\n",
    "- 最初由 Google Brain Team 所開發\n",
    "- Apache 2.0 open source license 開放原始碼規範\n",
    "- 設計目的: 使矩陣運算達到最高效能，並且能跨平台執行\n",
    "- TensorFlow 由 tensor (代表張量運算) 與 flow (代表資料處理流程) 所組成\n",
    "- TensorFlow 透過先建立好的 \"計算圖\" 來執行: 節點(Node)代表運算、邊(Edge)代表張量的資料流  \n",
    "\n",
    "### TensorFlow 的架構\n",
    "- 高階 API: Keras、TF-Learn、TF-Slim、TF-Layer\n",
    "- 前端程式語言: Python、C++\n",
    "- 分散式執行引擎 (tensorflow distributed execution engine)\n",
    "- 平台: Windows、Linux、Android、iOS、Raspberry Pi\n",
    "- 處理器: CPU、GPU、TPU\n",
    "\n",
    "### TensorFlow 程式設計的流程\n",
    "#### 1. 建立計算圖\n",
    "\n",
    "方法一: 數值設定在本階段完成\n",
    "\n",
    "- 建立 tensorflow 常數\n",
    "\n",
    "      ts_c = tf.constant(常數值, name = 常數名稱)\n",
    "      \n",
    "      [註]儲存的型態: tf.Tensor (TensorFlow 張量)、shape() (0 維張量)、dtype=int32 (張量資料型態)\n",
    "\n",
    "- 建立 tensorflow 變數\n",
    "\n",
    "      ts_x = tf.Variable(變數值, name = 變數名稱)\n",
    "\n",
    "方法二: 數值設定在 \"執行計算圖\" 的階段完成 - placeholder\n",
    "\n",
    "Ex:\n",
    "\n",
    "      a = tf.placeholder(\"int32\")\n",
    "      b = tf.placeholder(\"int32\")\n",
    "      c = tf.multiply(a, b)\n",
    "\n",
    "#### 2. 執行計算圖\n",
    "\n",
    "方法一: 使用 tf.Session()/sess.close() 來開啟/關閉 Session\n",
    "\n",
    "- 建立 session (代表在用戶端與執行裝置之間建立連結)\n",
    "\n",
    "      sess = tf.Session()\n",
    "\n",
    "- 初始化所有 tensorflow global 變數\n",
    "\n",
    "      init = tf.global_variables_initializer()\n",
    "      sess.run(init)\n",
    "\n",
    "- 執行 tensorflow 計算圖的方法\n",
    "\n",
    "      1. sess.run(常數/變數)\n",
    "      [註] placeholder 的方法: sess.run(c , feed_dict = {a: 數值, b: 數值}) \n",
    "      \n",
    "      2. .eval(session = sess)\n",
    "    \n",
    "- 關閉 session\n",
    "\n",
    "      sess.close()\n",
    "\n",
    "方法二: 使用 with 語法開啟和自動關閉 Session\n",
    "\n",
    "      with tf.Session() as sess:\n",
    "          (初始化所有 tensorflow global 變數)\n",
    "          init = tf.global_variables_initializer()\n",
    "          sess.run(init)\n",
    "          \n",
    "          (執行 tensorflow 計算圖)\n",
    "          1. sess.run(常數/變數)\n",
    "          [註] placeholder 的方法: sess.run(c , feed_dict = {a: 數值, b: 數值}) \n",
    "      \n",
    "          2. .eval()\n",
    "\n",
    "### TensorFlow 常用的基本數值運算\n",
    "- 加法: tf.add(x, y, name = None)\n",
    "- 減法: tf.subtract(x, y, name = None)\n",
    "- 乘法: tf.multiply(x, y, name = None)\n",
    "- 除法: tf.divide(x, y, name = None)\n",
    "- 餘數: tf.mod(x, y, name = None)\n",
    "- 平方: tf.sqrt(x, name = None)\n",
    "- 絕對值: tf.abs(x, name = None)\n",
    "\n",
    "### TensorBoard: 以視覺化的方式查看所建立的計算圖\n",
    "#### 1. 建立 TensorFlow 變數 (name 參數設定的名稱會顯示在 TensorBoard 上)\n",
    "\n",
    "#### 2. 將要顯示在 TensorBoard 的資料寫入 log 檔\n",
    "\n",
    "- tf.summary.merge_all(): 將要顯示在 TensorBoard 的資料整合。\n",
    "\n",
    "- tf.summary.FileWriter('子目錄', sess.graph): 將要顯示在 TensorBoard 的資料寫入 log 檔。log 檔會儲存在目前程式執行目錄下的子目錄。\n",
    "\n",
    "- 啟動 tensorboard (Windows)\n",
    "\n",
    "      (1) 確認 log 目錄檔案是否產生\n",
    "      \n",
    "      (2) 啟用 tensorflow 的 anaconda 虛擬環境\n",
    "      \n",
    "      (3) 啟動 tensorboard: tensorboard --logdir=log檔的路徑\n",
    "      \n",
    "      (4) 在 tensorboard 查看計算圖: 輸入 http://localhost:本機位址/，再點選 GRAPHS\n"
   ]
  },
  {
   "cell_type": "markdown",
   "metadata": {},
   "source": [
    "### 使用 TensorFlow 建立張量與矩陣運算"
   ]
  },
  {
   "cell_type": "code",
   "execution_count": 1,
   "metadata": {},
   "outputs": [],
   "source": [
    "import tensorflow as tf\n",
    "import numpy as np"
   ]
  },
  {
   "cell_type": "markdown",
   "metadata": {},
   "source": [
    "#### 1. 建立 1 維、2 維張量"
   ]
  },
  {
   "cell_type": "code",
   "execution_count": 3,
   "metadata": {},
   "outputs": [
    {
     "name": "stdout",
     "output_type": "stream",
     "text": [
      "A=[0.1 0.2 0.3]\n",
      "---------------\n",
      "A.shape =(3,)\n",
      "---------------\n",
      "B=\n",
      "[[0.1 0.2 0.3]\n",
      " [0.6 0.5 0.4]]\n",
      "---------------\n",
      "B.shape =(2, 3)\n"
     ]
    }
   ],
   "source": [
    "# 建立一維張量\n",
    "ts_A = tf.Variable([0.1, 0.2, 0.3])\n",
    "\n",
    "with tf.Session() as sess:\n",
    "    # 初始化所有 tensorflow global 變數\n",
    "    init = tf.global_variables_initializer()\n",
    "    sess.run(init)\n",
    "    \n",
    "    A = sess.run(ts_A)\n",
    "    print('A=' + str(A))\n",
    "    \n",
    "print('---------------')\n",
    "# 查看一維張量形狀\n",
    "print('A.shape =' + str(A.shape)) \n",
    "print('---------------')\n",
    "# 建立二維張量\n",
    "ts_B = tf.Variable([[0.1, 0.2, 0.3],[0.6, 0.5, 0.4]])\n",
    "\n",
    "with tf.Session() as sess:\n",
    "    # 初始化所有 tensorflow global 變數\n",
    "    init = tf.global_variables_initializer()\n",
    "    sess.run(init)\n",
    "    \n",
    "    B = sess.run(ts_B)\n",
    "    print('B=')\n",
    "    print(B)\n",
    "    \n",
    "# 查看二維張量形狀\n",
    "print('---------------')\n",
    "print('B.shape =' + str(B.shape))"
   ]
  },
  {
   "cell_type": "markdown",
   "metadata": {
    "collapsed": true
   },
   "source": [
    "#### 2. 矩陣基本運算"
   ]
  },
  {
   "cell_type": "code",
   "execution_count": 4,
   "metadata": {},
   "outputs": [
    {
     "name": "stdout",
     "output_type": "stream",
     "text": [
      "XW=\n",
      "[[0.02       0.11000001]]\n",
      "---------------\n",
      "Sum=\n",
      "[[0.22       0.21000001]]\n"
     ]
    }
   ],
   "source": [
    "# 建立計算圖 (二維張量)\n",
    "X = tf.Variable([[0.4, 0.1, 0.3]])\n",
    "\n",
    "W = tf.Variable([[-0.1, 0.1],\n",
    "                 [0.3, -0.2],\n",
    "                 [0.1, 0.3]])\n",
    "\n",
    "b = tf.Variable([[0.2, 0.1]])\n",
    "\n",
    "# 矩陣相乘: tf.matmul\n",
    "XW = tf.matmul(X, W)\n",
    "\n",
    "Sum = XW + b\n",
    "\n",
    "# 執行計算圖\n",
    "with tf.Session() as sess:\n",
    "    # 初始化所有 tensorflow global 變數\n",
    "    init = tf.global_variables_initializer()\n",
    "    sess.run(init)\n",
    "    \n",
    "    print('XW=')\n",
    "    print(sess.run(XW))\n",
    "    print('---------------')\n",
    "    print('Sum=')\n",
    "    print(sess.run(Sum))"
   ]
  },
  {
   "cell_type": "markdown",
   "metadata": {},
   "source": [
    "### 使用 TensorFlow 進行類神經網路運算"
   ]
  },
  {
   "cell_type": "markdown",
   "metadata": {},
   "source": [
    "#### 1. 給定輸入值、權重和偏權值"
   ]
  },
  {
   "cell_type": "code",
   "execution_count": 5,
   "metadata": {},
   "outputs": [
    {
     "name": "stdout",
     "output_type": "stream",
     "text": [
      "XW=\n",
      "[[0.02       0.11000001]]\n",
      "---------------\n",
      "Sum=\n",
      "[[0.22       0.21000001]]\n",
      "---------------\n",
      "y=\n",
      "[[0.55477923 0.5523079 ]]\n"
     ]
    }
   ],
   "source": [
    "# 建立計算圖 (二維張量)\n",
    "X = tf.Variable([[0.4, 0.1, 0.3]])\n",
    "\n",
    "W = tf.Variable([[-0.1, 0.1],\n",
    "                 [0.3, -0.2],\n",
    "                 [0.1, 0.3]])\n",
    "\n",
    "b = tf.Variable([[0.2, 0.1]])\n",
    "\n",
    "# 矩陣相乘: tf.matmul\n",
    "XW = tf.matmul(X, W)\n",
    "\n",
    "Sum = XW + b\n",
    "\n",
    "# 活化函數為 relu function\n",
    "#y = tf.nn.relu(Sum)\n",
    "\n",
    "# 活化函數為 sigmoid function\n",
    "y = tf.nn.sigmoid(Sum)\n",
    "\n",
    "# 執行計算圖\n",
    "with tf.Session() as sess:\n",
    "    # 初始化所有 tensorflow global 變數\n",
    "    init = tf.global_variables_initializer()\n",
    "    sess.run(init)\n",
    "    \n",
    "    print('XW=')\n",
    "    print(sess.run(XW))\n",
    "    print('---------------')\n",
    "    print('Sum=')\n",
    "    print(sess.run(Sum))\n",
    "    print('---------------')\n",
    "    print('y=')\n",
    "    print(sess.run(y))"
   ]
  },
  {
   "cell_type": "markdown",
   "metadata": {},
   "source": [
    "#### 2. 給定輸入值，權重與偏權值以常態分佈的亂數初始化"
   ]
  },
  {
   "cell_type": "code",
   "execution_count": 6,
   "metadata": {},
   "outputs": [
    {
     "name": "stdout",
     "output_type": "stream",
     "text": [
      "XW=\n",
      "[[0.40094423 0.1794315 ]]\n",
      "-------------------------------\n",
      "Sum=\n",
      "[[-0.24312049  0.5653076 ]]\n",
      "-------------------------------\n",
      "y=\n",
      "[[0.4395175  0.63767976]]\n"
     ]
    }
   ],
   "source": [
    "# 建立計算圖 (二維張量)\n",
    "X = tf.Variable([[0.4, 0.1, 0.3]])\n",
    "\n",
    "W = tf.Variable(tf.random_normal([3, 2]))\n",
    "\n",
    "b = tf.Variable(tf.random_normal([1, 2]))\n",
    "\n",
    "# 矩陣相乘: tf.matmul\n",
    "XW = tf.matmul(X, W)\n",
    "\n",
    "Sum = XW + b\n",
    "\n",
    "# 活化函數為 relu function\n",
    "#y = tf.nn.relu(Sum)\n",
    "\n",
    "# 活化函數為 sigmoid function\n",
    "y = tf.nn.sigmoid(Sum)\n",
    "\n",
    "# 執行計算圖\n",
    "with tf.Session() as sess:\n",
    "    # 初始化所有 tensorflow global 變數\n",
    "    init = tf.global_variables_initializer()\n",
    "    sess.run(init)\n",
    "    \n",
    "    # 執行一次取得三個變數\n",
    "    (_XW, _Sum, _y) = sess.run((XW, Sum, y))\n",
    "    \n",
    "    print('XW=')\n",
    "    print(_XW)\n",
    "    print('-------------------------------')\n",
    "    print('Sum=')\n",
    "    print(_Sum)\n",
    "    print('-------------------------------')\n",
    "    print('y=')\n",
    "    print(_y)"
   ]
  },
  {
   "cell_type": "markdown",
   "metadata": {},
   "source": [
    "#### 3. 用 placeholder 傳進輸入值，權重與偏權值以常態分佈的亂數初始化"
   ]
  },
  {
   "cell_type": "code",
   "execution_count": 7,
   "metadata": {},
   "outputs": [
    {
     "name": "stdout",
     "output_type": "stream",
     "text": [
      "XW=\n",
      "[[0.16138643 0.52491915]]\n",
      "-------------------------------\n",
      "Sum=\n",
      "[[0.7391137 2.0749063]]\n",
      "-------------------------------\n",
      "y=\n",
      "[[0.67680204 0.8884402 ]]\n"
     ]
    }
   ],
   "source": [
    "# 建立計算圖 (二維張量)\n",
    "# 定義 placeholder X; 第一個參數: placeholder 的資料型態，第二個參數: placeholder 矩陣的形狀\n",
    "X = tf.placeholder('float', [None, 3])\n",
    "\n",
    "W = tf.Variable(tf.random_normal([3, 2]))\n",
    "\n",
    "b = tf.Variable(tf.random_normal([1, 2]))\n",
    "\n",
    "# 矩陣相乘: tf.matmul\n",
    "XW = tf.matmul(X, W)\n",
    "\n",
    "Sum = XW + b\n",
    "\n",
    "# 活化函數為 relu function\n",
    "#y = tf.nn.relu(Sum)\n",
    "\n",
    "# 活化函數為 sigmoid function\n",
    "y = tf.nn.sigmoid(Sum)\n",
    "\n",
    "# 執行計算圖\n",
    "with tf.Session() as sess:\n",
    "    # 初始化所有 tensorflow global 變數\n",
    "    init = tf.global_variables_initializer()\n",
    "    sess.run(init)\n",
    "    \n",
    "    # 建立 X_array\n",
    "    X_array = np.array([[0.4, 0.1, 0.3]])\n",
    "    \n",
    "    # 執行一次取得三個變數; placeholder X 以 feed_dict 傳入 X_array\n",
    "    (_XW, _Sum, _y) = sess.run((XW, Sum, y), feed_dict = {X: X_array})\n",
    "    print('XW=')\n",
    "    print(_XW)\n",
    "    print('-------------------------------')\n",
    "    print('Sum=')\n",
    "    print(_Sum)\n",
    "    print('-------------------------------')\n",
    "    print('y=')\n",
    "    print(_y)"
   ]
  },
  {
   "cell_type": "markdown",
   "metadata": {},
   "source": [
    "#### 4. 以類神經網路的 \"層 (Layer)\" 為單位進行運算 (只顯示 Output)  "
   ]
  },
  {
   "cell_type": "markdown",
   "metadata": {},
   "source": [
    "建立類神經網路的 \"層\" (Layer) "
   ]
  },
  {
   "cell_type": "code",
   "execution_count": 8,
   "metadata": {},
   "outputs": [],
   "source": [
    "# 定義 layer 函數\n",
    "# inputs: 輸入二維陣列的 placeholder, input_dim: 輸入神經元的數量\n",
    "# output_dim: 輸出神經元的數量, activation: 活化函數 (預設為 None)\n",
    "def layer(inputs, input_dim, output_dim, activation = None):\n",
    "    W = tf.Variable(tf.random_normal([input_dim, output_dim]))\n",
    "    b = tf.Variable(tf.random_normal([1, output_dim]))\n",
    "    \n",
    "    XW = tf.matmul(inputs, W)\n",
    "    Sum = XW + b\n",
    "\n",
    "    if activation is None:\n",
    "        outputs = Sum\n",
    "    \n",
    "    else:\n",
    "        outputs = activation(Sum)\n",
    "        \n",
    "    return outputs"
   ]
  },
  {
   "cell_type": "markdown",
   "metadata": {},
   "source": [
    "執行 3 層神經網路的運算"
   ]
  },
  {
   "cell_type": "code",
   "execution_count": 9,
   "metadata": {},
   "outputs": [
    {
     "name": "stdout",
     "output_type": "stream",
     "text": [
      "Input layer X:\n",
      "[[0.4 0.1 0.3]]\n",
      "-------------------------------\n",
      "Hidden layer h:\n",
      "[[0.90489554 0.7821733 ]]\n",
      "-------------------------------\n",
      "Output layer y:\n",
      "[[-0.6456216]]\n"
     ]
    }
   ],
   "source": [
    "# 輸入層\n",
    "X = tf.placeholder('float', [None, 3])\n",
    "\n",
    "# 隱藏層\n",
    "h = layer(inputs = X, input_dim = 3, output_dim = 2, activation = tf.nn.sigmoid)\n",
    "\n",
    "# 輸出層\n",
    "y = layer(inputs = h, input_dim = 2, output_dim = 1)\n",
    "\n",
    "# 執行計算圖\n",
    "with tf.Session() as sess:\n",
    "    # 初始化所有 tensorflow global 變數\n",
    "    init = tf.global_variables_initializer()\n",
    "    sess.run(init)\n",
    "    \n",
    "    # 建立 X_array\n",
    "    X_array = np.array([[0.4, 0.1, 0.3]])\n",
    "    \n",
    "    # 執行一次取得三個變數; placeholder X 以 feed_dict 傳入 X_array\n",
    "    (layer_X, layer_h, layer_y) = sess.run((X, h, y), feed_dict = {X: X_array})\n",
    "    print('Input layer X:')\n",
    "    print(layer_X)\n",
    "    print('-------------------------------')\n",
    "    print('Hidden layer h:')\n",
    "    print(layer_h)\n",
    "    print('-------------------------------')\n",
    "    print('Output layer y:')\n",
    "    print(layer_y)"
   ]
  },
  {
   "cell_type": "markdown",
   "metadata": {},
   "source": [
    "#### 5. 以類神經網路的 \"層 (Layer)\" 為單位進行運算 (顯示 Output、W、b)  "
   ]
  },
  {
   "cell_type": "markdown",
   "metadata": {},
   "source": [
    "建立類神經網路的 \"層\" (Layer)"
   ]
  },
  {
   "cell_type": "code",
   "execution_count": 10,
   "metadata": {},
   "outputs": [],
   "source": [
    "# 定義 layer 函數\n",
    "# inputs: 輸入二維陣列的 placeholder, input_dim: 輸入神經元的數量\n",
    "# output_dim: 輸出神經元的數量, activation: 活化函數 (預設為 None)\n",
    "def layer(inputs, input_dim, output_dim, activation = None):\n",
    "    W = tf.Variable(tf.random_normal([input_dim, output_dim]))\n",
    "    b = tf.Variable(tf.random_normal([1, output_dim]))\n",
    "    \n",
    "    XW = tf.matmul(inputs, W)\n",
    "    Sum = XW + b\n",
    "\n",
    "    if activation is None:\n",
    "        outputs = Sum\n",
    "    \n",
    "    else:\n",
    "        outputs = activation(Sum)\n",
    "        \n",
    "    return outputs, W, b"
   ]
  },
  {
   "cell_type": "markdown",
   "metadata": {},
   "source": [
    "執行 3 層神經網路的運算"
   ]
  },
  {
   "cell_type": "code",
   "execution_count": 11,
   "metadata": {},
   "outputs": [
    {
     "name": "stdout",
     "output_type": "stream",
     "text": [
      "Input layer X:\n",
      "[[0.4 0.1 0.3]]\n",
      "-------------------------------\n",
      "W1:\n",
      "[[ 1.1064392   1.0536405 ]\n",
      " [-0.7296762  -0.69252974]\n",
      " [-0.75612456  0.3161065 ]]\n",
      "-------------------------------\n",
      "b1:\n",
      "[[-0.75045925  1.2871991 ]]\n",
      "-------------------------------\n",
      "Hidden layer h:\n",
      "[[0.35258666 0.8499532 ]]\n",
      "-------------------------------\n",
      "W2:\n",
      "[[ 0.3820217]\n",
      " [-1.5300794]]\n",
      "-------------------------------\n",
      "b2:\n",
      "[[1.4261199]]\n",
      "-------------------------------\n",
      "Output layer y:\n",
      "[[0.26031983]]\n"
     ]
    }
   ],
   "source": [
    "# 輸入層\n",
    "X = tf.placeholder('float', [None, 3])\n",
    "\n",
    "# 隱藏層\n",
    "h, W1, b1 = layer(inputs = X, input_dim = 3, output_dim = 2, activation = tf.nn.sigmoid)\n",
    "\n",
    "# 輸出層\n",
    "y, W2, b2 = layer(inputs = h, input_dim = 2, output_dim = 1)\n",
    "\n",
    "# 執行計算圖\n",
    "with tf.Session() as sess:\n",
    "    # 初始化所有 tensorflow global 變數\n",
    "    init = tf.global_variables_initializer()\n",
    "    sess.run(init)\n",
    "    \n",
    "    # 建立 X_array\n",
    "    X_array = np.array([[0.4, 0.1, 0.3]])\n",
    "    \n",
    "    # 執行一次取得 7 個變數; placeholder X 以 feed_dict 傳入 X_array\n",
    "    (layer_X, layer_h, layer_y, _W1, _b1, _W2, _b2) = \\\n",
    "    sess.run((X, h, y, W1, b1, W2, b2), feed_dict = {X: X_array})\n",
    "    \n",
    "    print('Input layer X:')\n",
    "    print(layer_X)\n",
    "    print('-------------------------------')\n",
    "    print('W1:')\n",
    "    print(_W1)    \n",
    "    print('-------------------------------')\n",
    "    print('b1:')\n",
    "    print(_b1)    \n",
    "    print('-------------------------------')\n",
    "    print('Hidden layer h:')\n",
    "    print(layer_h)\n",
    "    print('-------------------------------')\n",
    "    print('W2:')\n",
    "    print(_W2)    \n",
    "    print('-------------------------------')\n",
    "    print('b2:')\n",
    "    print(_b2)    \n",
    "    print('-------------------------------')\n",
    "    print('Output layer y:')\n",
    "    print(layer_y)"
   ]
  }
 ],
 "metadata": {
  "kernelspec": {
   "display_name": "Python 3",
   "language": "python",
   "name": "python3"
  },
  "language_info": {
   "codemirror_mode": {
    "name": "ipython",
    "version": 3
   },
   "file_extension": ".py",
   "mimetype": "text/x-python",
   "name": "python",
   "nbconvert_exporter": "python",
   "pygments_lexer": "ipython3",
   "version": "3.5.5"
  }
 },
 "nbformat": 4,
 "nbformat_minor": 2
}
