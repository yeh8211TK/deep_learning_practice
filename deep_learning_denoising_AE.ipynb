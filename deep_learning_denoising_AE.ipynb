{
 "cells": [
  {
   "cell_type": "markdown",
   "metadata": {},
   "source": [
    "## AutoEncoder (AE) 及其所衍生的類神經網路\n",
    "\n",
    "### 一、種類:\n",
    "\n",
    "#### 1. Autoencoder (AE)   \n",
    "\n",
    "- Examples: Undercomplete AutoEncoder、Stacked AutoEncoder ...\n",
    "\n",
    "#### 2. Variational Autoencoder (VAE)\n",
    "\n",
    "#### 3. Denoising Autoencoder (DAE)\n",
    "\n",
    "#### 4. Sparse Autoencoder (SAE)\n",
    "\n",
    "### 二、共同特徵:\n",
    "\n",
    "#### 1. 屬於非監督式學習\n",
    "\n",
    "#### 2. 結構:\n",
    "\n",
    "    [Original input] -> [Encoder] ->  [Compressed representation] ->  [Decoder] -> [Reconstructed input]\n",
    "\n",
    "#### 3. 輸入與輸出的神經元數目必須相同\n",
    "\n",
    "### 三、AutoEncoder (AE) 的一些應用:\n",
    "\n",
    "#### 1. 降維 (Dimensionality reduction)\n",
    "\n",
    "#### 2. 特徵擷取 (Feature extraction)、信息檢索 (Information retrieval)\n",
    "\n",
    "#### 3. 資料視覺化\n",
    "\n",
    "#### 4. 非監督式預先訓練 (Unsupervised pre-training for DNN)\n",
    "\n",
    "#### 5. 生成模型 (Generative models)\n",
    "\n",
    "#### 6. 異常偵測 (Anomaly detection)"
   ]
  },
  {
   "cell_type": "markdown",
   "metadata": {},
   "source": [
    "## Denoising Autoencoder (DAE) \n",
    "\n",
    "#### 1. 說明: 為學習對圖片去噪(denoise)的神經網絡\n",
    "\n",
    "#### 2. 做法: 在輸入資料中加入隨機的雜訊(noise)，然後使它回復到原始無噪聲的資料，讓模型學會去噪的能力\n",
    "\n",
    "#### 3. DAE 的結構:\n",
    "\n",
    "    [Noisy input] -> [Encoder] ->  [Compressed representation] ->  [Decoder] -> [Denoised output]\n",
    "\n",
    "### 一、執行 TensorFlow 與 Keras 模組"
   ]
  },
  {
   "cell_type": "code",
   "execution_count": 1,
   "metadata": {},
   "outputs": [
    {
     "name": "stdout",
     "output_type": "stream",
     "text": [
      "1.13.1\n",
      "2.2.4\n"
     ]
    },
    {
     "name": "stderr",
     "output_type": "stream",
     "text": [
      "Using TensorFlow backend.\n"
     ]
    }
   ],
   "source": [
    "import tensorflow as tf\n",
    "import keras\n",
    "\n",
    "print(tf.__version__)\n",
    "print(keras.__version__)"
   ]
  },
  {
   "cell_type": "markdown",
   "metadata": {},
   "source": [
    "### 二、Keras 下載 MNIST 辨識資料集"
   ]
  },
  {
   "cell_type": "code",
   "execution_count": 2,
   "metadata": {},
   "outputs": [
    {
     "name": "stdout",
     "output_type": "stream",
     "text": [
      "x train data =  60000\n",
      "t train data =  60000\n",
      "x test data =  10000\n",
      "t test data =  10000\n",
      "-----------------------------------\n",
      "x_train_image: (60000, 28, 28)\n",
      "t_train_label: (60000,)\n",
      "-----------------------------------\n",
      "x_test_image: (10000, 28, 28)\n",
      "t_test_label: (10000,)\n",
      "-----------------------------------\n"
     ]
    }
   ],
   "source": [
    "import numpy as np\n",
    "import pandas as pd\n",
    "# 此模組要將 label 轉換成 one-hot-coding\n",
    "from keras.utils import np_utils\n",
    "# 匯入用來下載 mnist 資料的模組\n",
    "from keras.datasets import mnist\n",
    "\n",
    "# 下載 mnist 資料 (資料儲存在 C:\\Users\\user\\.keras 資料夾)\n",
    "(x_train_image, t_train_label), (x_test_image, t_test_label) = mnist.load_data()\n",
    "\n",
    "# 查看 mnist 資料筆數\n",
    "print('x train data = ', len(x_train_image))\n",
    "print('t train data = ', len(t_train_label))\n",
    "print('x test data = ', len(x_test_image))\n",
    "print('t test data = ', len(t_test_label))\n",
    "print('-----------------------------------')\n",
    "\n",
    "# 查看訓練資料\n",
    "print('x_train_image:', x_train_image.shape)\n",
    "print('t_train_label:', t_train_label.shape)\n",
    "print('-----------------------------------')\n",
    "\n",
    "# 查看測試資料\n",
    "print('x_test_image:', x_test_image.shape)\n",
    "print('t_test_label:', t_test_label.shape)\n",
    "print('-----------------------------------')"
   ]
  },
  {
   "cell_type": "markdown",
   "metadata": {},
   "source": [
    "顯示圖形影像"
   ]
  },
  {
   "cell_type": "code",
   "execution_count": 3,
   "metadata": {},
   "outputs": [
    {
     "name": "stdout",
     "output_type": "stream",
     "text": [
      "顯示訓練資料前五個影像:\n"
     ]
    },
    {
     "data": {
      "image/png": "[encoded data removed]",
      "text/plain": [
       "<Figure size 864x1080 with 5 Axes>"
      ]
     },
     "metadata": {},
     "output_type": "display_data"
    },
    {
     "name": "stdout",
     "output_type": "stream",
     "text": [
      "---------------------------------------------------------------------------------------------\n",
      "顯示測試資料前五個影像:\n"
     ]
    },
    {
     "data": {
      "image/png": "[encoded data removed]",
      "text/plain": [
       "<Figure size 864x1080 with 5 Axes>"
      ]
     },
     "metadata": {},
     "output_type": "display_data"
    },
    {
     "name": "stdout",
     "output_type": "stream",
     "text": [
      "---------------------------------------------------------------------------------------------\n"
     ]
    }
   ],
   "source": [
    "%matplotlib inline\n",
    "import matplotlib.pyplot as plt\n",
    "\n",
    "# 定義顯示資料的函數\n",
    "def plot_image_label_prediction(images, labels, prediction, idx, num = 5):\n",
    "    # 設定圖形的大小\n",
    "    fig = plt.gcf()\n",
    "    fig.set_size_inches(12, 15)\n",
    "    \n",
    "    if num > 10: num = 10\n",
    "    \n",
    "    for i in range(0, num):\n",
    "        # 建立子圖為 2 行 5 列\n",
    "        ax = plt.subplot(2, 5, 1+i)\n",
    "        # 畫出子圖形\n",
    "        ax.imshow(images[idx], cmap = 'binary')\n",
    "        # 子圖 title 名稱\n",
    "        title = 'label =' + str(labels[idx])\n",
    "        # 若有預測資料，則顯示預測結果\n",
    "        if len(prediction) > 0:\n",
    "            title += ',predict =' + str(prediction[idx])\n",
    "        \n",
    "        ax.set_title(title, fontsize = 10)\n",
    "        ax.set_xticks([])\n",
    "        ax.set_yticks([])\n",
    "        \n",
    "        idx += 1\n",
    "        \n",
    "    plt.show()\n",
    "    \n",
    "# 顯示訓練資料前五個影像\n",
    "print('顯示訓練資料前五個影像:')\n",
    "plot_image_label_prediction(x_train_image, t_train_label, [], 0, 5)\n",
    "print('---------------------------------------------------------------------------------------------')\n",
    "\n",
    "# 顯示測試資料前五個影像\n",
    "print('顯示測試資料前五個影像:')\n",
    "plot_image_label_prediction(x_test_image, t_test_label, [], 0, 5)\n",
    "print('---------------------------------------------------------------------------------------------')"
   ]
  },
  {
   "cell_type": "markdown",
   "metadata": {},
   "source": [
    "### 三、Keras 執行 DAE model"
   ]
  },
  {
   "cell_type": "markdown",
   "metadata": {
    "collapsed": true
   },
   "source": [
    "#### 1. 資料預處理 (Preprocess)"
   ]
  },
  {
   "cell_type": "code",
   "execution_count": 4,
   "metadata": {},
   "outputs": [],
   "source": [
    "# 將 (60000, 28, 28) 的影像大小轉換成 60000*28*28*1 的四維矩陣\n",
    "x_train4D = x_train_image.reshape(x_train_image.shape[0], 28, 28, 1).astype('float32')\n",
    "x_test4D = x_test_image.reshape(x_test_image.shape[0], 28, 28, 1).astype('float32')\n",
    "\n",
    "# 將 feature 歸一化\n",
    "x_train4D_normalize = x_train4D / 255\n",
    "x_test4D_normalize = x_test4D / 255\n",
    "\n",
    "# 加入隨機 noise\n",
    "noise_factor = 0.5\n",
    "# numpy.random.normal 函數裡的三個參數分别代表生成的高斯分布的均值、標準差以及輸出的 size\n",
    "x_train4D_normalize_noise = x_train4D_normalize + noise_factor * np.random.normal(loc=0.0, scale=1.0, size=x_train4D_normalize.shape)\n",
    "x_test4D_normalize_noise = x_test4D_normalize + noise_factor * np.random.normal(loc=0.0, scale=1.0, size=x_test4D_normalize.shape)\n",
    "\n",
    "# 把數值限制在一定範圍内 (0 ~ 1)\n",
    "x_train_nn = np.clip(x_train4D_normalize_noise, 0., 1.)  \n",
    "x_test_nn = np.clip(x_test4D_normalize_noise, 0., 1.)"
   ]
  },
  {
   "cell_type": "markdown",
   "metadata": {},
   "source": [
    "#### 2. 建立 DAE 模型"
   ]
  },
  {
   "cell_type": "code",
   "execution_count": 5,
   "metadata": {},
   "outputs": [
    {
     "name": "stdout",
     "output_type": "stream",
     "text": [
      "WARNING:tensorflow:From C:\\Users\\user\\Anaconda3\\envs\\tensorflow_ev\\lib\\site-packages\\tensorflow\\python\\framework\\op_def_library.py:263: colocate_with (from tensorflow.python.framework.ops) is deprecated and will be removed in a future version.\n",
      "Instructions for updating:\n",
      "Colocations handled automatically by placer.\n",
      "_________________________________________________________________\n",
      "Layer (type)                 Output Shape              Param #   \n",
      "=================================================================\n",
      "conv2d_1 (Conv2D)            (None, 28, 28, 32)        320       \n",
      "_________________________________________________________________\n",
      "max_pooling2d_1 (MaxPooling2 (None, 14, 14, 32)        0         \n",
      "_________________________________________________________________\n",
      "conv2d_2 (Conv2D)            (None, 14, 14, 16)        4624      \n",
      "_________________________________________________________________\n",
      "max_pooling2d_2 (MaxPooling2 (None, 7, 7, 16)          0         \n",
      "_________________________________________________________________\n",
      "conv2d_3 (Conv2D)            (None, 7, 7, 16)          2320      \n",
      "_________________________________________________________________\n",
      "up_sampling2d_1 (UpSampling2 (None, 14, 14, 16)        0         \n",
      "_________________________________________________________________\n",
      "conv2d_4 (Conv2D)            (None, 14, 14, 16)        2320      \n",
      "_________________________________________________________________\n",
      "up_sampling2d_2 (UpSampling2 (None, 28, 28, 16)        0         \n",
      "_________________________________________________________________\n",
      "conv2d_5 (Conv2D)            (None, 28, 28, 1)         145       \n",
      "=================================================================\n",
      "Total params: 9,729\n",
      "Trainable params: 9,729\n",
      "Non-trainable params: 0\n",
      "_________________________________________________________________\n",
      "None\n"
     ]
    }
   ],
   "source": [
    "# 匯入所需的模組\n",
    "from keras.models import Sequential\n",
    "from keras.layers import Conv2D, MaxPooling2D, UpSampling2D\n",
    "\n",
    "# 建立線性堆疊模型(骨架)\n",
    "model = Sequential()\n",
    "\n",
    "# 建立 encoder\n",
    "# 建立輸入層與卷積層 1\n",
    "# 參數說明: filters (濾鏡數目)，kernel_size (濾鏡大小)，\n",
    "# padding (填充的大小)，input_shape (輸入影像的形狀), activation (活化函數)          \n",
    "model.add(Conv2D(filters = 32, kernel_size = (3, 3), padding = 'same',\n",
    "                 input_shape = (28, 28, 1), activation = 'relu'))\n",
    "\n",
    "# 建立池化層 1\n",
    "# 參數說明: pool_size (池化層的形狀大小)\n",
    "model.add(MaxPooling2D(pool_size = (2, 2), padding='same'))\n",
    "\n",
    "# 建立卷積層 2\n",
    "model.add(Conv2D(filters = 16, kernel_size = (3, 3), padding = 'same', activation = 'relu'))\n",
    "\n",
    "# 建立池化層 2\n",
    "encoded = model.add(MaxPooling2D(pool_size = (2, 2), padding='same'))\n",
    "#----------------------------------------------------------------------------------------------------\n",
    "# 建立 decoder\n",
    "# 建立卷積層 3\n",
    "model.add(Conv2D(filters = 16, kernel_size = (3, 3), padding = 'same', activation = 'relu'))\n",
    "\n",
    "# 建立 UpSampling2D layer 1\n",
    "model.add(UpSampling2D(size = (2, 2)))\n",
    "\n",
    "# 建立卷積層 4\n",
    "model.add(Conv2D(filters = 16, kernel_size = (3, 3), padding = 'same', activation = 'relu'))\n",
    "\n",
    "# 建立 UpSampling2D layer 2\n",
    "model.add(UpSampling2D(size = (2, 2)))\n",
    "\n",
    "decoded = model.add(Conv2D(filters = 1, kernel_size = (3, 3), padding = 'same', activation = 'sigmoid'))\n",
    "\n",
    "# 查看模型摘要\n",
    "print(model.summary())"
   ]
  },
  {
   "cell_type": "markdown",
   "metadata": {},
   "source": [
    "#### 3. 進行神經網路的訓練"
   ]
  },
  {
   "cell_type": "code",
   "execution_count": 6,
   "metadata": {},
   "outputs": [
    {
     "name": "stdout",
     "output_type": "stream",
     "text": [
      "WARNING:tensorflow:From C:\\Users\\user\\Anaconda3\\envs\\tensorflow_ev\\lib\\site-packages\\tensorflow\\python\\ops\\math_ops.py:3066: to_int32 (from tensorflow.python.ops.math_ops) is deprecated and will be removed in a future version.\n",
      "Instructions for updating:\n",
      "Use tf.cast instead.\n",
      "Train on 48000 samples, validate on 12000 samples\n",
      "Epoch 1/10\n",
      " - 97s - loss: 0.2454 - val_loss: 0.1602\n",
      "Epoch 2/10\n",
      " - 97s - loss: 0.1462 - val_loss: 0.1412\n",
      "Epoch 3/10\n",
      " - 102s - loss: 0.1333 - val_loss: 0.1339\n",
      "Epoch 4/10\n",
      " - 103s - loss: 0.1258 - val_loss: 0.1240\n",
      "Epoch 5/10\n",
      " - 98s - loss: 0.1212 - val_loss: 0.1186\n",
      "Epoch 6/10\n",
      " - 96s - loss: 0.1180 - val_loss: 0.1175\n",
      "Epoch 7/10\n",
      " - 96s - loss: 0.1155 - val_loss: 0.1168\n",
      "Epoch 8/10\n",
      " - 96s - loss: 0.1138 - val_loss: 0.1121\n",
      "Epoch 9/10\n",
      " - 96s - loss: 0.1123 - val_loss: 0.1128\n",
      "Epoch 10/10\n",
      " - 97s - loss: 0.1111 - val_loss: 0.1090\n"
     ]
    }
   ],
   "source": [
    "# 定義訓練方式\n",
    "# 參數說明: loss (損失函數)，optimizer (最佳化的方法)\n",
    "model.compile(loss = 'binary_crossentropy', optimizer = 'adadelta')\n",
    "\n",
    "# 開始訓練\n",
    "# 參數說明: x, y (輸入的資料)，validation_split (驗證資料的比例)，shuffle (隨機打亂數據)\n",
    "# epochs (訓練週期)， batch_size (批次數量)，verbose (顯示訓練的過程)\n",
    "train_history = model.fit(x = x_train_nn, y = x_train4D_normalize, validation_split = 0.2, \n",
    "                         shuffle = True, epochs = 10, batch_size = 200, verbose = 2)"
   ]
  },
  {
   "cell_type": "markdown",
   "metadata": {},
   "source": [
    "#### 4. 圖形顯示訓練過程"
   ]
  },
  {
   "cell_type": "code",
   "execution_count": 7,
   "metadata": {},
   "outputs": [
    {
     "data": {
      "image/png": "[encoded data removed]",
      "text/plain": [
       "<Figure size 432x288 with 1 Axes>"
      ]
     },
     "metadata": {},
     "output_type": "display_data"
    }
   ],
   "source": [
    "import matplotlib.pyplot as plt\n",
    "\n",
    "def show_train_history(train_history):\n",
    "    plt.plot(train_history.history['loss'])\n",
    "    plt.plot(train_history.history['val_loss'])\n",
    "    plt.title('train history')\n",
    "    plt.xlabel('epoch')\n",
    "    plt.legend(['loss', 'val_loss'], loc = 'upper right')\n",
    "    plt.show()\n",
    "    \n",
    "# loss function 的變化    \n",
    "show_train_history(train_history)"
   ]
  },
  {
   "cell_type": "markdown",
   "metadata": {},
   "source": [
    "#### 5. 比較含雜訊的輸入影像和去雜訊的輸出影像"
   ]
  },
  {
   "cell_type": "code",
   "execution_count": 8,
   "metadata": {},
   "outputs": [
    {
     "name": "stdout",
     "output_type": "stream",
     "text": [
      "顯示測試資料前五個包含雜訊的影像:\n"
     ]
    },
    {
     "data": {
      "image/png": "[encoded data removed]",
      "text/plain": [
       "<Figure size 864x1080 with 5 Axes>"
      ]
     },
     "metadata": {},
     "output_type": "display_data"
    },
    {
     "name": "stdout",
     "output_type": "stream",
     "text": [
      "-----------------------------------------------------------------------------------------\n",
      "10000/10000 [==============================] - 5s 488us/step\n",
      "-----------------------------------------------------------------------------------------\n",
      "顯示測試資料前五個去除雜訊的影像:\n"
     ]
    },
    {
     "data": {
      "image/png": "[encoded data removed]",
      "text/plain": [
       "<Figure size 864x1080 with 5 Axes>"
      ]
     },
     "metadata": {},
     "output_type": "display_data"
    },
    {
     "name": "stdout",
     "output_type": "stream",
     "text": [
      "-----------------------------------------------------------------------------------------\n"
     ]
    }
   ],
   "source": [
    "import matplotlib.pyplot as plt\n",
    "\n",
    "def plot_image(images, idx, num = 5):\n",
    "    # 設定圖形的大小\n",
    "    fig = plt.gcf()\n",
    "    fig.set_size_inches(12, 15)\n",
    "    \n",
    "    if num > 10: num = 10\n",
    "    \n",
    "    for i in range(0, num):\n",
    "        # 建立子圖為 2 行 5 列\n",
    "        ax = plt.subplot(2, 5, 1+i)\n",
    "        # 畫出子圖形\n",
    "        ax.imshow(images[idx], cmap = 'binary')\n",
    "        ax.set_xticks([])\n",
    "        ax.set_yticks([])\n",
    "        \n",
    "        idx += 1\n",
    "        \n",
    "    plt.show()\n",
    "\n",
    "test_nn_img = x_test_nn.reshape(x_test_nn.shape[0], 28, 28)\n",
    "\n",
    "# 顯示測試資料前五個包含雜訊的影像\n",
    "print('顯示測試資料前五個包含雜訊的影像:')\n",
    "plot_image(test_nn_img, 0, 5)\n",
    "print('-----------------------------------------------------------------------------------------')    \n",
    "\n",
    "output_normalize = model.predict(x_test_nn, batch_size = 200, verbose = 1, steps = None)\n",
    "output = output_normalize * 255\n",
    "denoised_test_images = output.reshape(output.shape[0], 28, 28).astype('uint8')\n",
    "\n",
    "# 顯示測試資料前五個去除雜訊的影像\n",
    "print('-----------------------------------------------------------------------------------------')    \n",
    "print('顯示測試資料前五個去除雜訊的影像:')\n",
    "plot_image(denoised_test_images, 0, 5)\n",
    "print('-----------------------------------------------------------------------------------------')    "
   ]
  },
  {
   "cell_type": "markdown",
   "metadata": {},
   "source": [
    "#### Reference: \n",
    "- [Keras: 基於Python 的深度學習庫](https://keras.io/zh/)\n",
    "\n",
    "\n",
    "\n",
    "- [Convolutional autoencoder & Application to image denoising](https://blog.keras.io/building-autoencoders-in-keras.html)"
   ]
  }
 ],
 "metadata": {
  "kernelspec": {
   "display_name": "Python 3",
   "language": "python",
   "name": "python3"
  },
  "language_info": {
   "codemirror_mode": {
    "name": "ipython",
    "version": 3
   },
   "file_extension": ".py",
   "mimetype": "text/x-python",
   "name": "python",
   "nbconvert_exporter": "python",
   "pygments_lexer": "ipython3",
   "version": "3.5.5"
  }
 },
 "nbformat": 4,
 "nbformat_minor": 2
}
