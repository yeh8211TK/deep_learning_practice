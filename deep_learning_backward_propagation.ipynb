{
 "cells": [
  {
   "cell_type": "markdown",
   "metadata": {},
   "source": [
    "### 計算圖(computational graph)\n",
    "#### 優點\n",
    "* 利用局部性的計算，讓目標的節點專注於單純的計算，將複雜的問題簡單化\n",
    "* 可以維持所有計算過程中的結果\n",
    "* 透過誤差反向傳播法，可以有效計算微分\n",
    "\n",
    "#### 反向傳播\n",
    "* 加法節點運算: 直接將反向傳播的輸入訊號(微分值)輸出給下一個節點\n",
    "* 乘法節點運算: 反向傳播的輸入訊號(微分值)須乘上正向傳播輸入訊號的相反值"
   ]
  },
  {
   "cell_type": "markdown",
   "metadata": {},
   "source": [
    "#### 加法層(AddLayer)"
   ]
  },
  {
   "cell_type": "code",
   "execution_count": 1,
   "metadata": {
    "collapsed": true
   },
   "outputs": [],
   "source": [
    "# 定義加法層類別\n",
    "class AddLayer:\n",
    "    def __init__(self):\n",
    "        pass\n",
    "    \n",
    "    def forward(self, x, y):\n",
    "        out = x + y\n",
    "        \n",
    "        return out\n",
    "    \n",
    "    def backward(self, dout):\n",
    "        dx = dout * 1\n",
    "        dy = dout * 1\n",
    "        \n",
    "        return dx, dy"
   ]
  },
  {
   "cell_type": "markdown",
   "metadata": {},
   "source": [
    "#### 乘法層(MulLayer)"
   ]
  },
  {
   "cell_type": "code",
   "execution_count": 2,
   "metadata": {
    "collapsed": true
   },
   "outputs": [],
   "source": [
    "# 定義乘法層類別\n",
    "class MulLayer:\n",
    "    def __init__(self):\n",
    "        self.x = None\n",
    "        self.y = None\n",
    "    \n",
    "    def forward(self, x, y):\n",
    "        self.x = x\n",
    "        self.y = y\n",
    "        out = x * y\n",
    "        \n",
    "        return out\n",
    "    \n",
    "    def backward(self, dout):\n",
    "        dx = dout * self.y\n",
    "        dy = dout * self.x\n",
    "        \n",
    "        return dx, dy"
   ]
  },
  {
   "cell_type": "markdown",
   "metadata": {},
   "source": [
    "#### 活化函數 - ReLU 層\n",
    "* ReLU (Rectified Linear Unit) function:\n",
    "$$y=\\left\\{\\begin{matrix}\n",
    "x&(x>0)\\\\ \n",
    "0& (x\\leq 0)\n",
    "\\end{matrix}\\right.$$\n",
    "\n",
    "* Differentiation:\n",
    "$$\\frac{\\mathrm{d} y}{\\mathrm{d} x}=\\left\\{\\begin{matrix}\n",
    "1&(x>0)\\\\ \n",
    "0& (x\\leq 0)\n",
    "\\end{matrix}\\right.\n",
    "$$"
   ]
  },
  {
   "cell_type": "code",
   "execution_count": 3,
   "metadata": {
    "collapsed": true
   },
   "outputs": [],
   "source": [
    "# 定義 ReLU 層類別\n",
    "class Relu_Layer:\n",
    "    def __init__(self):\n",
    "        # 實例變數 mask 為 True/False 形成的 Numpy array\n",
    "        self.mask = None\n",
    "    \n",
    "    def forward(self, x):\n",
    "        # x 小於或等於零為 True, 大於零為 False\n",
    "        self.mask = (x <= 0)\n",
    "        out = x.copy()\n",
    "        # 將 mask 元素為 True 的位置設定成零 (x <= 0 的值變為零)\n",
    "        out[self.mask] = 0\n",
    "        \n",
    "        return out\n",
    "    \n",
    "    def backward(self, dout):\n",
    "        dout[self.mask] = 0\n",
    "        dx = dout\n",
    "        \n",
    "        return dx"
   ]
  },
  {
   "cell_type": "markdown",
   "metadata": {},
   "source": [
    "#### 活化函數 - Sigmoid 層\n",
    "* Sigmoid function:\n",
    "$$ y=\\frac{1}{1+e^{-x}} $$\n",
    "\n",
    "* Differentiation:\n",
    "$$ \\frac{\\mathrm{d} y}{\\mathrm{d} x}=y^{2}e^{-x}=y(1-y) $$"
   ]
  },
  {
   "cell_type": "code",
   "execution_count": 4,
   "metadata": {
    "collapsed": true
   },
   "outputs": [],
   "source": [
    "# 定義 Sigmoid 層類別\n",
    "class Sigmoid_Layer:\n",
    "    def __init__(self):\n",
    "        self.out = None\n",
    "    \n",
    "    def forward(self, x):\n",
    "        out = 1 / (1 + np.exp(-x))\n",
    "        self.out = out\n",
    "        \n",
    "        return out\n",
    "    \n",
    "    def backward(self, dout):\n",
    "        dx = dout * (1.0 - self.out) * self.out\n",
    "        \n",
    "        return dx"
   ]
  },
  {
   "cell_type": "markdown",
   "metadata": {},
   "source": [
    "#### Affine 層 (執行矩陣運算)\n",
    "* Matrix calculation:\n",
    "$$ \\mathbf{Y} = \\mathbf{X}\\cdot\\mathbf{W}+\\mathbf{B} $$\n",
    "\n",
    "\n",
    "* Differentiation:\n",
    "$$\n",
    "\\begin{align*}\n",
    "\\frac{\\partial L}{\\partial \\mathbf{X}} &= \\frac{\\partial L}{\\partial \\mathbf{Y}}\\cdot\\mathbf{W}^{T} \\\\\\\\ \n",
    "\\frac{\\partial L}{\\partial \\mathbf{W}} &= \\mathbf{X}^{T}\\cdot\\frac{\\partial L}{\\partial \\mathbf{Y}}\\end{align*} \n",
    "$$"
   ]
  },
  {
   "cell_type": "markdown",
   "metadata": {},
   "source": [
    "#### 批次處理的 Affine 層"
   ]
  },
  {
   "cell_type": "code",
   "execution_count": 5,
   "metadata": {
    "collapsed": true
   },
   "outputs": [],
   "source": [
    "# 定義批次處理的 Affine 層\n",
    "class Affine_Layer:\n",
    "    def __init__(self, W, b):\n",
    "        self.X = None\n",
    "        self.W = W\n",
    "        self.b = b\n",
    "        self.dW = None\n",
    "        self.db = None\n",
    "        \n",
    "    def forward(self, X):\n",
    "        self.X = X\n",
    "        out = np.dot(X, self.W) + self.b\n",
    "        \n",
    "        return out \n",
    "    \n",
    "    def backward(self, dout):\n",
    "        dX = np.dot(dout, self.W.T)\n",
    "        self.dW = np.dot(self.X.T, dout)\n",
    "        # 偏權值的反向傳播: 假設資料有 N 組，統計這 N 組資料相同維度的微分\n",
    "        # axis = 0: 針對第零軸(以資料為單位的軸)做元素值的加總\n",
    "        self.db = np.sum(dout, axis = 0)\n",
    "        \n",
    "        return dX"
   ]
  },
  {
   "cell_type": "markdown",
   "metadata": {},
   "source": [
    "#### 輸出層的活化函數: Softmax-with-loss 層 (softmax function with cross entropy error)\n",
    "* Softmax function:\n",
    "$$ y_{k}=\\frac{e^{x_{k}}}{\\sum_{i=1}^{n}e^{x_{i}}} $$\n",
    "\n",
    "\n",
    "* Cross entropy error:\n",
    "$$ L=-\\sum_{k}t_{k}\\cdot log(y_{k}) $$\n",
    "\n",
    "\n",
    "* Differentiation:\n",
    "$$ \\frac{\\partial L}{\\partial x_{k}} = y_{k}-t_{k} $$"
   ]
  },
  {
   "cell_type": "code",
   "execution_count": 6,
   "metadata": {
    "collapsed": true
   },
   "outputs": [],
   "source": [
    "def softmax(x):\n",
    "    # c 的目的為防範溢位\n",
    "    c = np.max(x)\n",
    "    exp_x = np.exp(x - c)\n",
    "    sum_exp_x = np.sum(exp_x)\n",
    "    y = exp_x / sum_exp_x\n",
    "        \n",
    "    return y    \n",
    "\n",
    "# 小批次處理的交叉熵誤差(cross entropy error)- t 使用 one-hot-label    \n",
    "def batch_cross_entropy_error(y, t):\n",
    "    if y.ndim == 1:\n",
    "        t = t.reshape(1, t.size)\n",
    "        y = y.reshape(1, y.size)\n",
    "        \n",
    "    # 找出每一組 t 資料中正確標籤的 index\n",
    "    if t.size == y.size:\n",
    "        t = t.argmax(axis=1)\n",
    "             \n",
    "    batch_size = y.shape[0]\n",
    "    \n",
    "    # 將每一組 y 資料的值列出(對應於 t 資料的正確標籤 index)，取 log 再加總\n",
    "    return -np.sum(np.log(y[np.arange(batch_size), t] + 1e-7)) / batch_size\n",
    "    \n",
    "# 定義 Softmax-with-loss 層\n",
    "class Softmax_With_Loss_Layer:\n",
    "    def __init__(self):\n",
    "        self.loss = None \n",
    "        self.y = None    \n",
    "        self.t = None    # 訓練資料 (one-hot vector)\n",
    "    \n",
    "    def forward(self, x, t):\n",
    "        self.y = softmax(x)\n",
    "        self.t = t\n",
    "        self.loss = batch_cross_entropy_error(self.y, self.t)\n",
    "        \n",
    "        return self.loss\n",
    "    \n",
    "    def backward(self, dout = 1):\n",
    "        batch_size = self.t.shape[0]\n",
    "        dx = (self.y - self.t) / batch_size\n",
    "        \n",
    "        return dx"
   ]
  },
  {
   "cell_type": "markdown",
   "metadata": {},
   "source": [
    "### 誤差反向傳播法"
   ]
  },
  {
   "cell_type": "markdown",
   "metadata": {},
   "source": [
    "#### 建立誤差反向傳播法的雙層神經網路"
   ]
  },
  {
   "cell_type": "code",
   "execution_count": 7,
   "metadata": {
    "collapsed": true
   },
   "outputs": [],
   "source": [
    "import numpy as np\n",
    "# 引入有序字典 OrderedDict，可以記住新增至字典內的元素順序\n",
    "from collections import OrderedDict\n",
    "\n",
    "'''\n",
    "#定義數值梯度\n",
    "def numerical_gradient(f, x):\n",
    "    h = 1e-4\n",
    "    grad = np.zeros_like(x)\n",
    "    \n",
    "    # np.nditer: numpy array 自帶的迭代器\n",
    "    # flags=['multi_index']: 表示對 a 進行多重索引\n",
    "    # op_flags=['readwrite']: 表示不僅對 a 進行 read（讀取），還可以 write（寫入)\n",
    "    it = np.nditer(x, flags=['multi_index'], op_flags=['readwrite'])\n",
    "    while not it.finished:\n",
    "        # it.multi_index: 表示元素的索引，可以看到結果都是 index\n",
    "        idx = it.multi_index\n",
    "        tmp_val = x[idx]\n",
    "        \n",
    "        x[idx] = float(tmp_val) + h\n",
    "        fxh1 = f(x)\n",
    "        \n",
    "        x[idx] = float(tmp_val) - h \n",
    "        fxh2 = f(x)\n",
    "        \n",
    "        grad[idx] = (fxh1 - fxh2) / (2*h)\n",
    "                \n",
    "        x[idx] = tmp_val\n",
    "        # it.iternext(): 表示進入下一次迭代\n",
    "        it.iternext()   \n",
    "   \n",
    "    return grad\n",
    "'''\n",
    "\n",
    "#定義雙層網路的類別\n",
    "class two_layer_net:\n",
    "    \n",
    "    def __init__(self, input_size, hidden_size, output_size, weight_init_std = 0.01):\n",
    "        \n",
    "        # 建立 two_layer_net 類別的實例變數: self.params、self.layers、self.lastLayer\n",
    "        \n",
    "        #初始化雙層神經網路中的權重與偏權值之函數\n",
    "        self.params = {}\n",
    "        self.params['W1'] = weight_init_std * np.random.randn(input_size, hidden_size)\n",
    "        self.params['b1'] = np.zeros(hidden_size)\n",
    "        self.params['W2'] = weight_init_std * np.random.randn(hidden_size, output_size)\n",
    "        self.params['b2'] = np.zeros(output_size)\n",
    "        \n",
    "        # 產生隱藏層各層\n",
    "        self.layers = OrderedDict()\n",
    "        self.layers['Affine1'] = Affine_Layer(self.params['W1'], self.params['b1'])\n",
    "        self.layers['Sigmoid1'] = Sigmoid_Layer()\n",
    "        self.layers['Affine2'] = Affine_Layer(self.params['W2'], self.params['b2'])\n",
    "        \n",
    "        #產生輸出層\n",
    "        self.lastLayer = Softmax_With_Loss_Layer()\n",
    "        \n",
    "    #定義雙層神經網路向前傳播的過程\n",
    "    def forward_predict(self, x):\n",
    "        for layer in self.layers.values():\n",
    "            x = layer.forward(x)\n",
    "    \n",
    "        return x\n",
    "\n",
    "    #定義損失函數\n",
    "    def loss(self, x, t):\n",
    "        y = self.forward_predict(x)\n",
    "        \n",
    "        return self.lastLayer.forward(y, t)\n",
    "    \n",
    "    #定義梯度\n",
    "    def gradient(self, x, t):\n",
    "        #forward\n",
    "        self.loss(x, t)\n",
    "        \n",
    "        #backward\n",
    "        dout = 1\n",
    "        dout = self.lastLayer.backward(dout)\n",
    "        \n",
    "        for layer in reversed(self.layers.values()):\n",
    "            dout = layer.backward(dout)\n",
    "        \n",
    "        grads = {}\n",
    "        grads['W1'] = self.layers['Affine1'].dW\n",
    "        grads['b1'] = self.layers['Affine1'].db\n",
    "        grads['W2'] = self.layers['Affine2'].dW\n",
    "        grads['b2'] = self.layers['Affine2'].db\n",
    "\n",
    "        return grads\n",
    "    \n",
    "    '''\n",
    "    #定義數值梯度\n",
    "    def numerical_gradient(self, x, t):\n",
    "        loss_W = lambda W: self.loss(x, t)\n",
    "        \n",
    "        grads = {}\n",
    "        grads['W1'] = numerical_gradient(loss_W, self.params['W1'])\n",
    "        grads['b1'] = numerical_gradient(loss_W, self.params['b1'])\n",
    "        grads['W2'] = numerical_gradient(loss_W, self.params['W2'])\n",
    "        grads['b2'] = numerical_gradient(loss_W, self.params['b2'])\n",
    "\n",
    "        return grads\n",
    "    '''\n",
    "    \n",
    "    #計算準確度\n",
    "    def accuracy(self, x, t):\n",
    "        y = self.forward_predict(x)\n",
    "        y = np.argmax(y, axis = 1)\n",
    "        t = np.argmax(t, axis = 1)\n",
    "        \n",
    "        accuracy= np.sum(y == t) / float(x.shape[0])\n",
    "        \n",
    "        return accuracy"
   ]
  },
  {
   "cell_type": "markdown",
   "metadata": {},
   "source": [
    "#### 誤差反向傳播法的梯度檢查(gradient check)"
   ]
  },
  {
   "cell_type": "code",
   "execution_count": null,
   "metadata": {
    "collapsed": true
   },
   "outputs": [],
   "source": [
    "import numpy as np\n",
    "from dataset.mnist import load_mnist\n",
    "\n",
    "#取得資料\n",
    "(x_train, t_train), (x_test, t_test) = \\\n",
    "    load_mnist(flatten = True, normalize = True, one_hot_label = True)\n",
    "\n",
    "#設定神經網路\n",
    "network = two_layer_net(input_size = 784, hidden_size = 50, output_size = 10)\n",
    "\n",
    "x_batch = x_train[:3]\n",
    "t_batch = t_train[:3]\n",
    "\n",
    "grad_numerical = network.numerical_gradient(x_batch, t_batch)\n",
    "grad_backpropagation = network.gradient(x_batch, t_batch)\n",
    "\n",
    "for key in grad_numerical.keys():\n",
    "    diff = np.average(np.abs(grad_backpropagation[key] - grad_numerical[key]))\n",
    "    print(key + \":\" + str(diff))"
   ]
  },
  {
   "cell_type": "markdown",
   "metadata": {},
   "source": [
    "#### 誤差反向傳播法的神經網路學習"
   ]
  },
  {
   "cell_type": "code",
   "execution_count": 9,
   "metadata": {},
   "outputs": [
    {
     "name": "stdout",
     "output_type": "stream",
     "text": [
      "(train acc, test acc) = (0.793083333333,0.7976)----]6.00%\n",
      "(train acc, test acc) = (0.879433333333,0.8848)----]12.00%\n",
      "(train acc, test acc) = (0.898916666667,0.9016)----]18.00%\n",
      "(train acc, test acc) = (0.9076,0.91)--------------]24.00%\n",
      "(train acc, test acc) = (0.9141,0.9175)------------]30.00%\n",
      "(train acc, test acc) = (0.919883333333,0.9224)----]36.00%\n",
      "(train acc, test acc) = (0.92465,0.9253)-----------]42.00%\n",
      "(train acc, test acc) = (0.92865,0.9299)-----------]48.00%\n",
      "(train acc, test acc) = (0.931566666667,0.9335)----]54.00%\n",
      "(train acc, test acc) = (0.934216666667,0.9351)----]60.00%\n",
      "(train acc, test acc) = (0.93725,0.9373)-----------]66.00%\n",
      "(train acc, test acc) = (0.93975,0.9389)-----------]72.00%\n",
      "(train acc, test acc) = (0.941233333333,0.9412)----]78.00%\n",
      "(train acc, test acc) = (0.943683333333,0.9427)----]84.00%\n",
      "(train acc, test acc) = (0.94495,0.9437)∎∎∎∎∎∎-----]90.00%\n",
      "(train acc, test acc) = (0.9465,0.945)∎∎∎∎∎∎∎∎∎∎∎--]96.00%\n",
      "[∎∎∎∎∎∎∎∎∎∎∎∎∎∎∎∎∎∎∎∎∎∎∎∎∎∎∎∎∎∎∎∎∎∎∎∎∎∎∎∎∎∎∎∎∎∎∎∎∎∎]100.00%\n",
      "計算完成\n"
     ]
    }
   ],
   "source": [
    "%matplotlib inline\n",
    "import numpy as np\n",
    "import matplotlib.pyplot as plt\n",
    "from dataset.mnist import load_mnist\n",
    "from ProcessBar.Process_Bar import *\n",
    "\n",
    "#取得資料\n",
    "(x_train, t_train), (x_test, t_test) = \\\n",
    "    load_mnist(flatten = True, normalize = True, one_hot_label = True)\n",
    "\n",
    "#設定神經網路\n",
    "network = two_layer_net(input_size = 784, hidden_size = 50, output_size = 10)\n",
    "\n",
    "#設定超參數\n",
    "iters_num = 10000\n",
    "train_size = x_train.shape[0]\n",
    "batch_size = 100\n",
    "lr = 0.1\n",
    "\n",
    "#建立訓練過程中的損失函數值列表\n",
    "train_loss_list = []\n",
    "\n",
    "#建立訓練與測試資料的辯識準確度列表\n",
    "train_acc_list = []\n",
    "test_acc_list = []\n",
    "\n",
    "# 每一週期的重複次數\n",
    "iter_per_epoch = max(train_size/batch_size, 1)\n",
    "\n",
    "#建立進度條\n",
    "process_bar = ShowProcess(iters_num, '計算完成')\n",
    "\n",
    "#執行小批次學習\n",
    "for i in range(iters_num):\n",
    "    #取得小批次\n",
    "    batch_mask = np.random.choice(train_size, batch_size)\n",
    "    x_batch = x_train[batch_mask]\n",
    "    t_batch = t_train[batch_mask]\n",
    "    \n",
    "    #利用誤差反向傳播法計算梯度\n",
    "    #grad = network.numerical_gradient(x_batch, t_batch)\n",
    "    grad = network.gradient(x_batch, t_batch)\n",
    "    \n",
    "    #更新參數\n",
    "    for key in ('W1', 'b1', 'W2', 'b2'):\n",
    "        network.params[key] -= lr * grad[key]\n",
    "        \n",
    "    #紀錄學習過程\n",
    "    loss = network.loss(x_batch, t_batch)\n",
    "    train_loss_list.append(loss)\n",
    "    \n",
    "    #計算一個周期的辯識準確度\n",
    "    if i % iter_per_epoch == 0 and i != 0 :\n",
    "        train_acc = network.accuracy(x_train, t_train)\n",
    "        test_acc = network.accuracy(x_test, t_test)\n",
    "        train_acc_list.append(train_acc)\n",
    "        test_acc_list.append(test_acc)\n",
    "        print(\"(train acc, test acc) = \" + \"(\" + str(train_acc) + \",\" + str(test_acc) + \")\")\n",
    "    \n",
    "    #顯示當前進度\n",
    "    process_bar.show_process()\n",
    "    time.sleep(0.01)"
   ]
  },
  {
   "cell_type": "code",
   "execution_count": 10,
   "metadata": {},
   "outputs": [
    {
     "data": {
      "text/plain": [
       "<matplotlib.text.Text at 0x76ed320>"
      ]
     },
     "execution_count": 10,
     "metadata": {},
     "output_type": "execute_result"
    },
    {
     "data": {
      "image/png": "[encoded data removed]",
      "text/plain": [
       "<matplotlib.figure.Figure at 0x5a30278>"
      ]
     },
     "metadata": {},
     "output_type": "display_data"
    }
   ],
   "source": [
    "fig, ax = plt.subplots(1, 1, figsize=(8, 4))\n",
    "ax.plot(np.arange(iters_num), train_loss_list, color='b', lw=2)\n",
    "ax.set_ylim(0, 2.5)\n",
    "ax.set_title(\"Loss function\", fontsize = 15)\n",
    "ax.set_xlabel(\"iters_num\", fontsize = 12)"
   ]
  },
  {
   "cell_type": "code",
   "execution_count": 11,
   "metadata": {},
   "outputs": [
    {
     "data": {
      "text/plain": [
       "<matplotlib.legend.Legend at 0x7c87be0>"
      ]
     },
     "execution_count": 11,
     "metadata": {},
     "output_type": "execute_result"
    },
    {
     "data": {
      "image/png": "[encoded data removed]",
      "text/plain": [
       "<matplotlib.figure.Figure at 0x76fbeb8>"
      ]
     },
     "metadata": {},
     "output_type": "display_data"
    }
   ],
   "source": [
    "fig, ax = plt.subplots(1, 1, figsize=(8, 4))\n",
    "ax.plot(np.arange(int(iters_num/iter_per_epoch)), train_acc_list, color='r', linestyle=\"-\", marker=\"o\", lw=2, label=\"train_acc_list\")\n",
    "ax.plot(np.arange(int(iters_num/iter_per_epoch)), test_acc_list, color='k', linestyle=\"--\", marker=\"^\", lw=2, label=\"test_acc_list\")\n",
    "ax.set_ylim(0.7, 1)\n",
    "ax.set_xlabel(\"epochs\", fontsize = 12)\n",
    "ax.set_ylabel(\"accuracy\", fontsize = 12)\n",
    "plt.legend(loc='upper left', bbox_to_anchor=(0.7, 0.3))"
   ]
  }
 ],
 "metadata": {
  "kernelspec": {
   "display_name": "Python 3",
   "language": "python",
   "name": "python3"
  },
  "language_info": {
   "codemirror_mode": {
    "name": "ipython",
    "version": 3
   },
   "file_extension": ".py",
   "mimetype": "text/x-python",
   "name": "python",
   "nbconvert_exporter": "python",
   "pygments_lexer": "ipython3",
   "version": "3.5.4"
  }
 },
 "nbformat": 4,
 "nbformat_minor": 2
}
