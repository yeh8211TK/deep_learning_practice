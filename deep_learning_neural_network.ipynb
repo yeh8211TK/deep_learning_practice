{
 "cells": [
  {
   "cell_type": "markdown",
   "metadata": {},
   "source": [
    "## 感知器(perception)\n",
    "* 及閘(AND)\n",
    "* 反及閘(NAND)\n",
    "* 或閘(OR)\n",
    "* 互斥或閘(XOR)"
   ]
  },
  {
   "cell_type": "code",
   "execution_count": 8,
   "metadata": {
    "collapsed": true
   },
   "outputs": [],
   "source": [
    "import numpy as np\n",
    "\n",
    "#定義階梯函數\n",
    "# x 只能輸入單一的實數，不能輸入陣列\n",
    "def step_function(x):\n",
    "    if x <= 0:\n",
    "        return 0\n",
    "    else:\n",
    "        return 1\n",
    "\n",
    "#定義及閘(AND)\n",
    "def AND(x1, x2):\n",
    "    x = np.array([x1, x2])\n",
    "    w = np.array([0.5, 0.5])\n",
    "    b = -0.7\n",
    "    tmp = np.sum(w*x) + b\n",
    "    return step_function(tmp)\n",
    "    \n",
    "#定義反及閘(NAND)\n",
    "def NAND(x1, x2):\n",
    "    x = np.array([x1, x2])\n",
    "    w = np.array([-0.5, -0.5])\n",
    "    b = 0.7\n",
    "    tmp = np.sum(w*x) + b\n",
    "    return step_function(tmp)\n",
    "    \n",
    "#定義或閘(OR)\n",
    "def OR(x1, x2):\n",
    "    x = np.array([x1, x2])\n",
    "    w = np.array([0.5, 0.5])\n",
    "    b = -0.2\n",
    "    tmp = np.sum(w*x) + b\n",
    "    return step_function(tmp)\n",
    "\n",
    "#定義互斥或閘(XOR) -> 雙層感知器   \n",
    "def XOR(x1, x2):\n",
    "    s1 = NAND(x1 ,x2)\n",
    "    s2 = OR(x1, x2)\n",
    "    y = AND(s1, s2)\n",
    "    return y"
   ]
  },
  {
   "cell_type": "markdown",
   "metadata": {},
   "source": [
    "## 活化函數(activation function)\n",
    "* 階梯函數 (step function)\n",
    "* sigmoid 函數\n",
    "* ReLU 函數\n",
    "* softmax 函數"
   ]
  },
  {
   "cell_type": "markdown",
   "metadata": {},
   "source": [
    "#### step function、sigmoid function、ReLU function"
   ]
  },
  {
   "cell_type": "code",
   "execution_count": 15,
   "metadata": {},
   "outputs": [
    {
     "data": {
      "image/png": "[encoded data removed]",
      "text/plain": [
       "<matplotlib.figure.Figure at 0x806e4e0>"
      ]
     },
     "metadata": {},
     "output_type": "display_data"
    }
   ],
   "source": [
    "import numpy as np\n",
    "import matplotlib.pyplot as plt\n",
    "# 解決更改字型後，儲存影像是負號 '-'，但顯示為方塊的問題\n",
    "plt.rcParams[\"axes.unicode_minus\"] = False\n",
    "\n",
    "#定義 階梯函數\n",
    "#方法一\n",
    "# x從單一的輸入實數，變成可以使用 Numpy array 運算的定義方法 \n",
    "def step_function_1(x):\n",
    "    #將陣列中的元素進行不等式運算，變成布林陣列 y\n",
    "    y = x > 0\n",
    "    #將 y 陣列中的元素布林型態轉換成 int 型態\n",
    "    return y.astype(np.int)\n",
    "\n",
    "#方法二\n",
    "def step_function_2(x):\n",
    "    return np.array(x > 0, dtype = np.int)\n",
    "\n",
    "#定義 sigmoid函數\n",
    "def sigmoid(x):\n",
    "    #使用了 Numpy 的 broadcast 功能，當 x 是 numpy array 時,可以使用純量與 numpy array 進行運算\n",
    "    return 1/(1 + np.exp(-x))\n",
    "\n",
    "#定義 ReLU函數\n",
    "def relu(x):\n",
    "    return np.maximum(0, x)\n",
    "\n",
    "#作圖\n",
    "x = np.arange(-5, 5, 0.1)\n",
    "y1 = step_function_2(x)\n",
    "y2 = sigmoid(x)\n",
    "y3 = relu(x)\n",
    "\n",
    "fig, axes = plt.subplots(1, 3, figsize=(16, 4))\n",
    "axes[0].plot(x, y1, color='b', lw=2)\n",
    "axes[0].set_title(\"Step function\", fontsize=20)\n",
    "axes[0].set_ylim(-0.1, 1.1)\n",
    "axes[1].plot(x, y2, color='r', lw=2)\n",
    "axes[1].set_title(\"Sigmoid function\", fontsize=20)\n",
    "axes[1].set_ylim(-0.1, 1.1)\n",
    "axes[2].plot(x, y3, color='g', lw=2)\n",
    "axes[2].set_title(\"ReLU function\", fontsize=20)\n",
    "axes[2].set_ylim(-0.1, 5.1)\n",
    "plt.show()"
   ]
  },
  {
   "cell_type": "markdown",
   "metadata": {},
   "source": [
    "#### softmax 函數(在學習階段非常重要，推論階段一般會省略)"
   ]
  },
  {
   "cell_type": "code",
   "execution_count": 48,
   "metadata": {
    "collapsed": true
   },
   "outputs": [],
   "source": [
    "import numpy as np\n",
    "\n",
    "#定義 softmax 函數\n",
    "def softmax(a):\n",
    "    # c 的目的為防範溢位\n",
    "    c = np.max(a)\n",
    "    exp_a = np.exp(a - c)\n",
    "    sum_exp_a = np.sum(exp_a)\n",
    "    y = exp_a / sum_exp_a\n",
    "    return y"
   ]
  },
  {
   "cell_type": "markdown",
   "metadata": {},
   "source": [
    "## 三層神經網路\n",
    "* 多維陣列運算\n",
    "* 輸出層(output layer)\n",
    "  - 回歸問題 -> 恆等函數 (identity function)\n",
    "  - 兩類別分類 -> sigmoid 函數\n",
    "  - 多類別分類 -> softmax 函數"
   ]
  },
  {
   "cell_type": "markdown",
   "metadata": {},
   "source": [
    "#### 處理神經網路的步驟:"
   ]
  },
  {
   "cell_type": "code",
   "execution_count": 46,
   "metadata": {},
   "outputs": [
    {
     "name": "stdout",
     "output_type": "stream",
     "text": [
      "[ 0.31682708  0.69627909]\n"
     ]
    }
   ],
   "source": [
    "import numpy as np\n",
    "\n",
    "#定義隱藏層的活化函數\n",
    "def sigmoid(x):\n",
    "    return 1/(1 + np.exp(-x))\n",
    "\n",
    "#定義輸出層的活化函數\n",
    "def identity_function(x):\n",
    "    return x\n",
    "\n",
    "#輸入層\n",
    "X = np.array([1.0, 0.5])\n",
    "\n",
    "#第一層(隱藏層)\n",
    "#權重與偏權值\n",
    "W1 = np.array([[0.1, 0.3, 0.5], [0.2, 0.4, 0.6]])\n",
    "B1 = np.array([0.1, 0.2, 0.3])\n",
    "\n",
    "A1 = np.dot(X, W1) + B1\n",
    "\n",
    "#活化函數\n",
    "Z1 = sigmoid(A1)\n",
    "\n",
    "#第二層(隱藏層)\n",
    "#權重與偏權值\n",
    "W2 = np.array([[0.1, 0.4], [0.2, 0.5], [0.3, 0.6]])\n",
    "B2 = np.array([0.1, 0.2])\n",
    "\n",
    "A2 = np.dot(Z1, W2) + B2\n",
    "\n",
    "#活化函數\n",
    "Z2 = sigmoid(A2)\n",
    "\n",
    "#輸出層\n",
    "#權重與偏權值\n",
    "W3 = np.array([[0.1, 0.3], [0.2, 0.4]])\n",
    "B3 = np.array([0.1, 0.2])\n",
    "\n",
    "A3 = np.dot(Z2, W3) + B3\n",
    "\n",
    "#活化函數\n",
    "Y = identity_function(A3)\n",
    "print(Y)"
   ]
  },
  {
   "cell_type": "markdown",
   "metadata": {},
   "source": [
    "#### 統整過程"
   ]
  },
  {
   "cell_type": "code",
   "execution_count": 47,
   "metadata": {},
   "outputs": [
    {
     "name": "stdout",
     "output_type": "stream",
     "text": [
      "[ 0.31682708  0.69627909]\n"
     ]
    }
   ],
   "source": [
    "import numpy as np\n",
    "\n",
    "#定義隱藏層的活化函數\n",
    "def sigmoid(x):\n",
    "    return 1/(1 + np.exp(-x))\n",
    "\n",
    "#定義輸出層的活化函數\n",
    "def identity_function(x):\n",
    "    return x\n",
    "\n",
    "#定義三層神經網路中的權重與偏權值\n",
    "def init_network():\n",
    "    network = {}\n",
    "    network['W1'] = np.array([[0.1, 0.3, 0.5], [0.2, 0.4, 0.6]])\n",
    "    network['b1'] = np.array([0.1, 0.2, 0.3])\n",
    "    network['W2'] = np.array([[0.1, 0.4], [0.2, 0.5], [0.3, 0.6]])    \n",
    "    network['b2'] = np.array([0.1, 0.2])\n",
    "    network['W3'] = np.array([[0.1, 0.3], [0.2, 0.4]])\n",
    "    network['b3'] = np.array([0.1, 0.2])\n",
    "    return network\n",
    "\n",
    "#定義三層神經網路向前傳播的過程\n",
    "def forward(network, x):\n",
    "    W1, W2, W3 = network['W1'], network['W2'], network['W3']\n",
    "    b1, b2, b3 = network['b1'], network['b2'], network['b3']\n",
    "    \n",
    "    a1 = np.dot(x, W1) + b1\n",
    "    z1 = sigmoid(a1)\n",
    "    a2 = np.dot(z1, W2) + b2\n",
    "    z2 = sigmoid(a2)\n",
    "    a3 = np.dot(z2, W3) + b3\n",
    "    y = identity_function(a3)\n",
    "    \n",
    "    return y\n",
    "\n",
    "#計算神經網路\n",
    "network = init_network()\n",
    "x = np.array([1.0, 0.5])\n",
    "y = forward(network, x)\n",
    "print(y)"
   ]
  },
  {
   "cell_type": "markdown",
   "metadata": {},
   "source": [
    "## MNIST 資料集執行神經網路的推論"
   ]
  },
  {
   "cell_type": "markdown",
   "metadata": {},
   "source": [
    "#### MNIST 資料集"
   ]
  },
  {
   "cell_type": "code",
   "execution_count": 4,
   "metadata": {},
   "outputs": [
    {
     "name": "stdout",
     "output_type": "stream",
     "text": [
      "輸出資料的形狀: x_train, t_train, x_test, t_test:\n",
      "(60000, 784) (60000,) (10000, 784) (10000,)\n",
      "x_train[0]的影像大小:(784,)\n",
      "x_train[0]形狀轉化後的影像大小:(28, 28)\n",
      "x_train[0]的影像:\n"
     ]
    },
    {
     "data": {
      "image/png": "[encoded data removed]",
      "text/plain": [
       "<matplotlib.figure.Figure at 0x807b400>"
      ]
     },
     "metadata": {},
     "output_type": "display_data"
    },
    {
     "name": "stdout",
     "output_type": "stream",
     "text": [
      "t_train[0]的數字:5\n"
     ]
    }
   ],
   "source": [
    "import numpy as np\n",
    "import matplotlib.pyplot as plt\n",
    "# 載入 dataset/mnist.py 的 load_mnist 函數\n",
    "from dataset.mnist import load_mnist\n",
    "\n",
    "# 用 load_mnist 函數讀取 MNIST 資料集 \n",
    "# (flatten:是否影像變1維, normalize:是否正規化為 0 ~ 1, one_hot_label:是否儲存為 one-hot 編碼)\n",
    "(x_train, t_train), (x_test, t_test) = load_mnist(flatten = True, normalize = False, one_hot_label = False)\n",
    "\n",
    "# 輸出資料的形狀\n",
    "print(\"輸出資料的形狀: x_train, t_train, x_test, t_test:\")\n",
    "print(x_train.shape, t_train.shape, x_test.shape, t_test.shape)\n",
    "\n",
    "# 顯示 x_train[0] 的影像大小\n",
    "img = x_train[0]\n",
    "print(\"x_train[0]的影像大小:\" + str(img.shape))\n",
    "\n",
    "# 定義顯示影像的函數\n",
    "def plot_image(image):\n",
    "    fig = plt.gcf()\n",
    "    #設置顯示圖形的大小 （這列與上面那列可不打，只是顯示的圖形會為預設，但比例不會縮小）\n",
    "    fig.set_size_inches(3, 3)\n",
    "    #使用 plt.imshow 顯示圖形，傳入 28 * 28 的圖形，binary 以黑白灰顯示\n",
    "    plt.imshow(image, cmap = 'binary')\n",
    "    plt.show()\n",
    "\n",
    "# 將 x_train[0] 形狀轉化成 28 * 28 的圖形\n",
    "img = img.reshape(28, 28)\n",
    "print(\"x_train[0]形狀轉化後的影像大小:\" + str(img.shape))\n",
    "\n",
    "# 顯示 x_train[0] 的影像\n",
    "print(\"x_train[0]的影像:\")\n",
    "plot_image(img)\n",
    "\n",
    "# 顯示 t_train[0] 的數字\n",
    "label = t_train[0]\n",
    "print(\"t_train[0]的數字:\" + str(label))"
   ]
  },
  {
   "cell_type": "markdown",
   "metadata": {},
   "source": [
    "#### 神經網路的推論"
   ]
  },
  {
   "cell_type": "code",
   "execution_count": 5,
   "metadata": {},
   "outputs": [
    {
     "name": "stdout",
     "output_type": "stream",
     "text": [
      "Accuracy:0.9352\n",
      "Accuracy(使用批次(batch)處理):0.9352\n"
     ]
    }
   ],
   "source": [
    "import numpy as np\n",
    "# 載入 dataset/mnist.py 的 load_mnist 函數\n",
    "from dataset.mnist import load_mnist\n",
    "# pickle 模組實現了基本的數據序列化和反序列化\n",
    "import pickle\n",
    "\n",
    "#定義隱藏層的活化函數\n",
    "def sigmoid(x):\n",
    "    return 1/(1 + np.exp(-x))\n",
    "\n",
    "#定義輸出層的活化函數\n",
    "def softmax(a):\n",
    "    # c 的目的為防範溢位\n",
    "    c = np.max(a)\n",
    "    exp_a = np.exp(a - c)\n",
    "    sum_exp_a = np.sum(exp_a)\n",
    "    y = exp_a / sum_exp_a\n",
    "    return y\n",
    "\n",
    "#定義取得資料的函數\n",
    "def get_data():\n",
    "    # 將輸入影像資料正規化(normalization)來進行預處理(pre-processing)\n",
    "    # 其他預處理方法: 白色化(whitening)->讓整個資料分布形狀均勻一致的方法\n",
    "    (x_train, t_train), (x_test, t_test) = \\\n",
    "    load_mnist(flatten = True, normalize = True, one_hot_label = False)\n",
    "    \n",
    "    return x_test, t_test\n",
    "\n",
    "#定義取得三層神經網路中的權重與偏權值的函數\n",
    "def init_network():\n",
    "    with open(\"sample_weight.pkl\", 'rb') as f:\n",
    "        # 反序列化方法 pickle.load 從資料檔案中讀取資料，並轉換為 python 的資料結構\n",
    "        # 將序列化的對象從文件 file 中讀取出來，它的功能等同於 Unpickler(file).load\n",
    "        # 必須以二進位的形式('rb')進行操作（讀取）\n",
    "        network = pickle.load(f)\n",
    "    \n",
    "    return network\n",
    "\n",
    "#定義三層神經網路向前傳播的過程\n",
    "def forward(network, x):\n",
    "    W1, W2, W3 = network['W1'], network['W2'], network['W3']\n",
    "    b1, b2, b3 = network['b1'], network['b2'], network['b3']\n",
    "    \n",
    "    a1 = np.dot(x, W1) + b1\n",
    "    z1 = sigmoid(a1)\n",
    "    a2 = np.dot(z1, W2) + b2\n",
    "    z2 = sigmoid(a2)\n",
    "    a3 = np.dot(z2, W3) + b3\n",
    "    y = softmax(a3)\n",
    "    \n",
    "    return y\n",
    "\n",
    "#計算神經網路 & 辨識準確度 (1)\n",
    "x, t = get_data()\n",
    "network = init_network()\n",
    "\n",
    "accuracy_cnt = 0\n",
    "\n",
    "for i in range(len(x)):\n",
    "    y = forward(network, x[i])\n",
    "    # 取得機率最高的元素 index\n",
    "    p = np.argmax(y)\n",
    "    if p == t[i]:\n",
    "        accuracy_cnt += 1\n",
    "    \n",
    "print(\"Accuracy:\" + str(float(accuracy_cnt) / len(x)) )\n",
    "\n",
    "#計算神經網路 & 辨識準確度 (2) - 使用批次(batch)處理\n",
    "x, t = get_data()\n",
    "network = init_network()\n",
    "\n",
    "#批次的數量\n",
    "batch_size = 100\n",
    "accuracy_cnt = 0\n",
    "\n",
    "for i in range(0, len(x), batch_size):\n",
    "    x_batch = x[i : i + batch_size]\n",
    "    y_batch = forward(network, x_batch)\n",
    "    # 取得機率最高的元素 index\n",
    "    p = np.argmax(y_batch , axis = 1)\n",
    "    accuracy_cnt += np.sum(p == t[i : i + batch_size])\n",
    "    \n",
    "print(\"Accuracy(使用批次(batch)處理):\" + str(float(accuracy_cnt) / len(x)) )"
   ]
  },
  {
   "cell_type": "markdown",
   "metadata": {},
   "source": [
    "## 損失函數\n",
    "* 均方誤差(mean square error)\n",
    "$$E=\\frac{1}{2}\\sum_{k}\\left ( y_{k}-t_{k} \\right )^{2}$$\n",
    "\n",
    "* 交叉熵誤差(cross entropy error)\n",
    "$$E=-\\sum_{k}t_{k}log \\left ( y_{k} \\right )$$\n",
    "\n",
    "* 小批次處理的交叉熵誤差(cross entropy error)\n",
    "$$E=-\\frac{1}{N}\\sum_{n}\\sum_{k}t_{nk}log \\left ( y_{nk} \\right )$$\n",
    "\n",
    "$y_{k}$:神經網路的輸出, $t_{k}$:正確答案標籤(使用 one-hot coding，正確標籤為 1, 其餘為 0)"
   ]
  },
  {
   "cell_type": "code",
   "execution_count": 21,
   "metadata": {
    "collapsed": true
   },
   "outputs": [],
   "source": [
    "import numpy as np\n",
    "#均方誤差(mean square error)\n",
    "def mean_squared_error(y, t):\n",
    "    return 0.5*np.sum((y-t)**2)\n",
    "\n",
    "#交叉熵誤差(cross entropy error)\n",
    "def cross_entropy_error(y, t):\n",
    "    #避免無限大\n",
    "    delta = 1e-7\n",
    "    return -np.sum(t*np.log(y + delta))\n",
    "\n",
    "#小批次處理的交叉熵誤差(cross entropy error) - 使用 one-hot-label\n",
    "def batch_cross_entropy_error(y, t):\n",
    "    if y.ndim == 1:\n",
    "        t = t.reshape(1, t.size)\n",
    "        y = y.reshape(1, y.size)\n",
    "        \n",
    "    batch_size = y.shape[0]\n",
    "    \n",
    "    return -np.sum(t*np.log(y)) / batch_size"
   ]
  },
  {
   "cell_type": "markdown",
   "metadata": {
    "collapsed": true
   },
   "source": [
    "## 數值微分"
   ]
  },
  {
   "cell_type": "code",
   "execution_count": 1,
   "metadata": {
    "collapsed": true
   },
   "outputs": [],
   "source": [
    "import numpy as np\n",
    "#定義數值微分\n",
    "def numerical_diff(f, x):\n",
    "    #避免捨入誤差(rounding error)\n",
    "    h = 1e-4\n",
    "    #用中央差分減少誤差\n",
    "    return (f(x+h)-f(x-h))/(2*h)\n",
    "\n",
    "#定義數值梯度\n",
    "def numerical_gradient(f, x):\n",
    "    h = 1e-4\n",
    "    #產生和 x 相同形狀的陣列，該元素全部為 0\n",
    "    grad = np.zeros_like(x)\n",
    "    #分別計算單一變數的偏微分\n",
    "    for idx in range(x.size):\n",
    "        tmp_val = x[idx]\n",
    "        #計算 f(x+h)\n",
    "        x[idx] = tmp_val + h\n",
    "        fxh1 = f(x)        \n",
    "        \n",
    "        #計算 f(x-h)\n",
    "        x[idx] = tmp_val - h\n",
    "        fxh2 = f(x)\n",
    "        \n",
    "        #計算中央差分\n",
    "        grad[idx] = (fxh1 - fxh2)/(2*h)\n",
    "    \n",
    "        #恢復原值\n",
    "        x[idx] = tmp_val\n",
    "        \n",
    "    return grad"
   ]
  },
  {
   "cell_type": "markdown",
   "metadata": {},
   "source": [
    "## 神經網路學習階段的更新參數方法 -> 進行參數最佳化\n",
    "* 隨機梯度下降法(stochastic gradient descent, SGD)\n",
    "* Momentum\n",
    "* AdaGrad\n",
    "* Adam"
   ]
  },
  {
   "cell_type": "markdown",
   "metadata": {},
   "source": [
    "#### 隨機梯度下降法(stochastic gradient descent, SGD)\n",
    "\n",
    "$$\\vec{x}'=\\vec{x}-\\eta \\frac{\\partial f}{\\partial \\vec{x}}$$\n"
   ]
  },
  {
   "cell_type": "markdown",
   "metadata": {},
   "source": [
    "神經網路的隨機梯度下降法(SGD)\n",
    "\n",
    "$$\\vec{W}'=\\vec{W}-\\eta \\frac{\\partial L}{\\partial \\vec{W}}$$\n"
   ]
  },
  {
   "cell_type": "code",
   "execution_count": null,
   "metadata": {
    "collapsed": true
   },
   "outputs": [],
   "source": [
    "import numpy as np\n",
    "\n",
    "#建立梯度下降法類別\n",
    "class SGD:\n",
    "\n",
    "    def __init__(self, lr = 0.1):\n",
    "        self.lr = lr\n",
    "        \n",
    "    def update(self, params, grads):\n",
    "        for key in params.keys():\n",
    "            params[key] -= self.lr * grads[key]"
   ]
  },
  {
   "cell_type": "code",
   "execution_count": 8,
   "metadata": {},
   "outputs": [
    {
     "data": {
      "text/plain": [
       "array([ -1.83333238e-09,   1.01851799e-09])"
      ]
     },
     "execution_count": 8,
     "metadata": {},
     "output_type": "execute_result"
    }
   ],
   "source": [
    "import numpy as np\n",
    "#定義梯度下降法\n",
    "# f: 要最佳化的函數, init_x: 預設值, lr: learning rate, step_num: 梯度法重複的步驟\n",
    "# 學習率(learning rate)為超參數(hyperparameter) -> 人工調整\n",
    "def gradient_descent(f, init_x, lr = 0.1, step_num = 100):\n",
    "    x = init_x\n",
    "    for i in range(step_num):\n",
    "        grad = numerical_gradient(f, x)\n",
    "        x -= lr*grad\n",
    "    return x\n",
    "\n",
    "#範例函數\n",
    "def Function(x):\n",
    "    return x[0]**2 + x[1]**2\n",
    "\n",
    "#隨機的起始值\n",
    "init_x = np.array([-9.0, 5.0])\n",
    "\n",
    "#執行梯度下降法\n",
    "gradient_descent(Function, init_x = init_x, lr = 0.1, step_num = 100)"
   ]
  },
  {
   "cell_type": "markdown",
   "metadata": {},
   "source": [
    "SGD 軌跡圖"
   ]
  },
  {
   "cell_type": "code",
   "execution_count": 10,
   "metadata": {},
   "outputs": [
    {
     "data": {
      "image/png": "[encoded data removed]",
      "text/plain": [
       "<matplotlib.figure.Figure at 0x85cdf60>"
      ]
     },
     "metadata": {},
     "output_type": "display_data"
    }
   ],
   "source": [
    "import numpy as np\n",
    "import matplotlib.pyplot as plt\n",
    "# 解決更改字型後，儲存影像是負號 '-'，但顯示為方塊的問題\n",
    "plt.rcParams[\"axes.unicode_minus\"] = False\n",
    "\n",
    "#紀錄軌跡\n",
    "def gradient_descent_trace(f, init_x, lr = 0.1, step_num = 100):\n",
    "    x = init_x\n",
    "    x_data[0] = x[0]\n",
    "    y_data[0] = x[1]\n",
    "    for i in range(1, step_num + 1):\n",
    "        grad = numerical_gradient(f, x)\n",
    "        x -= lr*grad\n",
    "        x_data[i] = x[0]\n",
    "        y_data[i] = x[1]\n",
    "    return x_data, y_data\n",
    "\n",
    "def Function(x):\n",
    "    return x[0]**2 + x[1]**2\n",
    "\n",
    "init_position = np.array([-9.0, 5.0])\n",
    "x_data = np.zeros(101)\n",
    "y_data = np.zeros(101)\n",
    "gradient_descent_trace(Function, init_x = init_position, lr = 0.1,\n",
    "                       step_num = 100)\n",
    "\n",
    "#畫圖\n",
    "x = np.arange(-10.0, 10.0, 0.01)\n",
    "y = np.arange(-10.0, 10.0, 0.01)\n",
    "X, Y = np.meshgrid(x, y)\n",
    "z = X**2 + Y**2\n",
    "\n",
    "fig, axe = plt.subplots(1, 1, figsize=(8, 4))\n",
    "cs = axe.contour(X, Y, z, 10)\n",
    "fig.colorbar(cs, shrink = 0.9)\n",
    "axe.scatter(x_data, y_data, color = 'black', lw = 0.1)\n",
    "axe.set_title(\"SGD\", fontsize = 15)\n",
    "axe.set_xlabel('x')\n",
    "axe.set_ylabel('y')\n",
    "axe.set_xlim(-10, 10)\n",
    "axe.set_ylim(-10, 10)\n",
    "plt.show()"
   ]
  },
  {
   "cell_type": "markdown",
   "metadata": {},
   "source": [
    "SGD 軌跡動態圖"
   ]
  },
  {
   "cell_type": "code",
   "execution_count": 13,
   "metadata": {
    "collapsed": true
   },
   "outputs": [],
   "source": [
    "#畫圖就可以顯示在 GUI 裡(開啟新視窗)\n",
    "%matplotlib qt\n",
    "import numpy as np\n",
    "import matplotlib.pyplot as plt\n",
    "# 解決更改字型後，儲存影像是負號 '-'，但顯示為方塊的問題\n",
    "plt.rcParams[\"axes.unicode_minus\"] = False\n",
    "import matplotlib.animation as animation\n",
    "\n",
    "#使用生成器構建每一幀的傳入數據\n",
    "update_num = 101\n",
    "def data_gen(t=0):\n",
    "    cnt = 0\n",
    "    while cnt < update_num:\n",
    "        cnt += 1\n",
    "        t += 1\n",
    "        yield x_data[t-1], y_data[t-1]\n",
    "\n",
    "#全域變量\n",
    "fig, ax = plt.subplots(1, 1, figsize=(10, 6))\n",
    "point, = ax.plot([], [], lw=2, color = 'black')      #刷新的關键部分\n",
    "xdata, ydata = [], []\n",
    "\n",
    "ax.scatter(x_data[0], y_data[0], color = 'black', lw = 3)\n",
    "xo = np.arange(-10.0, 10.0, 0.01)\n",
    "yo = np.arange(-10.0, 10.0, 0.01)\n",
    "X, Y = np.meshgrid(xo, yo)\n",
    "z = X**2 + Y**2\n",
    "cs = ax.contour(X, Y, z, 10)\n",
    "fig.colorbar(cs, shrink = 0.9)\n",
    "ax.set_title(\"SGD\", fontsize = 15)\n",
    "ax.set_xlabel('x')\n",
    "ax.set_ylabel('y')\n",
    "\n",
    "#第一幀的内容\n",
    "def init():\n",
    "    ax.set_ylim(-10, 10)\n",
    "    ax.set_xlim(-10, 10)\n",
    "    del xdata[:]\n",
    "    del ydata[:]\n",
    "    point.set_data(xdata, ydata)    \n",
    "    return point,\n",
    "\n",
    "#刷新圖片的函数\n",
    "def update(data):\n",
    "    x, y = data\n",
    "    xdata.append(x)\n",
    "    ydata.append(y)    \n",
    "    point.set_data(xdata, ydata)\n",
    "    return point,\n",
    "\n",
    "ani = animation.FuncAnimation(fig, update, data_gen, blit = False, interval = 50,\n",
    "                              repeat = True, init_func = init)"
   ]
  },
  {
   "cell_type": "markdown",
   "metadata": {},
   "source": [
    "#### Momentum\n",
    "$$\\vec{v}'=\\alpha\\vec{v}-\\eta \\frac{\\partial f}{\\partial \\vec{x}}$$\n",
    "\n",
    "$$\\vec{x}'=\\vec{x}+\\vec{v}' $$"
   ]
  },
  {
   "cell_type": "markdown",
   "metadata": {},
   "source": [
    "神經網路的 Momentum 方法\n",
    "\n",
    "$$\\vec{v}'=\\alpha\\vec{v}-\\eta \\frac{\\partial L}{\\partial \\vec{W}}$$\n",
    "\n",
    "$$\\vec{W}'=\\vec{W}+\\vec{v}' $$"
   ]
  },
  {
   "cell_type": "code",
   "execution_count": 14,
   "metadata": {},
   "outputs": [
    {
     "data": {
      "text/plain": [
       "array([ 0.00011283, -0.00011071])"
      ]
     },
     "execution_count": 14,
     "metadata": {},
     "output_type": "execute_result"
    }
   ],
   "source": [
    "import numpy as np\n",
    "#定義 momentum 方法\n",
    "def momentum(f, init_x, init_v, lr = 0.1, alpha = 0.8, step_num = 100):\n",
    "    x = init_x\n",
    "    v = init_v\n",
    "    for i in range(step_num):\n",
    "        grad = numerical_gradient(f, x)\n",
    "        v = alpha * v - lr * grad\n",
    "        x += v\n",
    "    return x\n",
    "\n",
    "#範例函數\n",
    "def Function(x):\n",
    "    return x[0]**2 + x[1]**2\n",
    "\n",
    "#隨機的起始值\n",
    "init_x = np.array([-9.0, 5.0])\n",
    "init_v = np.array([1.0, -3.0])\n",
    "\n",
    "#執行梯度下降法\n",
    "momentum(Function, init_x = init_x, init_v = init_v,\n",
    "                 lr = 0.1, alpha = 0.8, step_num = 100)"
   ]
  },
  {
   "cell_type": "markdown",
   "metadata": {},
   "source": [
    "Momentum 軌跡圖"
   ]
  },
  {
   "cell_type": "code",
   "execution_count": 3,
   "metadata": {},
   "outputs": [
    {
     "data": {
      "image/png": "[encoded data removed]",
      "text/plain": [
       "<matplotlib.figure.Figure at 0x58d6940>"
      ]
     },
     "metadata": {},
     "output_type": "display_data"
    }
   ],
   "source": [
    "import numpy as np\n",
    "import matplotlib.pyplot as plt\n",
    "# 解決更改字型後，儲存影像是負號 '-'，但顯示為方塊的問題\n",
    "plt.rcParams[\"axes.unicode_minus\"] = False\n",
    "\n",
    "#紀錄軌跡\n",
    "def momentum_trace(f, init_x, init_v, lr = 0.1, alpha = 0.8, step_num = 100):\n",
    "    x = init_x\n",
    "    v = init_v\n",
    "    x_data[0] = x[0]\n",
    "    y_data[0] = x[1]\n",
    "    for i in range(1, step_num + 1):\n",
    "        grad = numerical_gradient(f, x)\n",
    "        v = alpha * v - lr * grad\n",
    "        x += v\n",
    "        x_data[i] = x[0]\n",
    "        y_data[i] = x[1]\n",
    "    return x_data, y_data\n",
    "\n",
    "def Function(x):\n",
    "    return x[0]**2 + x[1]**2\n",
    "\n",
    "init_position = np.array([-9.0, 5.0])\n",
    "init_velocity = np.array([1.0, -3.0])\n",
    "x_data = np.zeros(101)\n",
    "y_data = np.zeros(101)\n",
    "momentum_trace(Function, init_x = init_position, init_v = init_velocity,\n",
    "                 lr = 0.1, alpha = 0.8, step_num = 100)\n",
    "#畫圖\n",
    "x = np.arange(-10.0, 10.0, 0.01)\n",
    "y = np.arange(-10.0, 10.0, 0.01)\n",
    "X, Y = np.meshgrid(x, y)\n",
    "z = X**2 + Y**2\n",
    "\n",
    "fig, axe = plt.subplots(1, 1, figsize=(8, 4))\n",
    "cs = axe.contour(X, Y, z, 10)\n",
    "fig.colorbar(cs, shrink = 0.9)\n",
    "axe.scatter(x_data, y_data, color = 'black', lw = 0.1)\n",
    "axe.set_title(\"Momentum\", fontsize = 15)\n",
    "axe.set_xlabel('x')\n",
    "axe.set_ylabel('y')\n",
    "axe.set_xlim(-10, 10)\n",
    "axe.set_ylim(-10, 10)\n",
    "plt.show()"
   ]
  },
  {
   "cell_type": "markdown",
   "metadata": {},
   "source": [
    "Momentum 軌跡動態圖"
   ]
  },
  {
   "cell_type": "code",
   "execution_count": 15,
   "metadata": {
    "collapsed": true
   },
   "outputs": [],
   "source": [
    "#畫圖就可以顯示在 GUI 裡(開啟新視窗)\n",
    "%matplotlib qt\n",
    "import numpy as np\n",
    "import matplotlib.pyplot as plt\n",
    "# 解決更改字型後，儲存影像是負號 '-'，但顯示為方塊的問題\n",
    "plt.rcParams[\"axes.unicode_minus\"] = False\n",
    "import matplotlib.animation as animation\n",
    "\n",
    "#使用生成器構建每一幀的傳入數據\n",
    "update_num = 101\n",
    "def data_gen(t=0):\n",
    "    cnt = 0\n",
    "    while cnt < update_num:\n",
    "        cnt += 1\n",
    "        t += 1\n",
    "        yield x_data[t-1], y_data[t-1]\n",
    "\n",
    "#全域變量\n",
    "fig, ax = plt.subplots(1, 1, figsize=(10, 6))\n",
    "point, = ax.plot([], [], lw=2, color = 'black')      #刷新的關键部分\n",
    "xdata, ydata = [], []\n",
    "\n",
    "ax.scatter(x_data[0], y_data[0], color = 'black', lw = 3)\n",
    "xo = np.arange(-10.0, 10.0, 0.01)\n",
    "yo = np.arange(-10.0, 10.0, 0.01)\n",
    "X, Y = np.meshgrid(xo, yo)\n",
    "z = X**2 + Y**2\n",
    "cs = ax.contour(X, Y, z, 10)\n",
    "fig.colorbar(cs, shrink = 0.9)\n",
    "ax.set_title(\"Momentum\", fontsize = 15)\n",
    "ax.set_xlabel('x')\n",
    "ax.set_ylabel('y')\n",
    "\n",
    "#第一幀的内容\n",
    "def init():\n",
    "    ax.set_ylim(-10, 10)\n",
    "    ax.set_xlim(-10, 10)\n",
    "    del xdata[:]\n",
    "    del ydata[:]\n",
    "    point.set_data(xdata, ydata)    \n",
    "    return point,\n",
    "\n",
    "#刷新圖片的函数\n",
    "def update(data):\n",
    "    x, y = data\n",
    "    xdata.append(x)\n",
    "    ydata.append(y)    \n",
    "    point.set_data(xdata, ydata)\n",
    "    return point,\n",
    "\n",
    "ani = animation.FuncAnimation(fig, update, data_gen, blit = False, interval = 50,\n",
    "                              repeat = True, init_func = init)"
   ]
  },
  {
   "cell_type": "markdown",
   "metadata": {},
   "source": [
    "#### AdaGrad\n",
    "$$\\vec{h}'=\\vec{h}+\\frac{\\partial f}{\\partial \\vec{x}}\\odot\\frac{\\partial f}{\\partial \\vec{x}}$$\n",
    "\n",
    "\n",
    "$$\\vec{x}'=\\vec{x}-\\eta \\frac{1}{\\sqrt{\\vec{h}'}} \\frac{\\partial f}{\\partial \\vec{x}} $$\n"
   ]
  },
  {
   "cell_type": "code",
   "execution_count": 16,
   "metadata": {},
   "outputs": [
    {
     "data": {
      "text/plain": [
       "array([-7.21663616,  3.27969412])"
      ]
     },
     "execution_count": 16,
     "metadata": {},
     "output_type": "execute_result"
    }
   ],
   "source": [
    "import numpy as np\n",
    "#定義 AdaGrad 方法\n",
    "def AdaGrad(f, init_x, init_h, lr = 0.1, step_num = 100):\n",
    "    x = init_x\n",
    "    h = init_h\n",
    "    for i in range(step_num):\n",
    "        grad = numerical_gradient(f, x)\n",
    "        h =  h + grad * grad\n",
    "        x -= lr * (1/np.sqrt(h)) * grad\n",
    "    return x\n",
    "\n",
    "#範例函數\n",
    "def Function(x):\n",
    "    return x[0]**2 + x[1]**2\n",
    "\n",
    "#隨機的起始值\n",
    "init_x = np.array([-9.0, 5.0])\n",
    "init_h = np.array([1.0, -3.0])\n",
    "\n",
    "#執行梯度\n",
    "AdaGrad(Function, init_x = init_x, init_h = init_h, lr = 0.1, step_num = 100)"
   ]
  },
  {
   "cell_type": "markdown",
   "metadata": {},
   "source": [
    "AdaGrad 軌跡圖"
   ]
  },
  {
   "cell_type": "code",
   "execution_count": 14,
   "metadata": {},
   "outputs": [
    {
     "data": {
      "image/png": "[encoded data removed]",
      "text/plain": [
       "<matplotlib.figure.Figure at 0x816fc50>"
      ]
     },
     "metadata": {},
     "output_type": "display_data"
    }
   ],
   "source": [
    "import numpy as np\n",
    "import matplotlib.pyplot as plt\n",
    "# 解決更改字型後，儲存影像是負號 '-'，但顯示為方塊的問題\n",
    "plt.rcParams[\"axes.unicode_minus\"] = False\n",
    "\n",
    "#紀錄軌跡\n",
    "def AdaGrad_trace(f, init_x, init_h, lr = 0.1, step_num = 6000):\n",
    "    x = init_x\n",
    "    h = init_h\n",
    "    x_data[0] = x[0]\n",
    "    y_data[0] = x[1]\n",
    "    for i in range(1, step_num + 1):\n",
    "        grad = numerical_gradient(f, x)\n",
    "        h =  h + grad * grad\n",
    "        x -= lr * (1/np.sqrt(h)) * grad\n",
    "        x_data[i] = x[0]\n",
    "        y_data[i] = x[1]\n",
    "    return x_data, y_data\n",
    "\n",
    "def Function(x):\n",
    "    return x[0]**2 + x[1]**2\n",
    "\n",
    "init_position = np.array([-9.0, 5.0])\n",
    "init_h = np.array([1.0, -3.0])\n",
    "x_data = np.zeros(6001)\n",
    "y_data = np.zeros(6001)\n",
    "AdaGrad_trace(Function, init_x = init_position, init_h = init_h,\n",
    "                 lr = 0.1, step_num = 6000)\n",
    "#畫圖\n",
    "x = np.arange(-10.0, 10.0, 0.01)\n",
    "y = np.arange(-10.0, 10.0, 0.01)\n",
    "X, Y = np.meshgrid(x, y)\n",
    "z = X**2 + Y**2\n",
    "\n",
    "fig, axe = plt.subplots(1, 1, figsize=(8, 4))\n",
    "cs = axe.contour(X, Y, z, 10)\n",
    "fig.colorbar(cs, shrink = 0.9)\n",
    "axe.scatter(x_data, y_data, color = 'black', lw = 0.1)\n",
    "axe.set_title(\"AdaGrad\", fontsize = 15)\n",
    "axe.set_xlabel('x')\n",
    "axe.set_ylabel('y')\n",
    "axe.set_xlim(-10, 10)\n",
    "axe.set_ylim(-10, 10)\n",
    "plt.show()"
   ]
  },
  {
   "cell_type": "markdown",
   "metadata": {},
   "source": [
    "AdaGrad 軌跡動態圖"
   ]
  },
  {
   "cell_type": "code",
   "execution_count": 18,
   "metadata": {
    "collapsed": true
   },
   "outputs": [],
   "source": [
    "#畫圖就可以顯示在 GUI 裡(開啟新視窗)\n",
    "%matplotlib qt\n",
    "import numpy as np\n",
    "import matplotlib.pyplot as plt\n",
    "# 解決更改字型後，儲存影像是負號 '-'，但顯示為方塊的問題\n",
    "plt.rcParams[\"axes.unicode_minus\"] = False\n",
    "import matplotlib.animation as animation\n",
    "\n",
    "#使用生成器構建每一幀的傳入數據\n",
    "update_num = 6001\n",
    "def data_gen(t=0):\n",
    "    cnt = 0\n",
    "    while cnt < update_num:\n",
    "        cnt += 1\n",
    "        t += 1\n",
    "        yield x_data[t-1], y_data[t-1]\n",
    "\n",
    "#全域變量\n",
    "fig, ax = plt.subplots(1, 1, figsize=(10, 6))\n",
    "point, = ax.plot([], [], lw=2, color = 'black')      #刷新的關键部分\n",
    "xdata, ydata = [], []\n",
    "\n",
    "ax.scatter(x_data[0], y_data[0], color = 'black', lw = 3)\n",
    "xo = np.arange(-10.0, 10.0, 0.01)\n",
    "yo = np.arange(-10.0, 10.0, 0.01)\n",
    "X, Y = np.meshgrid(xo, yo)\n",
    "z = X**2 + Y**2\n",
    "cs = ax.contour(X, Y, z, 10)\n",
    "fig.colorbar(cs, shrink = 0.9)\n",
    "ax.set_title(\"AdaGrad\", fontsize = 15)\n",
    "ax.set_xlabel('x')\n",
    "ax.set_ylabel('y')\n",
    "\n",
    "#第一幀的内容\n",
    "def init():\n",
    "    ax.set_ylim(-10, 10)\n",
    "    ax.set_xlim(-10, 10)\n",
    "    del xdata[:]\n",
    "    del ydata[:]\n",
    "    point.set_data(xdata, ydata)    \n",
    "    return point,\n",
    "\n",
    "#刷新圖片的函数\n",
    "def update(data):\n",
    "    x, y = data\n",
    "    xdata.append(x)\n",
    "    ydata.append(y)    \n",
    "    point.set_data(xdata, ydata)\n",
    "    return point,\n",
    "\n",
    "ani = animation.FuncAnimation(fig, update, data_gen, blit = False, interval = 0.1,\n",
    "                              repeat = True, init_func = init)"
   ]
  },
  {
   "cell_type": "markdown",
   "metadata": {},
   "source": [
    "#### Adam\n",
    "$$\\vec{m}^{\\left ( t+1 \\right )}=\\beta_{1}\\vec{m}^{\\left ( t \\right )}+\\left ( 1-\\beta _{1} \\right )\\frac{\\partial f}{\\partial \\vec{x}^{\\left ( t \\right )}}$$\n",
    "\n",
    "$$\\vec{v}^{\\left ( t+1 \\right )}=\\beta_{2}\\vec{v}^{\\left ( t \\right )}+\\left ( 1-\\beta _{2} \\right )\\frac{\\partial f}{\\partial \\vec{x}^{\\left ( t \\right )}}\\odot\\frac{\\partial f}{\\partial \\vec{x}^{\\left ( t \\right )}}$$\n",
    "\n",
    "$$\\hat{m}=\\frac{\\vec{m}^{\\left ( t+1 \\right )}}{1-\\beta _{1}}$$\n",
    "\n",
    "$$\\hat{v}=\\frac{\\vec{v}^{\\left ( t+1 \\right )}}{1-\\beta _{2}}$$\n",
    "\n",
    "$$\\vec{x}^{\\left ( t+1 \\right )}=\\vec{x}^{\\left ( t \\right )}-\\eta \\frac{\\hat{m}}{\\sqrt{\\hat{v}}+\\epsilon }$$\n"
   ]
  },
  {
   "cell_type": "code",
   "execution_count": 3,
   "metadata": {},
   "outputs": [
    {
     "data": {
      "text/plain": [
       "array([-0.50697991, -0.03735005])"
      ]
     },
     "execution_count": 3,
     "metadata": {},
     "output_type": "execute_result"
    }
   ],
   "source": [
    "import numpy as np\n",
    "#定義 Adam 方法 (超參數(hyperparameter): beta_1, beta_2, lr)\n",
    "def Adam(f, init_x, init_m, init_v, beta_1 = 0.9, beta_2 = 0.999, lr = 0.1,\n",
    "         epsilon = 1e-8, step_num = 100):\n",
    "    x = init_x\n",
    "    m = init_m\n",
    "    v = init_v\n",
    "    for i in range(step_num):\n",
    "        grad = numerical_gradient(f, x)\n",
    "        m = beta_1 * m + (1 - beta_1) * grad\n",
    "        v = beta_2 * v + (1 - beta_2) * grad ** 2\n",
    "        hat_m = m / (1 - beta_1)\n",
    "        hat_v = v / (1 - beta_2)\n",
    "        x -= lr * (hat_m / (np.sqrt(hat_v) + epsilon))\n",
    "    return x\n",
    "\n",
    "#範例函數\n",
    "def Function(x):\n",
    "    return x[0]**2 + x[1]**2\n",
    "\n",
    "#隨機的起始值\n",
    "init_x = np.array([-9.0, 5.0])\n",
    "init_m = np.array([1.0, -3.0])\n",
    "init_v = np.array([1.0, 1.0])\n",
    "\n",
    "#執行梯度\n",
    "Adam(Function, init_x = init_x, init_m = init_m, init_v = init_v, beta_1 = 0.9,\n",
    "     beta_2 = 0.999, lr = 0.1, epsilon = 1e-8, step_num = 100)"
   ]
  },
  {
   "cell_type": "markdown",
   "metadata": {},
   "source": [
    "Adam 軌跡圖"
   ]
  },
  {
   "cell_type": "code",
   "execution_count": 5,
   "metadata": {},
   "outputs": [
    {
     "data": {
      "image/png": "[encoded data removed]",
      "text/plain": [
       "<matplotlib.figure.Figure at 0x72dc438>"
      ]
     },
     "metadata": {},
     "output_type": "display_data"
    }
   ],
   "source": [
    "import numpy as np\n",
    "import matplotlib.pyplot as plt\n",
    "# 解決更改字型後，儲存影像是負號 '-'，但顯示為方塊的問題\n",
    "plt.rcParams[\"axes.unicode_minus\"] = False\n",
    "\n",
    "#紀錄軌跡\n",
    "def Adam_trace(f, init_x, init_m, init_v, beta_1 = 0.9, beta_2 = 0.999,\n",
    "               lr = 0.1, epsilon = 1e-8, step_num = 100):\n",
    "    x = init_x\n",
    "    m = init_m\n",
    "    v = init_v\n",
    "    x_data[0] = x[0]\n",
    "    y_data[0] = x[1]\n",
    "    for i in range(1, step_num + 1):\n",
    "        grad = numerical_gradient(f, x)\n",
    "        m = beta_1 * m + (1 - beta_1) * grad\n",
    "        v = beta_2 * v + (1 - beta_2) * grad ** 2\n",
    "        hat_m = m / (1 - beta_1)\n",
    "        hat_v = v / (1 - beta_2)\n",
    "        x -= lr * (hat_m / (np.sqrt(hat_v) + epsilon))\n",
    "        x_data[i] = x[0]\n",
    "        y_data[i] = x[1]\n",
    "    return x_data, y_data\n",
    "\n",
    "def Function(x):\n",
    "    return x[0]**2 + x[1]**2\n",
    "\n",
    "init_position = np.array([-9.0, 5.0])\n",
    "init_m = np.array([1.0, -3.0])\n",
    "init_v = np.array([1.0, 1.0])\n",
    "x_data = np.zeros(101)\n",
    "y_data = np.zeros(101)\n",
    "Adam_trace(Function, init_x = init_position, init_m = init_m, init_v = init_v,\n",
    "           beta_1 = 0.9, beta_2 = 0.999, lr = 0.1, epsilon = 1e-8,\n",
    "           step_num = 100)\n",
    "#畫圖\n",
    "x = np.arange(-10.0, 10.0, 0.01)\n",
    "y = np.arange(-10.0, 10.0, 0.01)\n",
    "X, Y = np.meshgrid(x, y)\n",
    "z = X**2 + Y**2\n",
    "\n",
    "fig, axe = plt.subplots(1, 1, figsize=(8, 4))\n",
    "cs = axe.contour(X, Y, z, 10)\n",
    "fig.colorbar(cs, shrink = 0.9)\n",
    "axe.scatter(x_data, y_data, color = 'black', lw = 0.1)\n",
    "axe.set_title(\"Adam\", fontsize = 15)\n",
    "axe.set_xlabel('x')\n",
    "axe.set_ylabel('y')\n",
    "axe.set_xlim(-10, 10)\n",
    "axe.set_ylim(-10, 10)\n",
    "plt.show()"
   ]
  },
  {
   "cell_type": "markdown",
   "metadata": {},
   "source": [
    "Adam 軌跡動態圖"
   ]
  },
  {
   "cell_type": "code",
   "execution_count": 6,
   "metadata": {
    "collapsed": true
   },
   "outputs": [],
   "source": [
    "#畫圖就可以顯示在 GUI 裡(開啟新視窗)\n",
    "%matplotlib qt\n",
    "import numpy as np\n",
    "import matplotlib.pyplot as plt\n",
    "# 解決更改字型後，儲存影像是負號 '-'，但顯示為方塊的問題\n",
    "plt.rcParams[\"axes.unicode_minus\"] = False\n",
    "import matplotlib.animation as animation\n",
    "\n",
    "#使用生成器構建每一幀的傳入數據\n",
    "update_num = 101\n",
    "def data_gen(t=0):\n",
    "    cnt = 0\n",
    "    while cnt < update_num:\n",
    "        cnt += 1\n",
    "        t += 1\n",
    "        yield x_data[t-1], y_data[t-1]\n",
    "\n",
    "#全域變量\n",
    "fig, ax = plt.subplots(1, 1, figsize=(10, 6))\n",
    "point, = ax.plot([], [], lw=2, color = 'black')      #刷新的關键部分\n",
    "xdata, ydata = [], []\n",
    "\n",
    "ax.scatter(x_data[0], y_data[0], color = 'black', lw = 3)\n",
    "xo = np.arange(-10.0, 10.0, 0.01)\n",
    "yo = np.arange(-10.0, 10.0, 0.01)\n",
    "X, Y = np.meshgrid(xo, yo)\n",
    "z = X**2 + Y**2\n",
    "cs = ax.contour(X, Y, z, 10)\n",
    "fig.colorbar(cs, shrink = 0.9)\n",
    "ax.set_title(\"Adam\", fontsize = 15)\n",
    "ax.set_xlabel('x')\n",
    "ax.set_ylabel('y')\n",
    "\n",
    "#第一幀的内容\n",
    "def init():\n",
    "    ax.set_ylim(-10, 10)\n",
    "    ax.set_xlim(-10, 10)\n",
    "    del xdata[:]\n",
    "    del ydata[:]\n",
    "    point.set_data(xdata, ydata)    \n",
    "    return point,\n",
    "\n",
    "#刷新圖片的函数\n",
    "def update(data):\n",
    "    x, y = data\n",
    "    xdata.append(x)\n",
    "    ydata.append(y)    \n",
    "    point.set_data(xdata, ydata)\n",
    "    return point,\n",
    "\n",
    "ani = animation.FuncAnimation(fig, update, data_gen, blit = False, interval = 0.1,\n",
    "                              repeat = True, init_func = init)"
   ]
  },
  {
   "cell_type": "markdown",
   "metadata": {},
   "source": [
    "#### 四種方法的軌跡動態圖比較"
   ]
  },
  {
   "cell_type": "code",
   "execution_count": 5,
   "metadata": {
    "collapsed": true
   },
   "outputs": [],
   "source": [
    "#畫圖就可以顯示在 GUI 裡(開啟新視窗)\n",
    "%matplotlib qt\n",
    "import numpy as np\n",
    "import matplotlib.pyplot as plt\n",
    "# 解決更改字型後，儲存影像是負號 '-'，但顯示為方塊的問題\n",
    "plt.rcParams[\"axes.unicode_minus\"] = False\n",
    "import matplotlib.animation as animation\n",
    "\n",
    "#定義函數\n",
    "def Function_2(x):\n",
    "    return 3 * (1 - x[0])**2 * np.exp(- x[0]**2 - (x[1] + 1)**2) - 10 * (x[0]/5- x[0]**3 - x[1]**5) * np.exp(- x[0]**2 - x[1]**2) - 1/3 * np.exp(- (x[0] + 1)**2 - x[1]**2)\n",
    "\n",
    "#定義各種方法\n",
    "def gradient_descent_trace(f, init_x, lr = 0.1, step_num = 100):\n",
    "    x = init_x\n",
    "    SGD_x_data[0] = x[0]\n",
    "    SGD_y_data[0] = x[1]\n",
    "    for i in range(1, step_num + 1):\n",
    "        grad = numerical_gradient(f, x)\n",
    "        x -= lr*grad\n",
    "        SGD_x_data[i] = x[0]\n",
    "        SGD_y_data[i] = x[1]\n",
    "    return SGD_x_data, SGD_y_data\n",
    "\n",
    "SGD_init_position = np.array([0.0, 1.0])\n",
    "SGD_x_data = np.zeros(101)\n",
    "SGD_y_data = np.zeros(101)\n",
    "gradient_descent_trace(Function_2, init_x = SGD_init_position, lr = 0.1,\n",
    "                       step_num = 100)\n",
    "\n",
    "def momentum_trace(f, init_x, init_v, lr = 0.1, alpha = 0.1, step_num = 100):\n",
    "    x = init_x\n",
    "    v = init_v\n",
    "    momentum_x_data[0] = x[0]\n",
    "    momentum_y_data[0] = x[1]\n",
    "    for i in range(1, step_num + 1):\n",
    "        grad = numerical_gradient(f, x)\n",
    "        v = alpha * v - lr * grad\n",
    "        x += v\n",
    "        momentum_x_data[i] = x[0]\n",
    "        momentum_y_data[i] = x[1]\n",
    "    return momentum_x_data, momentum_y_data\n",
    "\n",
    "momentum_init_position = np.array([0.0, 1.0])\n",
    "momentum_init_velocity = np.array([0.5, -1.0])\n",
    "momentum_x_data = np.zeros(101)\n",
    "momentum_y_data = np.zeros(101)\n",
    "momentum_trace(Function_2, init_x = momentum_init_position, \n",
    "               init_v = momentum_init_velocity, lr = 0.1, alpha = 0.1,\n",
    "               step_num = 100)\n",
    "\n",
    "def AdaGrad_trace(f, init_x, init_h, lr = 0.1, step_num = 100):\n",
    "    x = init_x\n",
    "    h = init_h\n",
    "    AdaGrad_x_data[0] = x[0]\n",
    "    AdaGrad_y_data[0] = x[1]\n",
    "    for i in range(1, step_num + 1):\n",
    "        grad = numerical_gradient(f, x)\n",
    "        h =  h + grad * grad\n",
    "        x -= lr * (1/np.sqrt(h)) * grad\n",
    "        AdaGrad_x_data[i] = x[0]\n",
    "        AdaGrad_y_data[i] = x[1]\n",
    "    return AdaGrad_x_data, AdaGrad_y_data\n",
    "\n",
    "AdaGrad_init_position = np.array([0.0, 1.0])\n",
    "AdaGrad_init_h = np.array([1.0, -3.0])\n",
    "AdaGrad_x_data = np.zeros(101)\n",
    "AdaGrad_y_data = np.zeros(101)\n",
    "AdaGrad_trace(Function_2, init_x = AdaGrad_init_position, init_h = AdaGrad_init_h,\n",
    "                 lr = 0.1, step_num = 100)\n",
    "\n",
    "def Adam_trace(f, init_x, init_m, init_v, beta_1 = 0.9, beta_2 = 0.999,\n",
    "               lr = 0.1, epsilon = 1e-8, step_num = 100):\n",
    "    x = init_x\n",
    "    m = init_m\n",
    "    v = init_v\n",
    "    Adam_x_data[0] = x[0]\n",
    "    Adam_y_data[0] = x[1]\n",
    "    for i in range(1, step_num + 1):\n",
    "        grad = numerical_gradient(f, x)\n",
    "        m = beta_1 * m + (1 - beta_1) * grad\n",
    "        v = beta_2 * v + (1 - beta_2) * grad ** 2\n",
    "        hat_m = m / (1 - beta_1)\n",
    "        hat_v = v / (1 - beta_2)\n",
    "        x -= lr * (hat_m / (np.sqrt(hat_v) + epsilon))\n",
    "        Adam_x_data[i] = x[0]\n",
    "        Adam_y_data[i] = x[1]\n",
    "    return Adam_x_data, Adam_y_data\n",
    "\n",
    "Adam_init_position = np.array([0.0, 1.0])\n",
    "Adam_init_m = np.array([1.0, -3.0])\n",
    "Adam_init_v = np.array([1.0, 1.0])\n",
    "Adam_x_data = np.zeros(101)\n",
    "Adam_y_data = np.zeros(101)\n",
    "Adam_trace(Function_2, init_x = Adam_init_position, init_m = Adam_init_m,\n",
    "           init_v = Adam_init_v, beta_1 = 0.9, beta_2 = 0.999, lr = 0.1,\n",
    "           epsilon = 1e-8, step_num = 100)\n",
    "\n",
    "#使用生成器構建每一幀的傳入數據\n",
    "update_num = 101\n",
    "def data_gen(t=0):\n",
    "    cnt = 0\n",
    "    while cnt < update_num:\n",
    "        cnt += 1\n",
    "        t += 1\n",
    "        yield SGD_x_data[t-1], SGD_y_data[t-1], momentum_x_data[t-1], momentum_y_data[t-1], AdaGrad_x_data[t-1], AdaGrad_y_data[t-1], Adam_x_data[t-1], Adam_y_data[t-1]\n",
    "\n",
    "#製造圖形\n",
    "fig, ax = plt.subplots(2, 2, figsize=(10, 6))\n",
    "\n",
    "plt.subplots_adjust(wspace = 0.4, hspace = 0.4)              #調整子圖間距\n",
    "\n",
    "# [註]:位置參數(positional argument)不能在關鍵詞參數(keyword argument)之後出現\n",
    "# [註]:位置參數(positional argument)有優先權\n",
    "point_0, = ax[0][0].plot([], [], lw = 2, color = 'black')      #刷新的關键部分\n",
    "point_1, = ax[0][1].plot([], [], lw = 2, color = 'black')      #刷新的關键部分\n",
    "point_2, = ax[1][0].plot([], [], lw = 2, color = 'black')  #刷新的關键部分\n",
    "point_3, = ax[1][1].plot([], [], lw = 2, color = 'black')  #刷新的關键部分\n",
    "\n",
    "SGD_xdata, SGD_ydata = [], []\n",
    "momentum_xdata, momentum_ydata = [], []\n",
    "AdaGrad_xdata, AdaGrad_ydata = [], []\n",
    "Adam_xdata, Adam_ydata = [], []\n",
    "\n",
    "ax[0][0].scatter(SGD_x_data[0], SGD_y_data[0], color = 'black', lw = 3)\n",
    "ax[0][1].scatter(momentum_x_data[0], momentum_y_data[0], color = 'black', lw = 3)\n",
    "ax[1][0].scatter(AdaGrad_x_data[0], AdaGrad_y_data[0], color = 'black', lw = 3)\n",
    "ax[1][1].scatter(Adam_x_data[0], Adam_y_data[0], color = 'black', lw = 3)\n",
    "\n",
    "xo = np.arange(-1.0, 1.0, 0.01)\n",
    "yo = np.arange(-1.0, 1.0, 0.01)\n",
    "X, Y = np.meshgrid(xo, yo)\n",
    "z = 3 * (1 - X)**2 * np.exp(- X**2 - (Y + 1)**2) - 10 * (X/5- X**3 - Y**5) * np.exp(- X**2 - Y**2) - 1/3 * np.exp(- (X + 1)**2 - Y**2)\n",
    "\n",
    "cs_0 = ax[0][0].contourf(X, Y, z, 10)\n",
    "cs_1 = ax[0][1].contourf(X, Y, z, 10)\n",
    "cs_2 = ax[1][0].contourf(X, Y, z, 10)\n",
    "cs_3 = ax[1][1].contourf(X, Y, z, 10)\n",
    "\n",
    "fig.colorbar(cs_0, shrink = 0.9, extend='both', spacing='proportional', ax = ax[0][0])\n",
    "fig.colorbar(cs_1, shrink = 0.9, extend='both', spacing='proportional', ax = ax[0][1])\n",
    "fig.colorbar(cs_2, shrink = 0.9, extend='both', spacing='proportional', ax = ax[1][0])\n",
    "fig.colorbar(cs_3, shrink = 0.9, extend='both', spacing='proportional', ax = ax[1][1])\n",
    "\n",
    "ax[0][0].set_title(\"SGD\", fontsize = 15)\n",
    "ax[0][0].set_xlabel('x')\n",
    "ax[0][0].set_ylabel('y')\n",
    "ax[0][1].set_title(\"Momentum\", fontsize = 15)\n",
    "ax[0][1].set_xlabel('x')\n",
    "ax[0][1].set_ylabel('y')\n",
    "ax[1][0].set_title(\"AdaGrad\", fontsize = 15)\n",
    "ax[1][0].set_xlabel('x')\n",
    "ax[1][0].set_ylabel('y')\n",
    "ax[1][1].set_title(\"Adam\", fontsize = 15)\n",
    "ax[1][1].set_xlabel('x')\n",
    "ax[1][1].set_ylabel('y')\n",
    "\n",
    "#第一幀的内容\n",
    "def init():\n",
    "    ax[0][0].set_ylim(-1, 1)\n",
    "    ax[0][0].set_xlim(-1, 1)\n",
    "    ax[0][1].set_ylim(-1, 1)\n",
    "    ax[0][1].set_xlim(-1, 1)\n",
    "    ax[1][0].set_ylim(-1, 1)\n",
    "    ax[1][0].set_xlim(-1, 1)\n",
    "    ax[1][1].set_ylim(-1, 1)\n",
    "    ax[1][1].set_xlim(-1, 1)\n",
    "    \n",
    "    del SGD_xdata[:], momentum_xdata[:], AdaGrad_xdata[:], Adam_xdata[:]\n",
    "    del SGD_ydata[:], momentum_ydata[:], AdaGrad_ydata[:], Adam_ydata[:]\n",
    "    \n",
    "    point_0.set_data(SGD_xdata, SGD_ydata) \n",
    "    point_1.set_data(momentum_xdata, momentum_ydata)    \n",
    "    point_2.set_data(AdaGrad_xdata, AdaGrad_ydata)    \n",
    "    point_3.set_data(Adam_xdata, Adam_ydata)    \n",
    "    \n",
    "    return point_0, point_1, point_2, point_3\n",
    "\n",
    "#刷新圖片的函数\n",
    "def update(data):\n",
    "    SGD_x, SGD_y, momentum_x, momentum_y, AdaGrad_x, AdaGrad_y, Adam_x, Adam_y = data\n",
    "    \n",
    "    SGD_xdata.append(SGD_x)\n",
    "    SGD_ydata.append(SGD_y) \n",
    "    momentum_xdata.append(momentum_x)\n",
    "    momentum_ydata.append(momentum_y) \n",
    "    AdaGrad_xdata.append(AdaGrad_x)\n",
    "    AdaGrad_ydata.append(AdaGrad_y) \n",
    "    Adam_xdata.append(Adam_x)\n",
    "    Adam_ydata.append(Adam_y) \n",
    "    \n",
    "    point_0.set_data(SGD_xdata, SGD_ydata)\n",
    "    point_1.set_data(momentum_xdata, momentum_ydata)\n",
    "    point_2.set_data(AdaGrad_xdata, AdaGrad_ydata)\n",
    "    point_3.set_data(Adam_xdata, Adam_ydata)\n",
    "    \n",
    "    return point_0, point_1, point_2, point_3\n",
    "\n",
    "ani = animation.FuncAnimation(fig, update, data_gen, blit = False, interval = 100,\n",
    "                              repeat = True, init_func = init)\n",
    "\n",
    "ani.save('ani.mp4', fps = 5, writer = 'ffmpeg')"
   ]
  },
  {
   "cell_type": "markdown",
   "metadata": {},
   "source": [
    "## 神經網路的學習與測試"
   ]
  },
  {
   "cell_type": "markdown",
   "metadata": {},
   "source": [
    "* 建立神經網路的類別\n",
    "* 執行小批次學習\n",
    "* 用測試資料評估學習的結果"
   ]
  },
  {
   "cell_type": "markdown",
   "metadata": {},
   "source": [
    "#### 建立神經網路的類別"
   ]
  },
  {
   "cell_type": "code",
   "execution_count": 13,
   "metadata": {
    "collapsed": true
   },
   "outputs": [],
   "source": [
    "import numpy as np\n",
    "\n",
    "#定義隱藏層的活化函數\n",
    "def sigmoid(x):\n",
    "    return 1/(1 + np.exp(-x))\n",
    "\n",
    "#定義輸出層的活化函數\n",
    "def softmax(a):\n",
    "    c = np.max(a)\n",
    "    exp_a = np.exp(a - c)\n",
    "    sum_exp_a = np.sum(exp_a)\n",
    "    y = exp_a / sum_exp_a\n",
    "    return y\n",
    "\n",
    "#小批次處理的交叉熵誤差(cross entropy error) - 使用 one-hot-label\n",
    "def batch_cross_entropy_error(y, t):\n",
    "    if y.ndim == 1:\n",
    "        t = t.reshape(1, t.size)\n",
    "        y = y.reshape(1, y.size)\n",
    "        \n",
    "    batch_size = y.shape[0]\n",
    "    return -np.sum(t*np.log(y)) / batch_size\n",
    "\n",
    "#定義數值梯度\n",
    "def numerical_gradient(f, x):\n",
    "    h = 1e-4\n",
    "    grad = np.zeros_like(x)\n",
    "    \n",
    "    # np.nditer: numpy array自帶的迭代器\n",
    "    # flags=['multi_index']: 表示對 a 進行多重索引\n",
    "    # op_flags=['readwrite']: 表示不僅對 a 進行 read（讀取），還可以 write（寫入)\n",
    "    it = np.nditer(x, flags=['multi_index'], op_flags=['readwrite'])\n",
    "    while not it.finished:\n",
    "        # it.multi_index: 表示元素的索引，可以看到結果都是 index\n",
    "        idx = it.multi_index\n",
    "        tmp_val = x[idx]\n",
    "        \n",
    "        x[idx] = float(tmp_val) + h\n",
    "        fxh1 = f(x)\n",
    "        \n",
    "        x[idx] = float(tmp_val) - h \n",
    "        fxh2 = f(x)\n",
    "        \n",
    "        grad[idx] = (fxh1 - fxh2) / (2*h)\n",
    "                \n",
    "        x[idx] = tmp_val\n",
    "        # it.iternext(): 表示進入下一次迭代\n",
    "        it.iternext()   \n",
    "   \n",
    "    return grad\n",
    "\n",
    "#-------------------------------------------------------------------------------\n",
    "#定義雙層網路的類別\n",
    "class two_layer_net:\n",
    "    \n",
    "    #定義初始化雙層神經網路中的權重與偏權值之函數\n",
    "    def __init__(self, input_size, hidden_size, output_size,\n",
    "             weight_init_std = 0.01):\n",
    "        self.params = {}\n",
    "        self.params['W1'] = weight_init_std*np.random.randn(input_size, hidden_size)\n",
    "        self.params['b1'] = np.zeros(hidden_size)\n",
    "        self.params['W2'] = weight_init_std*np.random.randn(hidden_size, output_size)\n",
    "        self.params['b2'] = np.zeros(output_size)\n",
    "        \n",
    "    #定義雙層神經網路向前傳播的過程\n",
    "    def forward(self, x):\n",
    "        W1, W2 = self.params['W1'], self.params['W2']\n",
    "        b1, b2 = self.params['b1'], self.params['b2']\n",
    "    \n",
    "        a1 = np.dot(x, W1) + b1\n",
    "        z1 = sigmoid(a1)\n",
    "        a2 = np.dot(z1, W2) + b2\n",
    "        y = softmax(a2)\n",
    "    \n",
    "        return y\n",
    "\n",
    "    #定義損失函數\n",
    "    def loss(self, x, t):\n",
    "        y = self.forward(x)\n",
    "        \n",
    "        return batch_cross_entropy_error(y, t)\n",
    "    \n",
    "    #定義數值梯度\n",
    "    def numerical_gradient(self, x, t):\n",
    "        loss_W = lambda W: self.loss(x, t)\n",
    "        \n",
    "        grads = {}\n",
    "        grads['W1'] = numerical_gradient(loss_W, self.params['W1'])\n",
    "        grads['b1'] = numerical_gradient(loss_W, self.params['b1'])\n",
    "        grads['W2'] = numerical_gradient(loss_W, self.params['W2'])\n",
    "        grads['b2'] = numerical_gradient(loss_W, self.params['b2'])\n",
    "\n",
    "        return grads\n",
    "    \n",
    "    #計算準確度\n",
    "    def accuracy(self, x, t):\n",
    "        y = self.forward(x)\n",
    "        y = np.argmax(y, axis = 1)\n",
    "        t = np.argmax(t, axis = 1)\n",
    "        \n",
    "        accuracy= np.sum(y == t) / float(x.shape[0])\n",
    "        \n",
    "        return accuracy"
   ]
  },
  {
   "cell_type": "markdown",
   "metadata": {},
   "source": [
    "#### 執行小批次學習"
   ]
  },
  {
   "cell_type": "code",
   "execution_count": 22,
   "metadata": {
    "scrolled": false
   },
   "outputs": [
    {
     "name": "stdout",
     "output_type": "stream",
     "text": [
      "(train acc, test acc) = (0.112366666667,0.1135)\n",
      "[∎∎∎∎∎∎∎∎∎∎∎∎∎∎∎∎∎∎∎∎∎∎∎∎∎∎∎∎∎∎∎∎∎∎∎∎∎∎∎∎∎∎∎∎∎∎∎∎∎∎]100.00%\n",
      "計算完成\n"
     ]
    }
   ],
   "source": [
    "%matplotlib inline\n",
    "import numpy as np\n",
    "import matplotlib.pyplot as plt\n",
    "from dataset.mnist import load_mnist\n",
    "from ProcessBar.Process_Bar import *\n",
    "\n",
    "#取得資料\n",
    "(x_train, t_train), (x_test, t_test) = \\\n",
    "    load_mnist(flatten = True, normalize = True, one_hot_label = True)\n",
    "\n",
    "#設定神經網路\n",
    "network = two_layer_net(input_size = 784, hidden_size = 50, output_size = 10)\n",
    "\n",
    "#設定超參數\n",
    "iters_num = 200\n",
    "train_size = x_train.shape[0]\n",
    "batch_size = 100\n",
    "lr = 0.1\n",
    "\n",
    "#建立訓練過程中的損失函數值列表\n",
    "train_loss_list = []\n",
    "\n",
    "#建立訓練與測試資料的辯識準確度列表\n",
    "train_acc_list = []\n",
    "test_acc_list = []\n",
    "\n",
    "# 每一週期的重複次數\n",
    "iter_per_epoch = max(train_size/batch_size, 1)\n",
    "\n",
    "#建立進度條\n",
    "process_bar = ShowProcess(iters_num, '計算完成')\n",
    "\n",
    "#執行小批次學習\n",
    "for i in range(iters_num):\n",
    "    #取得小批次\n",
    "    batch_mask = np.random.choice(train_size, batch_size)\n",
    "    x_batch = x_train[batch_mask]\n",
    "    t_batch = t_train[batch_mask]\n",
    "    \n",
    "    #計算梯度\n",
    "    grad = network.numerical_gradient(x_batch, t_batch)\n",
    "    #grad = network.gradient(x_batch, t_batch)\n",
    "    \n",
    "    #更新參數\n",
    "    for key in ('W1', 'b1', 'W2', 'b2'):\n",
    "        network.params[key] -= lr * grad[key]\n",
    "        \n",
    "    #紀錄學習過程\n",
    "    loss = network.loss(x_batch, t_batch)\n",
    "    train_loss_list.append(loss)\n",
    "    \n",
    "    #計算一個周期的辯識準確度\n",
    "    if i % iter_per_epoch == 0:\n",
    "        train_acc = network.accuracy(x_train, t_train)\n",
    "        test_acc = network.accuracy(x_test, t_test)\n",
    "        train_acc_list.append(train_acc)\n",
    "        test_acc_list.append(test_acc)\n",
    "        print(\"(train acc, test acc) = \" + \"(\" + str(train_acc) + \",\" + str(test_acc) + \")\")\n",
    "    \n",
    "    #顯示當前進度\n",
    "    process_bar.show_process()\n",
    "    time.sleep(0.01)"
   ]
  },
  {
   "cell_type": "markdown",
   "metadata": {},
   "source": [
    "#### 損失函數變化圖"
   ]
  },
  {
   "cell_type": "code",
   "execution_count": 26,
   "metadata": {},
   "outputs": [
    {
     "data": {
      "text/plain": [
       "<matplotlib.text.Text at 0x8f217b8>"
      ]
     },
     "execution_count": 26,
     "metadata": {},
     "output_type": "execute_result"
    },
    {
     "data": {
      "image/png": "[encoded data removed]",
      "text/plain": [
       "<matplotlib.figure.Figure at 0x8250320>"
      ]
     },
     "metadata": {},
     "output_type": "display_data"
    }
   ],
   "source": [
    "fig, ax = plt.subplots(1, 1, figsize=(8, 4))\n",
    "ax.plot(np.arange(1, iters_num + 1), train_loss_list, color='b', lw=2)\n",
    "ax.set_ylim(6.5, 7)\n",
    "ax.set_title(\"Loss function\", fontsize = 15)\n",
    "ax.set_xlabel(\"iters_num\", fontsize = 12)"
   ]
  },
  {
   "cell_type": "markdown",
   "metadata": {},
   "source": [
    "#### 用測試資料評估學習的結果: 辯識準確度變化圖"
   ]
  },
  {
   "cell_type": "code",
   "execution_count": null,
   "metadata": {
    "collapsed": true
   },
   "outputs": [],
   "source": [
    "fig, ax = plt.subplots(1, 1, figsize=(8, 4))\n",
    "ax.plot(np.arange(int(iters_num/iter_per_epoch)), train_acc_list, color='r', linestyle=\"-\", marker=\"o\", lw=2, label=\"train_acc_list\")\n",
    "ax.plot(np.arange(int(iters_num/iter_per_epoch)), test_acc_list, color='k', linestyle=\"--\", marker=\"^\", lw=2, label=\"test_acc_list\")\n",
    "ax.set_ylim(0.7, 1)\n",
    "ax.set_xlabel(\"epochs\", fontsize = 12)\n",
    "ax.set_ylabel(\"accuracy\", fontsize = 12)\n",
    "plt.legend(loc='upper left', bbox_to_anchor=(0.7, 0.3))"
   ]
  }
 ],
 "metadata": {
  "kernelspec": {
   "display_name": "Python 3",
   "language": "python",
   "name": "python3"
  },
  "language_info": {
   "codemirror_mode": {
    "name": "ipython",
    "version": 3
   },
   "file_extension": ".py",
   "mimetype": "text/x-python",
   "name": "python",
   "nbconvert_exporter": "python",
   "pygments_lexer": "ipython3",
   "version": "3.5.4"
  }
 },
 "nbformat": 4,
 "nbformat_minor": 2
}
